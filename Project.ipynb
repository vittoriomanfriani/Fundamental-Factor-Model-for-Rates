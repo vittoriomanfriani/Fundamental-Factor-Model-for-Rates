{
 "cells": [
  {
   "metadata": {},
   "cell_type": "markdown",
   "source": "# Imports",
   "id": "e6899d6865ea8c1a"
  },
  {
   "metadata": {
    "ExecuteTime": {
     "end_time": "2025-03-18T11:58:43.125258Z",
     "start_time": "2025-03-18T11:58:43.105694Z"
    }
   },
   "cell_type": "code",
   "source": [
    "# Import necessary modules\n",
    "import SpotCurve.Spot_Curve_Calculator as sc\n",
    "import matplotlib.pyplot as plt\n",
    "import pandas as pd\n",
    "import mpl_bsic\n",
    "import importlib\n",
    "import Returns.RollDown as rd\n",
    "from Utils.data_processing import process_data\n",
    "import Utils.CrossSectional_Regression as csr\n",
    "import numpy as np\n",
    "\n",
    "# Reload modules to reflect any recent changes during development\n",
    "importlib.reload(sc)\n",
    "importlib.reload(rd)\n",
    "importlib.reload(csr)"
   ],
   "id": "53e4a62e3e0cf614",
   "outputs": [
    {
     "data": {
      "text/plain": [
       "<module 'Utils.CrossSectional_Regression' from '/Users/vittoriomanfriani/PycharmProjects/backtesting series - episode 3/Utils/CrossSectional_Regression.py'>"
      ]
     },
     "execution_count": 26,
     "metadata": {},
     "output_type": "execute_result"
    }
   ],
   "execution_count": 26
  },
  {
   "metadata": {},
   "cell_type": "markdown",
   "source": "# Load Data",
   "id": "c861d56862e7fabb"
  },
  {
   "metadata": {
    "ExecuteTime": {
     "end_time": "2025-03-18T11:58:49.862893Z",
     "start_time": "2025-03-18T11:58:43.172526Z"
    }
   },
   "cell_type": "code",
   "source": [
    "# Read data from the Parquet file\n",
    "data = pd.read_parquet('/Users/vittoriomanfriani/Desktop/BSIC/Datasets/bond_data_auction.parquet')\n",
    "\n",
    "# Filter data to include only dates between 2010-01-01 and 2024-10-02\n",
    "data = data.loc[\n",
    "    (data.index.get_level_values(0) >= '2010-01-01') &\n",
    "    (data.index.get_level_values(0) <= '2024-10-02')\n",
    "]"
   ],
   "id": "99de111d2385a4e2",
   "outputs": [],
   "execution_count": 27
  },
  {
   "metadata": {},
   "cell_type": "markdown",
   "source": "# Apply Bootstrapper",
   "id": "9cf803fb3158a681"
  },
  {
   "metadata": {
    "ExecuteTime": {
     "end_time": "2025-03-18T11:58:49.887294Z",
     "start_time": "2025-03-18T11:58:49.881956Z"
    }
   },
   "cell_type": "code",
   "source": "spot_rates_calculator = sc.SpotRatesCalculator()",
   "id": "80cb981349ed8cc",
   "outputs": [],
   "execution_count": 28
  },
  {
   "metadata": {
    "ExecuteTime": {
     "end_time": "2025-03-18T11:59:49.147337Z",
     "start_time": "2025-03-18T11:58:49.905743Z"
    }
   },
   "cell_type": "code",
   "source": "zero_curve_df = spot_rates_calculator.apply_bootstrapper(data,freq = 'monthly')",
   "id": "6c2f9334970c3fcf",
   "outputs": [
    {
     "name": "stderr",
     "output_type": "stream",
     "text": [
      "100%|██████████| 3847/3847 [00:59<00:00, 65.17it/s]\n"
     ]
    }
   ],
   "execution_count": 29
  },
  {
   "metadata": {},
   "cell_type": "markdown",
   "source": "# Apply Nelson Siegel",
   "id": "ffd87647bc68c16a"
  },
  {
   "metadata": {
    "ExecuteTime": {
     "end_time": "2025-03-18T12:00:08.799879Z",
     "start_time": "2025-03-18T11:59:49.164369Z"
    }
   },
   "cell_type": "code",
   "source": [
    "loadings_df = spot_rates_calculator.apply_nelson_siegel(zero_curve_df, ridge=False)\n",
    "loadings_df.head()"
   ],
   "id": "bc78281fa04650c0",
   "outputs": [
    {
     "name": "stderr",
     "output_type": "stream",
     "text": [
      "100%|██████████| 3847/3847 [00:19<00:00, 196.22it/s]\n"
     ]
    },
    {
     "data": {
      "text/plain": [
       "            Beta0 (Level)  Beta1 (Slope)  Beta2 (Curvature)    Lambda\n",
       "Date                                                                 \n",
       "2010-01-01       5.542589      -5.547200          -5.629157  1.278908\n",
       "2010-01-04       5.582772      -5.127560          -6.927929  1.222107\n",
       "2010-01-05       5.572988      -5.393660          -6.338745  1.292496\n",
       "2010-01-06       5.674110      -5.320243          -6.968138  1.260995\n",
       "2010-01-07       5.665842      -5.687023          -5.896394  1.335637"
      ],
      "text/html": [
       "<div>\n",
       "<style scoped>\n",
       "    .dataframe tbody tr th:only-of-type {\n",
       "        vertical-align: middle;\n",
       "    }\n",
       "\n",
       "    .dataframe tbody tr th {\n",
       "        vertical-align: top;\n",
       "    }\n",
       "\n",
       "    .dataframe thead th {\n",
       "        text-align: right;\n",
       "    }\n",
       "</style>\n",
       "<table border=\"1\" class=\"dataframe\">\n",
       "  <thead>\n",
       "    <tr style=\"text-align: right;\">\n",
       "      <th></th>\n",
       "      <th>Beta0 (Level)</th>\n",
       "      <th>Beta1 (Slope)</th>\n",
       "      <th>Beta2 (Curvature)</th>\n",
       "      <th>Lambda</th>\n",
       "    </tr>\n",
       "    <tr>\n",
       "      <th>Date</th>\n",
       "      <th></th>\n",
       "      <th></th>\n",
       "      <th></th>\n",
       "      <th></th>\n",
       "    </tr>\n",
       "  </thead>\n",
       "  <tbody>\n",
       "    <tr>\n",
       "      <th>2010-01-01</th>\n",
       "      <td>5.542589</td>\n",
       "      <td>-5.547200</td>\n",
       "      <td>-5.629157</td>\n",
       "      <td>1.278908</td>\n",
       "    </tr>\n",
       "    <tr>\n",
       "      <th>2010-01-04</th>\n",
       "      <td>5.582772</td>\n",
       "      <td>-5.127560</td>\n",
       "      <td>-6.927929</td>\n",
       "      <td>1.222107</td>\n",
       "    </tr>\n",
       "    <tr>\n",
       "      <th>2010-01-05</th>\n",
       "      <td>5.572988</td>\n",
       "      <td>-5.393660</td>\n",
       "      <td>-6.338745</td>\n",
       "      <td>1.292496</td>\n",
       "    </tr>\n",
       "    <tr>\n",
       "      <th>2010-01-06</th>\n",
       "      <td>5.674110</td>\n",
       "      <td>-5.320243</td>\n",
       "      <td>-6.968138</td>\n",
       "      <td>1.260995</td>\n",
       "    </tr>\n",
       "    <tr>\n",
       "      <th>2010-01-07</th>\n",
       "      <td>5.665842</td>\n",
       "      <td>-5.687023</td>\n",
       "      <td>-5.896394</td>\n",
       "      <td>1.335637</td>\n",
       "    </tr>\n",
       "  </tbody>\n",
       "</table>\n",
       "</div>"
      ]
     },
     "execution_count": 30,
     "metadata": {},
     "output_type": "execute_result"
    }
   ],
   "execution_count": 30
  },
  {
   "metadata": {},
   "cell_type": "markdown",
   "source": "## Interpolate with Nelson-Siegel-Svensonn",
   "id": "592e877302950810"
  },
  {
   "metadata": {
    "ExecuteTime": {
     "end_time": "2025-03-18T12:00:12.133550Z",
     "start_time": "2025-03-18T12:00:08.835049Z"
    }
   },
   "cell_type": "code",
   "source": "interpolated_curve_df = spot_rates_calculator.interpolate_nelson_siegel(loadings_df, freq = 'quarterly')",
   "id": "d328181457743659",
   "outputs": [
    {
     "name": "stderr",
     "output_type": "stream",
     "text": [
      "100%|██████████| 3847/3847 [00:03<00:00, 1233.85it/s]\n"
     ]
    }
   ],
   "execution_count": 31
  },
  {
   "metadata": {
    "ExecuteTime": {
     "end_time": "2025-03-18T12:00:12.155085Z",
     "start_time": "2025-03-18T12:00:12.151529Z"
    }
   },
   "cell_type": "code",
   "source": "interpolated_curve_df",
   "id": "cb3921d0d3dabfe1",
   "outputs": [
    {
     "data": {
      "text/plain": [
       "               Curve  Maturities\n",
       "Date                            \n",
       "2010-01-01 -0.004612        0.00\n",
       "2010-01-01  0.020418        0.25\n",
       "2010-01-01  0.099657        0.50\n",
       "2010-01-01  0.218169        0.75\n",
       "2010-01-01  0.364245        1.00\n",
       "...              ...         ...\n",
       "2024-10-02  4.389098       29.00\n",
       "2024-10-02  4.392032       29.25\n",
       "2024-10-02  4.394917       29.50\n",
       "2024-10-02  4.397754       29.75\n",
       "2024-10-02  4.400544       30.00\n",
       "\n",
       "[465487 rows x 2 columns]"
      ],
      "text/html": [
       "<div>\n",
       "<style scoped>\n",
       "    .dataframe tbody tr th:only-of-type {\n",
       "        vertical-align: middle;\n",
       "    }\n",
       "\n",
       "    .dataframe tbody tr th {\n",
       "        vertical-align: top;\n",
       "    }\n",
       "\n",
       "    .dataframe thead th {\n",
       "        text-align: right;\n",
       "    }\n",
       "</style>\n",
       "<table border=\"1\" class=\"dataframe\">\n",
       "  <thead>\n",
       "    <tr style=\"text-align: right;\">\n",
       "      <th></th>\n",
       "      <th>Curve</th>\n",
       "      <th>Maturities</th>\n",
       "    </tr>\n",
       "    <tr>\n",
       "      <th>Date</th>\n",
       "      <th></th>\n",
       "      <th></th>\n",
       "    </tr>\n",
       "  </thead>\n",
       "  <tbody>\n",
       "    <tr>\n",
       "      <th>2010-01-01</th>\n",
       "      <td>-0.004612</td>\n",
       "      <td>0.00</td>\n",
       "    </tr>\n",
       "    <tr>\n",
       "      <th>2010-01-01</th>\n",
       "      <td>0.020418</td>\n",
       "      <td>0.25</td>\n",
       "    </tr>\n",
       "    <tr>\n",
       "      <th>2010-01-01</th>\n",
       "      <td>0.099657</td>\n",
       "      <td>0.50</td>\n",
       "    </tr>\n",
       "    <tr>\n",
       "      <th>2010-01-01</th>\n",
       "      <td>0.218169</td>\n",
       "      <td>0.75</td>\n",
       "    </tr>\n",
       "    <tr>\n",
       "      <th>2010-01-01</th>\n",
       "      <td>0.364245</td>\n",
       "      <td>1.00</td>\n",
       "    </tr>\n",
       "    <tr>\n",
       "      <th>...</th>\n",
       "      <td>...</td>\n",
       "      <td>...</td>\n",
       "    </tr>\n",
       "    <tr>\n",
       "      <th>2024-10-02</th>\n",
       "      <td>4.389098</td>\n",
       "      <td>29.00</td>\n",
       "    </tr>\n",
       "    <tr>\n",
       "      <th>2024-10-02</th>\n",
       "      <td>4.392032</td>\n",
       "      <td>29.25</td>\n",
       "    </tr>\n",
       "    <tr>\n",
       "      <th>2024-10-02</th>\n",
       "      <td>4.394917</td>\n",
       "      <td>29.50</td>\n",
       "    </tr>\n",
       "    <tr>\n",
       "      <th>2024-10-02</th>\n",
       "      <td>4.397754</td>\n",
       "      <td>29.75</td>\n",
       "    </tr>\n",
       "    <tr>\n",
       "      <th>2024-10-02</th>\n",
       "      <td>4.400544</td>\n",
       "      <td>30.00</td>\n",
       "    </tr>\n",
       "  </tbody>\n",
       "</table>\n",
       "<p>465487 rows × 2 columns</p>\n",
       "</div>"
      ]
     },
     "execution_count": 32,
     "metadata": {},
     "output_type": "execute_result"
    }
   ],
   "execution_count": 32
  },
  {
   "metadata": {},
   "cell_type": "markdown",
   "source": "### Plot and compare the two curves",
   "id": "db8a1ee98aef79a"
  },
  {
   "metadata": {
    "ExecuteTime": {
     "end_time": "2025-03-18T12:05:49.605700Z",
     "start_time": "2025-03-18T12:05:49.445481Z"
    }
   },
   "cell_type": "code",
   "source": [
    "fig, ax = plt.subplots(figsize=(12, 5))\n",
    "\n",
    "# Plot spot curve on tenors\n",
    "ax.plot(\n",
    "    zero_curve_df.loc['2024-10-01', 'Maturities'],\n",
    "    zero_curve_df.loc['2024-10-01', 'Curve'],\n",
    "    label='Spot Curve on Tenors'\n",
    ")\n",
    "\n",
    "# Plot interpolated curve\n",
    "ax.plot(\n",
    "    interpolated_curve_df.loc['2024-10-01', 'Maturities'],\n",
    "    interpolated_curve_df.loc['2024-10-01', 'Curve'],\n",
    "    label='Interpolated Curve'\n",
    ")\n",
    "\n",
    "# Add legend and title\n",
    "ax.legend()\n",
    "ax.set_title('Interpolated Spot Curve')\n",
    "\n",
    "# Apply custom style\n",
    "mpl_bsic.apply_bsic_style(fig, ax)"
   ],
   "id": "2d11b90da98cb9f9",
   "outputs": [
    {
     "name": "stdout",
     "output_type": "stream",
     "text": [
      "fonts already added so will not add again\n"
     ]
    },
    {
     "data": {
      "text/plain": [
       "<Figure size 1200x500 with 1 Axes>"
      ],
      "image/png": "[encoded data removed]"
     },
     "metadata": {},
     "output_type": "display_data"
    }
   ],
   "execution_count": 48
  },
  {
   "metadata": {},
   "cell_type": "markdown",
   "source": "# Compute Returns",
   "id": "166935ab9f22beea"
  },
  {
   "metadata": {},
   "cell_type": "markdown",
   "source": "## Overall returns",
   "id": "134f3601528a1135"
  },
  {
   "metadata": {
    "ExecuteTime": {
     "end_time": "2025-03-18T12:00:12.396509Z",
     "start_time": "2025-03-18T12:00:12.393096Z"
    }
   },
   "cell_type": "code",
   "source": [
    "# Function to compute returns\n",
    "def compute_gross_returns(df):\n",
    "    # Calculate daily coupons (coupon/365) and lagged price\n",
    "    df['daily_coupons'] = df['coupon'] / 365\n",
    "    df['prev_price'] = df.groupby('id')['price'].shift(1)  # Lagged price for each bond\n",
    "\n",
    "    # Compute returns using the formula\n",
    "    df['returns'] = ((df['price'] + df['daily_coupons']) - df['prev_price']) / df['prev_price']\n",
    "\n",
    "    return df"
   ],
   "id": "4dac39ae41e4e2a5",
   "outputs": [],
   "execution_count": 34
  },
  {
   "metadata": {
    "ExecuteTime": {
     "end_time": "2025-03-18T12:00:13.039509Z",
     "start_time": "2025-03-18T12:00:12.430599Z"
    }
   },
   "cell_type": "code",
   "source": [
    "data = process_data(data)\n",
    "data = compute_gross_returns(data)"
   ],
   "id": "e8ccaed44032893f",
   "outputs": [],
   "execution_count": 35
  },
  {
   "metadata": {},
   "cell_type": "markdown",
   "source": "## Carry",
   "id": "ea0213e1ad5f0f26"
  },
  {
   "metadata": {
    "ExecuteTime": {
     "end_time": "2025-03-18T12:00:13.050401Z",
     "start_time": "2025-03-18T12:00:13.047910Z"
    }
   },
   "cell_type": "code",
   "source": [
    "def compute_carry(df):\n",
    "    df['carry'] = df['daily_coupons'] / df['prev_price']\n",
    "    return df"
   ],
   "id": "615ef5ba7b2853a6",
   "outputs": [],
   "execution_count": 36
  },
  {
   "metadata": {
    "ExecuteTime": {
     "end_time": "2025-03-18T12:00:13.062193Z",
     "start_time": "2025-03-18T12:00:13.058352Z"
    }
   },
   "cell_type": "code",
   "source": "data = compute_carry(data)",
   "id": "e94e4e723f9bd705",
   "outputs": [],
   "execution_count": 37
  },
  {
   "metadata": {},
   "cell_type": "markdown",
   "source": "## RollDown",
   "id": "db0737e618336a0d"
  },
  {
   "metadata": {
    "ExecuteTime": {
     "end_time": "2025-03-18T12:04:12.994929Z",
     "start_time": "2025-03-18T12:00:13.069645Z"
    }
   },
   "cell_type": "code",
   "source": "data = rd.compute_rolldown(data)",
   "id": "354a245f902e9c43",
   "outputs": [
    {
     "name": "stderr",
     "output_type": "stream",
     "text": [
      "Computing RollDown: 100%|█████████▉| 3846/3847 [03:59<00:00, 16.03it/s]\n"
     ]
    }
   ],
   "execution_count": 38
  },
  {
   "metadata": {},
   "cell_type": "markdown",
   "source": "## Excess Returns",
   "id": "9ed678cd193fe6c5"
  },
  {
   "metadata": {
    "ExecuteTime": {
     "end_time": "2025-03-18T12:04:13.076913Z",
     "start_time": "2025-03-18T12:04:13.013086Z"
    }
   },
   "cell_type": "code",
   "source": "data['Excess Returns'] = data['returns'] - data['carry'] - data['rolldown']",
   "id": "3987dfb0f35dfe58",
   "outputs": [],
   "execution_count": 39
  },
  {
   "metadata": {},
   "cell_type": "markdown",
   "source": "# Cross Sectional Regression",
   "id": "7441bb0e322ddf2a"
  },
  {
   "metadata": {
    "ExecuteTime": {
     "end_time": "2025-03-18T12:04:19.102913Z",
     "start_time": "2025-03-18T12:04:13.082310Z"
    }
   },
   "cell_type": "code",
   "source": [
    "params = csr.cross_sectional_regression_nelson_siegel(data, loadings_df, nss = False)\n",
    "params.mean()"
   ],
   "id": "347b8f1464c2487a",
   "outputs": [
    {
     "name": "stderr",
     "output_type": "stream",
     "text": [
      "100%|██████████| 3847/3847 [00:05<00:00, 642.16it/s]\n"
     ]
    },
    {
     "data": {
      "text/plain": [
       "const        0.002049\n",
       "beta1        0.004255\n",
       "beta2       -0.015856\n",
       "r_squared    0.777714\n",
       "dtype: float64"
      ]
     },
     "execution_count": 40,
     "metadata": {},
     "output_type": "execute_result"
    }
   ],
   "execution_count": 40
  },
  {
   "metadata": {},
   "cell_type": "markdown",
   "source": "# Systematic and Idio Returns",
   "id": "619c7de9137d5e88"
  },
  {
   "metadata": {
    "ExecuteTime": {
     "end_time": "2025-03-18T12:04:19.274484Z",
     "start_time": "2025-03-18T12:04:19.112224Z"
    }
   },
   "cell_type": "code",
   "source": "data = data.join(params, on='timestamp')",
   "id": "6720b06b59bdbe9d",
   "outputs": [],
   "execution_count": 41
  },
  {
   "metadata": {
    "ExecuteTime": {
     "end_time": "2025-03-18T12:04:19.412826Z",
     "start_time": "2025-03-18T12:04:19.295532Z"
    }
   },
   "cell_type": "code",
   "source": "data = data.join(loadings_df, on='timestamp')",
   "id": "dfdcc02f15c43a79",
   "outputs": [],
   "execution_count": 42
  },
  {
   "metadata": {
    "ExecuteTime": {
     "end_time": "2025-03-18T12:04:19.464266Z",
     "start_time": "2025-03-18T12:04:19.432663Z"
    }
   },
   "cell_type": "code",
   "source": [
    "data['systematic returns'] = data['const'] + data['beta1']*((1 - np.exp(-data['time to maturity']/data['Lambda']))/(data['time to maturity']/data['Lambda'])) + data['beta2'] * ((1 - np.exp(-data['time to maturity'] / data['Lambda'])) / (data['time to maturity'] / data['Lambda']) - np.exp(-data['time to maturity'] / data['Lambda']))\n",
    "\n",
    "data['idio returns'] = data['Excess Returns'] - data['systematic returns']"
   ],
   "id": "ec2aac310b4291c0",
   "outputs": [],
   "execution_count": 43
  },
  {
   "metadata": {
    "ExecuteTime": {
     "end_time": "2025-03-18T12:04:19.509487Z",
     "start_time": "2025-03-18T12:04:19.490789Z"
    }
   },
   "cell_type": "code",
   "source": "data[['Excess Returns', 'systematic returns', 'idio returns']].mean()",
   "id": "47c7d7b3fa99f447",
   "outputs": [
    {
     "data": {
      "text/plain": [
       "Excess Returns        5.654645e-04\n",
       "systematic returns    5.651747e-04\n",
       "idio returns         -6.364295e-07\n",
       "dtype: float64"
      ]
     },
     "execution_count": 44,
     "metadata": {},
     "output_type": "execute_result"
    }
   ],
   "execution_count": 44
  },
  {
   "metadata": {
    "ExecuteTime": {
     "end_time": "2025-03-18T12:05:34.743775Z",
     "start_time": "2025-03-18T12:05:34.720811Z"
    }
   },
   "cell_type": "code",
   "source": "zero_curve_df.loc['2024-10-01']",
   "id": "dc4cbf2b1a8b46ea",
   "outputs": [
    {
     "data": {
      "text/plain": [
       "            Maturities     Curve\n",
       "Date                            \n",
       "2024-10-01    0.166667  4.667939\n",
       "2024-10-01    0.250000  4.575008\n",
       "2024-10-01    0.333333  4.486375\n",
       "2024-10-01    0.416667  4.402411\n",
       "2024-10-01    0.500000  4.323232\n",
       "...                ...       ...\n",
       "2024-10-01   29.666667  4.110965\n",
       "2024-10-01   29.750000  4.108105\n",
       "2024-10-01   29.833333  4.105316\n",
       "2024-10-01   29.916667  4.102562\n",
       "2024-10-01   30.000000  4.099824\n",
       "\n",
       "[359 rows x 2 columns]"
      ],
      "text/html": [
       "<div>\n",
       "<style scoped>\n",
       "    .dataframe tbody tr th:only-of-type {\n",
       "        vertical-align: middle;\n",
       "    }\n",
       "\n",
       "    .dataframe tbody tr th {\n",
       "        vertical-align: top;\n",
       "    }\n",
       "\n",
       "    .dataframe thead th {\n",
       "        text-align: right;\n",
       "    }\n",
       "</style>\n",
       "<table border=\"1\" class=\"dataframe\">\n",
       "  <thead>\n",
       "    <tr style=\"text-align: right;\">\n",
       "      <th></th>\n",
       "      <th>Maturities</th>\n",
       "      <th>Curve</th>\n",
       "    </tr>\n",
       "    <tr>\n",
       "      <th>Date</th>\n",
       "      <th></th>\n",
       "      <th></th>\n",
       "    </tr>\n",
       "  </thead>\n",
       "  <tbody>\n",
       "    <tr>\n",
       "      <th>2024-10-01</th>\n",
       "      <td>0.166667</td>\n",
       "      <td>4.667939</td>\n",
       "    </tr>\n",
       "    <tr>\n",
       "      <th>2024-10-01</th>\n",
       "      <td>0.250000</td>\n",
       "      <td>4.575008</td>\n",
       "    </tr>\n",
       "    <tr>\n",
       "      <th>2024-10-01</th>\n",
       "      <td>0.333333</td>\n",
       "      <td>4.486375</td>\n",
       "    </tr>\n",
       "    <tr>\n",
       "      <th>2024-10-01</th>\n",
       "      <td>0.416667</td>\n",
       "      <td>4.402411</td>\n",
       "    </tr>\n",
       "    <tr>\n",
       "      <th>2024-10-01</th>\n",
       "      <td>0.500000</td>\n",
       "      <td>4.323232</td>\n",
       "    </tr>\n",
       "    <tr>\n",
       "      <th>...</th>\n",
       "      <td>...</td>\n",
       "      <td>...</td>\n",
       "    </tr>\n",
       "    <tr>\n",
       "      <th>2024-10-01</th>\n",
       "      <td>29.666667</td>\n",
       "      <td>4.110965</td>\n",
       "    </tr>\n",
       "    <tr>\n",
       "      <th>2024-10-01</th>\n",
       "      <td>29.750000</td>\n",
       "      <td>4.108105</td>\n",
       "    </tr>\n",
       "    <tr>\n",
       "      <th>2024-10-01</th>\n",
       "      <td>29.833333</td>\n",
       "      <td>4.105316</td>\n",
       "    </tr>\n",
       "    <tr>\n",
       "      <th>2024-10-01</th>\n",
       "      <td>29.916667</td>\n",
       "      <td>4.102562</td>\n",
       "    </tr>\n",
       "    <tr>\n",
       "      <th>2024-10-01</th>\n",
       "      <td>30.000000</td>\n",
       "      <td>4.099824</td>\n",
       "    </tr>\n",
       "  </tbody>\n",
       "</table>\n",
       "<p>359 rows × 2 columns</p>\n",
       "</div>"
      ]
     },
     "execution_count": 47,
     "metadata": {},
     "output_type": "execute_result"
    }
   ],
   "execution_count": 47
  },
  {
   "metadata": {},
   "cell_type": "code",
   "outputs": [],
   "execution_count": null,
   "source": "",
   "id": "4d5ef5a4da258abc"
  }
 ],
 "metadata": {
  "kernelspec": {
   "display_name": "Python 3",
   "language": "python",
   "name": "python3"
  },
  "language_info": {
   "codemirror_mode": {
    "name": "ipython",
    "version": 2
   },
   "file_extension": ".py",
   "mimetype": "text/x-python",
   "name": "python",
   "nbconvert_exporter": "python",
   "pygments_lexer": "ipython2",
   "version": "2.7.6"
  }
 },
 "nbformat": 4,
 "nbformat_minor": 5
}
