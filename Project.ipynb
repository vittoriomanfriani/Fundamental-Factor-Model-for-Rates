{
 "cells": [
  {
   "metadata": {},
   "cell_type": "markdown",
   "source": "# Imports",
   "id": "e6899d6865ea8c1a"
  },
  {
   "metadata": {
    "ExecuteTime": {
     "end_time": "2025-03-16T14:46:15.629741Z",
     "start_time": "2025-03-16T14:46:15.615006Z"
    }
   },
   "cell_type": "code",
   "source": [
    "# Import necessary modules\n",
    "import SpotCurve.Spot_Curve_Calculator as sc\n",
    "import matplotlib.pyplot as plt\n",
    "import pandas as pd\n",
    "import mpl_bsic\n",
    "import importlib\n",
    "import Returns.RollDown as rd\n",
    "from Utils.data_processing import process_data\n",
    "import Utils.CrossSectional_Regression as csr\n",
    "import numpy as np\n",
    "\n",
    "# Reload modules to reflect any recent changes during development\n",
    "importlib.reload(sc)\n",
    "importlib.reload(rd)\n",
    "importlib.reload(csr)"
   ],
   "id": "53e4a62e3e0cf614",
   "outputs": [
    {
     "data": {
      "text/plain": [
       "<module 'Utils.CrossSectional_Regression' from '/Users/vittoriomanfriani/PycharmProjects/backtesting series - episode 3/Utils/CrossSectional_Regression.py'>"
      ]
     },
     "execution_count": 53,
     "metadata": {},
     "output_type": "execute_result"
    }
   ],
   "execution_count": 53
  },
  {
   "metadata": {},
   "cell_type": "markdown",
   "source": "# Load Data",
   "id": "c861d56862e7fabb"
  },
  {
   "metadata": {
    "ExecuteTime": {
     "end_time": "2025-03-16T14:19:42.104646Z",
     "start_time": "2025-03-16T14:19:36.988281Z"
    }
   },
   "cell_type": "code",
   "source": [
    "# Read data from the Parquet file\n",
    "data = pd.read_parquet('/Users/vittoriomanfriani/Desktop/BSIC/Datasets/bond_data_auction.parquet')\n",
    "\n",
    "# Filter data to include only dates between 2010-01-01 and 2024-10-02\n",
    "data = data.loc[\n",
    "    (data.index.get_level_values(0) >= '2010-01-01') &\n",
    "    (data.index.get_level_values(0) <= '2024-10-02')\n",
    "]"
   ],
   "id": "99de111d2385a4e2",
   "outputs": [],
   "execution_count": 3
  },
  {
   "metadata": {},
   "cell_type": "markdown",
   "source": "# Apply Bootstrapper",
   "id": "9cf803fb3158a681"
  },
  {
   "metadata": {
    "ExecuteTime": {
     "end_time": "2025-03-16T14:23:03.419435Z",
     "start_time": "2025-03-16T14:20:29.781926Z"
    }
   },
   "cell_type": "code",
   "source": [
    "spot_rates_calculator = sc.SpotRatesCalculator()\n",
    "zero_curve_df = spot_rates_calculator.apply_bootstrapper(data,freq = 'tenors')"
   ],
   "id": "6c2f9334970c3fcf",
   "outputs": [
    {
     "name": "stderr",
     "output_type": "stream",
     "text": [
      "100%|██████████| 3847/3847 [02:33<00:00, 25.08it/s]\n"
     ]
    }
   ],
   "execution_count": 4
  },
  {
   "metadata": {},
   "cell_type": "markdown",
   "source": "# Apply Nelson Siegel",
   "id": "ffd87647bc68c16a"
  },
  {
   "metadata": {
    "ExecuteTime": {
     "end_time": "2025-03-16T14:34:31.493468Z",
     "start_time": "2025-03-16T14:34:13.145295Z"
    }
   },
   "cell_type": "code",
   "source": [
    "loadings_df = spot_rates_calculator.apply_nelson_siegel(zero_curve_df, ridge=False)\n",
    "loadings_df.head()"
   ],
   "id": "bc78281fa04650c0",
   "outputs": [
    {
     "name": "stderr",
     "output_type": "stream",
     "text": [
      "100%|██████████| 3847/3847 [00:18<00:00, 210.08it/s]\n"
     ]
    },
    {
     "data": {
      "text/plain": [
       "            Beta0 (Level)  Beta1 (Slope)  Beta2 (Curvature)    Lambda\n",
       "Date                                                                 \n",
       "2010-01-01       5.646371      -5.627147          -5.291566  1.417384\n",
       "2010-01-04       5.691060      -5.555930          -5.843401  1.400962\n",
       "2010-01-05       5.671465      -5.552925          -5.912948  1.421027\n",
       "2010-01-06       5.772911      -5.680453          -6.032135  1.421147\n",
       "2010-01-07       5.755704      -5.660230          -5.924907  1.422937"
      ],
      "text/html": [
       "<div>\n",
       "<style scoped>\n",
       "    .dataframe tbody tr th:only-of-type {\n",
       "        vertical-align: middle;\n",
       "    }\n",
       "\n",
       "    .dataframe tbody tr th {\n",
       "        vertical-align: top;\n",
       "    }\n",
       "\n",
       "    .dataframe thead th {\n",
       "        text-align: right;\n",
       "    }\n",
       "</style>\n",
       "<table border=\"1\" class=\"dataframe\">\n",
       "  <thead>\n",
       "    <tr style=\"text-align: right;\">\n",
       "      <th></th>\n",
       "      <th>Beta0 (Level)</th>\n",
       "      <th>Beta1 (Slope)</th>\n",
       "      <th>Beta2 (Curvature)</th>\n",
       "      <th>Lambda</th>\n",
       "    </tr>\n",
       "    <tr>\n",
       "      <th>Date</th>\n",
       "      <th></th>\n",
       "      <th></th>\n",
       "      <th></th>\n",
       "      <th></th>\n",
       "    </tr>\n",
       "  </thead>\n",
       "  <tbody>\n",
       "    <tr>\n",
       "      <th>2010-01-01</th>\n",
       "      <td>5.646371</td>\n",
       "      <td>-5.627147</td>\n",
       "      <td>-5.291566</td>\n",
       "      <td>1.417384</td>\n",
       "    </tr>\n",
       "    <tr>\n",
       "      <th>2010-01-04</th>\n",
       "      <td>5.691060</td>\n",
       "      <td>-5.555930</td>\n",
       "      <td>-5.843401</td>\n",
       "      <td>1.400962</td>\n",
       "    </tr>\n",
       "    <tr>\n",
       "      <th>2010-01-05</th>\n",
       "      <td>5.671465</td>\n",
       "      <td>-5.552925</td>\n",
       "      <td>-5.912948</td>\n",
       "      <td>1.421027</td>\n",
       "    </tr>\n",
       "    <tr>\n",
       "      <th>2010-01-06</th>\n",
       "      <td>5.772911</td>\n",
       "      <td>-5.680453</td>\n",
       "      <td>-6.032135</td>\n",
       "      <td>1.421147</td>\n",
       "    </tr>\n",
       "    <tr>\n",
       "      <th>2010-01-07</th>\n",
       "      <td>5.755704</td>\n",
       "      <td>-5.660230</td>\n",
       "      <td>-5.924907</td>\n",
       "      <td>1.422937</td>\n",
       "    </tr>\n",
       "  </tbody>\n",
       "</table>\n",
       "</div>"
      ]
     },
     "execution_count": 19,
     "metadata": {},
     "output_type": "execute_result"
    }
   ],
   "execution_count": 19
  },
  {
   "metadata": {},
   "cell_type": "markdown",
   "source": "## Interpolate with Nelson-Siegel-Svensonn",
   "id": "592e877302950810"
  },
  {
   "metadata": {
    "ExecuteTime": {
     "end_time": "2025-03-16T14:45:58.261098Z",
     "start_time": "2025-03-16T14:45:55.024187Z"
    }
   },
   "cell_type": "code",
   "source": "interpolated_curve_df = spot_rates_calculator.interpolate_nelson_siegel(loadings_df, freq = 'quarterly')",
   "id": "d328181457743659",
   "outputs": [
    {
     "name": "stderr",
     "output_type": "stream",
     "text": [
      "100%|██████████| 3847/3847 [00:03<00:00, 1237.56it/s]\n"
     ]
    }
   ],
   "execution_count": 51
  },
  {
   "metadata": {},
   "cell_type": "markdown",
   "source": "### Plot and compare the two curves",
   "id": "db8a1ee98aef79a"
  },
  {
   "metadata": {
    "ExecuteTime": {
     "end_time": "2025-03-16T14:46:07.951107Z",
     "start_time": "2025-03-16T14:46:07.826006Z"
    }
   },
   "cell_type": "code",
   "source": [
    "fig, ax = plt.subplots(figsize=(12, 5))\n",
    "\n",
    "# Plot spot curve on tenors\n",
    "ax.plot(\n",
    "    zero_curve_df.loc['2014-01-01', 'Maturities'],\n",
    "    zero_curve_df.loc['2014-01-01', 'Curve'],\n",
    "    label='Spot Curve on Tenors'\n",
    ")\n",
    "\n",
    "# Plot interpolated curve\n",
    "ax.plot(\n",
    "    interpolated_curve_df.loc['2014-01-01', 'Maturities'],\n",
    "    interpolated_curve_df.loc['2014-01-01', 'Curve'],\n",
    "    label='Interpolated Curve'\n",
    ")\n",
    "\n",
    "# Add legend and title\n",
    "ax.legend()\n",
    "ax.set_title('Interpolated Spot Curve')\n",
    "\n",
    "# Apply custom style\n",
    "mpl_bsic.apply_bsic_style(fig, ax)"
   ],
   "id": "2d11b90da98cb9f9",
   "outputs": [
    {
     "name": "stdout",
     "output_type": "stream",
     "text": [
      "fonts already added so will not add again\n"
     ]
    },
    {
     "data": {
      "text/plain": [
       "<Figure size 1200x500 with 1 Axes>"
      ],
      "image/png": "[encoded data removed]"
     },
     "metadata": {},
     "output_type": "display_data"
    }
   ],
   "execution_count": 52
  },
  {
   "metadata": {},
   "cell_type": "markdown",
   "source": "# Compute Returns",
   "id": "166935ab9f22beea"
  },
  {
   "metadata": {},
   "cell_type": "markdown",
   "source": "## Overall returns",
   "id": "134f3601528a1135"
  },
  {
   "metadata": {
    "ExecuteTime": {
     "end_time": "2025-03-16T14:25:08.127702Z",
     "start_time": "2025-03-16T14:25:08.108751Z"
    }
   },
   "cell_type": "code",
   "source": [
    "# Function to compute returns\n",
    "def compute_gross_returns(df):\n",
    "    # Calculate daily coupons (coupon/365) and lagged price\n",
    "    df['daily_coupons'] = df['coupon'] / 365\n",
    "    df['prev_price'] = df.groupby('id')['price'].shift(1)  # Lagged price for each bond\n",
    "\n",
    "    # Compute returns using the formula\n",
    "    df['returns'] = ((df['price'] + df['daily_coupons']) - df['prev_price']) / df['prev_price']\n",
    "\n",
    "    return df"
   ],
   "id": "4dac39ae41e4e2a5",
   "outputs": [],
   "execution_count": 10
  },
  {
   "metadata": {
    "ExecuteTime": {
     "end_time": "2025-03-16T14:25:33.997111Z",
     "start_time": "2025-03-16T14:25:32.846606Z"
    }
   },
   "cell_type": "code",
   "source": [
    "data = process_data(data)\n",
    "data = compute_gross_returns(data)"
   ],
   "id": "e8ccaed44032893f",
   "outputs": [],
   "execution_count": 11
  },
  {
   "metadata": {},
   "cell_type": "markdown",
   "source": "## Carry",
   "id": "ea0213e1ad5f0f26"
  },
  {
   "metadata": {
    "ExecuteTime": {
     "end_time": "2025-03-16T14:26:02.084666Z",
     "start_time": "2025-03-16T14:26:02.078274Z"
    }
   },
   "cell_type": "code",
   "source": [
    "def compute_carry(df):\n",
    "    df['carry'] = df['daily_coupons'] / df['prev_price']\n",
    "    return df"
   ],
   "id": "615ef5ba7b2853a6",
   "outputs": [],
   "execution_count": 12
  },
  {
   "metadata": {
    "ExecuteTime": {
     "end_time": "2025-03-16T14:26:12.026751Z",
     "start_time": "2025-03-16T14:26:12.003909Z"
    }
   },
   "cell_type": "code",
   "source": "data = compute_carry(data)",
   "id": "e94e4e723f9bd705",
   "outputs": [],
   "execution_count": 13
  },
  {
   "metadata": {},
   "cell_type": "markdown",
   "source": "## RollDown",
   "id": "db0737e618336a0d"
  },
  {
   "metadata": {
    "ExecuteTime": {
     "end_time": "2025-03-16T14:32:16.365329Z",
     "start_time": "2025-03-16T14:26:34.969482Z"
    }
   },
   "cell_type": "code",
   "source": "data = rd.compute_rolldown(data)",
   "id": "354a245f902e9c43",
   "outputs": [
    {
     "name": "stderr",
     "output_type": "stream",
     "text": [
      "Computing RollDown: 100%|█████████▉| 3846/3847 [05:41<00:00, 11.27it/s]\n"
     ]
    }
   ],
   "execution_count": 14
  },
  {
   "metadata": {},
   "cell_type": "markdown",
   "source": "## Excess Returns",
   "id": "9ed678cd193fe6c5"
  },
  {
   "metadata": {
    "ExecuteTime": {
     "end_time": "2025-03-16T14:32:17.085473Z",
     "start_time": "2025-03-16T14:32:16.973599Z"
    }
   },
   "cell_type": "code",
   "source": "data['Excess Returns'] = data['returns'] - data['carry'] - data['rolldown']",
   "id": "3987dfb0f35dfe58",
   "outputs": [],
   "execution_count": 15
  },
  {
   "metadata": {},
   "cell_type": "markdown",
   "source": "# Cross Sectional Regression",
   "id": "7441bb0e322ddf2a"
  },
  {
   "metadata": {
    "ExecuteTime": {
     "end_time": "2025-03-16T14:46:25.018774Z",
     "start_time": "2025-03-16T14:46:18.743897Z"
    }
   },
   "cell_type": "code",
   "source": [
    "params = csr.cross_sectional_regression_nelson_siegel(data, loadings_df, nss = False)\n",
    "params.mean()"
   ],
   "id": "347b8f1464c2487a",
   "outputs": [
    {
     "name": "stderr",
     "output_type": "stream",
     "text": [
      "100%|██████████| 3847/3847 [00:06<00:00, 616.90it/s]\n"
     ]
    },
    {
     "data": {
      "text/plain": [
       "const        0.002017\n",
       "beta1        0.004294\n",
       "beta2       -0.015807\n",
       "r_squared    0.777635\n",
       "dtype: float64"
      ]
     },
     "execution_count": 54,
     "metadata": {},
     "output_type": "execute_result"
    }
   ],
   "execution_count": 54
  },
  {
   "metadata": {},
   "cell_type": "markdown",
   "source": "# Systematic and Idio Returns",
   "id": "619c7de9137d5e88"
  },
  {
   "metadata": {
    "ExecuteTime": {
     "end_time": "2025-03-16T14:39:06.472397Z",
     "start_time": "2025-03-16T14:39:06.355342Z"
    }
   },
   "cell_type": "code",
   "source": "data = data.join(params, on='timestamp')",
   "id": "6720b06b59bdbe9d",
   "outputs": [],
   "execution_count": 38
  },
  {
   "metadata": {
    "ExecuteTime": {
     "end_time": "2025-03-16T14:41:05.413344Z",
     "start_time": "2025-03-16T14:41:05.253300Z"
    }
   },
   "cell_type": "code",
   "source": "data = data.join(loadings_df, on='timestamp')",
   "id": "dfdcc02f15c43a79",
   "outputs": [],
   "execution_count": 41
  },
  {
   "metadata": {
    "ExecuteTime": {
     "end_time": "2025-03-16T14:44:28.260889Z",
     "start_time": "2025-03-16T14:44:28.197918Z"
    }
   },
   "cell_type": "code",
   "source": [
    "data['systematic returns'] = data['const'] + data['beta1']*((1 - np.exp(-data['time to maturity']/data['Lambda']))/(data['time to maturity']/data['Lambda'])) + data['beta2'] * ((1 - np.exp(-data['time to maturity'] / data['Lambda'])) / (data['time to maturity'] / data['Lambda']) - np.exp(-data['time to maturity'] / data['Lambda']))\n",
    "\n",
    "data['idio returns'] = data['Excess Returns'] - data['systematic returns']"
   ],
   "id": "ec2aac310b4291c0",
   "outputs": [],
   "execution_count": 49
  },
  {
   "metadata": {
    "ExecuteTime": {
     "end_time": "2025-03-16T14:47:19.039031Z",
     "start_time": "2025-03-16T14:47:18.995807Z"
    }
   },
   "cell_type": "code",
   "source": "data[['Excess Returns', 'systematic returns', 'idio returns']].mean()",
   "id": "47c7d7b3fa99f447",
   "outputs": [
    {
     "data": {
      "text/plain": [
       "Excess Returns        5.653357e-04\n",
       "systematic returns    5.649369e-04\n",
       "idio returns         -4.576935e-07\n",
       "dtype: float64"
      ]
     },
     "execution_count": 55,
     "metadata": {},
     "output_type": "execute_result"
    }
   ],
   "execution_count": 55
  }
 ],
 "metadata": {
  "kernelspec": {
   "display_name": "Python 3",
   "language": "python",
   "name": "python3"
  },
  "language_info": {
   "codemirror_mode": {
    "name": "ipython",
    "version": 2
   },
   "file_extension": ".py",
   "mimetype": "text/x-python",
   "name": "python",
   "nbconvert_exporter": "python",
   "pygments_lexer": "ipython2",
   "version": "2.7.6"
  }
 },
 "nbformat": 4,
 "nbformat_minor": 5
}
