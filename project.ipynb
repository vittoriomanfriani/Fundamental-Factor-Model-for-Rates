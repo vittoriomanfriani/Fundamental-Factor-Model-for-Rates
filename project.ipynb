{
 "cells": [
  {
   "metadata": {},
   "cell_type": "markdown",
   "source": "# Imports",
   "id": "83ffcc1e345891fd"
  },
  {
   "cell_type": "code",
   "id": "initial_id",
   "metadata": {
    "collapsed": true,
    "ExecuteTime": {
     "end_time": "2025-01-27T10:45:20.212676Z",
     "start_time": "2025-01-27T10:45:20.201504Z"
    }
   },
   "source": [
    "import SpotCurve.Spot_Curve_Calculator as sc\n",
    "import matplotlib.pyplot as plt\n",
    "import pandas as pd\n",
    "import mpl_bsic\n",
    "import importlib\n",
    "import Returns.RollDown as rd\n",
    "from Utils.data_processing import process_data\n",
    "import Utils.CrossSectional_Regression as csr\n",
    "\n",
    "importlib.reload(sc)\n",
    "importlib.reload(rd)\n",
    "importlib.reload(csr)"
   ],
   "outputs": [
    {
     "data": {
      "text/plain": [
       "<module 'Utils.CrossSectional_Regression' from '/Users/vittoriomanfriani/PycharmProjects/backtesting series - episode 3/Utils/CrossSectional_Regression.py'>"
      ]
     },
     "execution_count": 68,
     "metadata": {},
     "output_type": "execute_result"
    }
   ],
   "execution_count": 68
  },
  {
   "metadata": {},
   "cell_type": "markdown",
   "source": "# Load Data",
   "id": "9ee18f2aeac1807f"
  },
  {
   "metadata": {
    "ExecuteTime": {
     "end_time": "2025-01-27T10:29:56.518898Z",
     "start_time": "2025-01-27T10:29:49.984205Z"
    }
   },
   "cell_type": "code",
   "source": [
    "data = pd.read_parquet('/Users/vittoriomanfriani/Desktop/BSIC/Datasets/bond_data_auction.parquet')\n",
    "# take data only from 2010-01-01\n",
    "data = data.loc[(data.index.get_level_values(0) >= '2010-01-01') & (data.index.get_level_values(0) <= '2024-10-02')]"
   ],
   "id": "a2923069a68f9961",
   "outputs": [],
   "execution_count": 49
  },
  {
   "metadata": {},
   "cell_type": "markdown",
   "source": "# Apply Bootstrapper",
   "id": "d7a70ec77eb35ede"
  },
  {
   "metadata": {
    "ExecuteTime": {
     "end_time": "2025-01-27T10:29:56.572226Z",
     "start_time": "2025-01-27T10:29:56.560463Z"
    }
   },
   "cell_type": "code",
   "source": "spot_rates_calculator = sc.SpotRatesCalculator()",
   "id": "dfddb9b034a192e0",
   "outputs": [],
   "execution_count": 50
  },
  {
   "metadata": {
    "ExecuteTime": {
     "end_time": "2025-01-27T10:30:50.777383Z",
     "start_time": "2025-01-27T10:29:56.608987Z"
    }
   },
   "cell_type": "code",
   "source": "zero_curve_df = spot_rates_calculator.apply_bootstrapper(data,freq = 'tenors')",
   "id": "86bb7f0f7fb6a33b",
   "outputs": [
    {
     "name": "stderr",
     "output_type": "stream",
     "text": [
      "100%|██████████| 3847/3847 [00:54<00:00, 71.22it/s]\n"
     ]
    }
   ],
   "execution_count": 51
  },
  {
   "metadata": {},
   "cell_type": "markdown",
   "source": "# Apply Nelson Siegel Svensson",
   "id": "45f1597dbd4198b"
  },
  {
   "metadata": {
    "ExecuteTime": {
     "end_time": "2025-01-27T10:49:27.935796Z",
     "start_time": "2025-01-27T10:49:12.065216Z"
    }
   },
   "cell_type": "code",
   "source": "loadings_df = spot_rates_calculator.apply_nelson_siegel(zero_curve_df, ridge=False)",
   "id": "f9abe3877a2d037e",
   "outputs": [
    {
     "name": "stderr",
     "output_type": "stream",
     "text": [
      "100%|██████████| 3847/3847 [00:15<00:00, 243.41it/s]\n"
     ]
    }
   ],
   "execution_count": 76
  },
  {
   "metadata": {
    "ExecuteTime": {
     "end_time": "2025-01-27T10:31:55.035630Z",
     "start_time": "2025-01-27T10:31:55.028357Z"
    }
   },
   "cell_type": "code",
   "source": "loadings_df.head()",
   "id": "78b57c0fc5984849",
   "outputs": [
    {
     "data": {
      "text/plain": [
       "            Beta0 (Level)  Beta1 (Slope)  Beta2 (Curvature)  \\\n",
       "Date                                                          \n",
       "2010-01-01       5.617342      -5.933011          -2.303588   \n",
       "2010-01-04       5.659167      -5.413080          -3.036872   \n",
       "2010-01-05       5.650661      -5.772935          -2.676113   \n",
       "2010-01-06       5.749927      -5.642614          -3.016228   \n",
       "2010-01-07       5.744017      -6.125500          -2.354645   \n",
       "\n",
       "            Beta3 (Second Curvature)   Lambda1   Lambda2  \n",
       "Date                                                      \n",
       "2010-01-01                 -2.275384  1.427338  1.427333  \n",
       "2010-01-04                 -3.284200  1.312777  1.312808  \n",
       "2010-01-05                 -2.717506  1.424635  1.424634  \n",
       "2010-01-06                 -3.224737  1.362159  1.362132  \n",
       "2010-01-07                 -2.335579  1.501866  1.501896  "
      ],
      "text/html": [
       "<div>\n",
       "<style scoped>\n",
       "    .dataframe tbody tr th:only-of-type {\n",
       "        vertical-align: middle;\n",
       "    }\n",
       "\n",
       "    .dataframe tbody tr th {\n",
       "        vertical-align: top;\n",
       "    }\n",
       "\n",
       "    .dataframe thead th {\n",
       "        text-align: right;\n",
       "    }\n",
       "</style>\n",
       "<table border=\"1\" class=\"dataframe\">\n",
       "  <thead>\n",
       "    <tr style=\"text-align: right;\">\n",
       "      <th></th>\n",
       "      <th>Beta0 (Level)</th>\n",
       "      <th>Beta1 (Slope)</th>\n",
       "      <th>Beta2 (Curvature)</th>\n",
       "      <th>Beta3 (Second Curvature)</th>\n",
       "      <th>Lambda1</th>\n",
       "      <th>Lambda2</th>\n",
       "    </tr>\n",
       "    <tr>\n",
       "      <th>Date</th>\n",
       "      <th></th>\n",
       "      <th></th>\n",
       "      <th></th>\n",
       "      <th></th>\n",
       "      <th></th>\n",
       "      <th></th>\n",
       "    </tr>\n",
       "  </thead>\n",
       "  <tbody>\n",
       "    <tr>\n",
       "      <th>2010-01-01</th>\n",
       "      <td>5.617342</td>\n",
       "      <td>-5.933011</td>\n",
       "      <td>-2.303588</td>\n",
       "      <td>-2.275384</td>\n",
       "      <td>1.427338</td>\n",
       "      <td>1.427333</td>\n",
       "    </tr>\n",
       "    <tr>\n",
       "      <th>2010-01-04</th>\n",
       "      <td>5.659167</td>\n",
       "      <td>-5.413080</td>\n",
       "      <td>-3.036872</td>\n",
       "      <td>-3.284200</td>\n",
       "      <td>1.312777</td>\n",
       "      <td>1.312808</td>\n",
       "    </tr>\n",
       "    <tr>\n",
       "      <th>2010-01-05</th>\n",
       "      <td>5.650661</td>\n",
       "      <td>-5.772935</td>\n",
       "      <td>-2.676113</td>\n",
       "      <td>-2.717506</td>\n",
       "      <td>1.424635</td>\n",
       "      <td>1.424634</td>\n",
       "    </tr>\n",
       "    <tr>\n",
       "      <th>2010-01-06</th>\n",
       "      <td>5.749927</td>\n",
       "      <td>-5.642614</td>\n",
       "      <td>-3.016228</td>\n",
       "      <td>-3.224737</td>\n",
       "      <td>1.362159</td>\n",
       "      <td>1.362132</td>\n",
       "    </tr>\n",
       "    <tr>\n",
       "      <th>2010-01-07</th>\n",
       "      <td>5.744017</td>\n",
       "      <td>-6.125500</td>\n",
       "      <td>-2.354645</td>\n",
       "      <td>-2.335579</td>\n",
       "      <td>1.501866</td>\n",
       "      <td>1.501896</td>\n",
       "    </tr>\n",
       "  </tbody>\n",
       "</table>\n",
       "</div>"
      ]
     },
     "execution_count": 53,
     "metadata": {},
     "output_type": "execute_result"
    }
   ],
   "execution_count": 53
  },
  {
   "metadata": {},
   "cell_type": "markdown",
   "source": "## Interpolate with Nelson-Siegel-Svensonn",
   "id": "8c3375f3e30388de"
  },
  {
   "metadata": {
    "ExecuteTime": {
     "end_time": "2025-01-27T10:31:59.245830Z",
     "start_time": "2025-01-27T10:31:55.289431Z"
    }
   },
   "cell_type": "code",
   "source": "interpolated_curve_df = spot_rates_calculator.interpolate_nelson_siegel_svensson(loadings_df, freq = 'quarterly')",
   "id": "d70998be748cacc",
   "outputs": [
    {
     "name": "stderr",
     "output_type": "stream",
     "text": [
      "100%|██████████| 3847/3847 [00:03<00:00, 1052.96it/s]\n"
     ]
    }
   ],
   "execution_count": 54
  },
  {
   "metadata": {},
   "cell_type": "markdown",
   "source": "### Plot and compare the two curves",
   "id": "cd02518b100f2cee"
  },
  {
   "metadata": {
    "ExecuteTime": {
     "end_time": "2025-01-27T10:50:29.460899Z",
     "start_time": "2025-01-27T10:50:29.218703Z"
    }
   },
   "cell_type": "code",
   "source": [
    "fig, ax = plt.subplots(figsize = (12,5))\n",
    "ax.plot(zero_curve_df.loc['2014-01-01', 'Maturities'], zero_curve_df.loc['2014-01-01','Curve'], label = 'Spot Curve on Tenors')\n",
    "ax.plot(interpolated_curve_df.loc['2014-01-01', 'Maturities'], interpolated_curve_df.loc['2014-01-01','Curve'], label = 'Interpolated Curve')\n",
    "ax.legend()\n",
    "ax.set_title('Interpolated Spot Curve')\n",
    "mpl_bsic.apply_bsic_style(fig, ax)"
   ],
   "id": "2ae9c2d0f66533cc",
   "outputs": [
    {
     "name": "stdout",
     "output_type": "stream",
     "text": [
      "fonts already added so will not add again\n"
     ]
    },
    {
     "data": {
      "text/plain": [
       "<Figure size 1200x500 with 1 Axes>"
      ],
      "image/png": "[encoded data removed]"
     },
     "metadata": {},
     "output_type": "display_data"
    }
   ],
   "execution_count": 77
  },
  {
   "metadata": {},
   "cell_type": "markdown",
   "source": "# Compute Returns",
   "id": "6d558a7d8852c0dc"
  },
  {
   "metadata": {},
   "cell_type": "markdown",
   "source": "## Overall returns",
   "id": "5a69603e9bf3e0d1"
  },
  {
   "metadata": {
    "ExecuteTime": {
     "end_time": "2025-01-27T10:31:59.438737Z",
     "start_time": "2025-01-27T10:31:59.435674Z"
    }
   },
   "cell_type": "code",
   "source": [
    "# Function to compute returns\n",
    "def compute_gross_returns(df):\n",
    "    # Calculate daily coupons (coupon/365) and lagged price\n",
    "    df.loc[:, 'daily_coupons'] = df['coupon'] / 365\n",
    "    df.loc[:, 'prev_price'] = df.groupby('id')['price'].shift(1)  # Lagged price for each bond\n",
    "\n",
    "    # Compute returns using the formula\n",
    "    df.loc[:, 'returns'] = ((df['price'] + df['daily_coupons']) - df['prev_price']) / df['prev_price']\n",
    "\n",
    "    return df"
   ],
   "id": "2e871c1ca73e8000",
   "outputs": [],
   "execution_count": 56
  },
  {
   "metadata": {
    "ExecuteTime": {
     "end_time": "2025-01-27T10:32:00.254500Z",
     "start_time": "2025-01-27T10:31:59.485331Z"
    }
   },
   "cell_type": "code",
   "source": [
    "data = process_data(data)\n",
    "data = compute_gross_returns(data)"
   ],
   "id": "38fcfe0ffb10bca2",
   "outputs": [],
   "execution_count": 57
  },
  {
   "metadata": {},
   "cell_type": "markdown",
   "source": "# Carry",
   "id": "cb1d6c33a530dcf7"
  },
  {
   "metadata": {
    "ExecuteTime": {
     "end_time": "2025-01-27T10:32:00.262594Z",
     "start_time": "2025-01-27T10:32:00.260068Z"
    }
   },
   "cell_type": "code",
   "source": [
    "def compute_carry(df):\n",
    "    df['carry'] = df['daily_coupons'] / df['prev_price']\n",
    "    return df"
   ],
   "id": "b1ac50dd00e44c5b",
   "outputs": [],
   "execution_count": 58
  },
  {
   "metadata": {
    "ExecuteTime": {
     "end_time": "2025-01-27T10:32:00.277404Z",
     "start_time": "2025-01-27T10:32:00.273105Z"
    }
   },
   "cell_type": "code",
   "source": "data = compute_carry(data)",
   "id": "63b6f1d53cba62ba",
   "outputs": [],
   "execution_count": 59
  },
  {
   "metadata": {},
   "cell_type": "markdown",
   "source": "## RollDown",
   "id": "16dd6b4430e674a4"
  },
  {
   "metadata": {
    "ExecuteTime": {
     "end_time": "2025-01-27T10:44:43.867079Z",
     "start_time": "2025-01-27T10:37:16.967681Z"
    }
   },
   "cell_type": "code",
   "source": "data = rd.compute_rolldown(data)",
   "id": "f108180047b02a44",
   "outputs": [
    {
     "name": "stderr",
     "output_type": "stream",
     "text": [
      "100%|█████████▉| 3846/3847 [07:26<00:00,  8.61it/s]\n"
     ]
    }
   ],
   "execution_count": 64
  },
  {
   "metadata": {},
   "cell_type": "markdown",
   "source": "## Excess returns",
   "id": "da057dd084d1317f"
  },
  {
   "metadata": {
    "ExecuteTime": {
     "end_time": "2025-01-27T10:44:55.995680Z",
     "start_time": "2025-01-27T10:44:55.973599Z"
    }
   },
   "cell_type": "code",
   "source": "data['Excess Returns'] = data['returns'] - data['carry'] - data['rolldown']",
   "id": "abab12ff51fd1163",
   "outputs": [],
   "execution_count": 66
  },
  {
   "metadata": {},
   "cell_type": "markdown",
   "source": "# Cross Sectional Regression",
   "id": "16e9a57d581eb970"
  },
  {
   "metadata": {
    "ExecuteTime": {
     "end_time": "2025-01-27T10:50:45.707587Z",
     "start_time": "2025-01-27T10:50:35.447453Z"
    }
   },
   "cell_type": "code",
   "source": "params = csr.cross_sectional_regression_nelson_siegel(data, loadings_df, nss = False)",
   "id": "c080d6dd36f0bd8b",
   "outputs": [
    {
     "name": "stderr",
     "output_type": "stream",
     "text": [
      "100%|██████████| 3847/3847 [00:10<00:00, 376.97it/s]\n"
     ]
    }
   ],
   "execution_count": 78
  },
  {
   "metadata": {
    "ExecuteTime": {
     "end_time": "2025-01-27T10:48:52.426482Z",
     "start_time": "2025-01-27T10:48:52.404848Z"
    }
   },
   "cell_type": "code",
   "source": "params.mean()",
   "id": "9969622a5aaaa486",
   "outputs": [
    {
     "data": {
      "text/plain": [
       "date         2017-05-18 20:46:25.647425792\n",
       "const                             0.000486\n",
       "beta1                             0.000272\n",
       "beta2                              -0.0029\n",
       "r_squared                         0.669961\n",
       "dtype: object"
      ]
     },
     "execution_count": 75,
     "metadata": {},
     "output_type": "execute_result"
    }
   ],
   "execution_count": 75
  },
  {
   "metadata": {
    "ExecuteTime": {
     "end_time": "2025-01-27T10:46:22.240111Z",
     "start_time": "2025-01-27T10:46:22.222167Z"
    }
   },
   "cell_type": "code",
   "source": "loadings_df.corr()",
   "id": "d40bbb97c97a1eec",
   "outputs": [
    {
     "data": {
      "text/plain": [
       "                          Beta0 (Level)  Beta1 (Slope)  Beta2 (Curvature)  \\\n",
       "Beta0 (Level)                  1.000000      -0.385695           0.216899   \n",
       "Beta1 (Slope)                 -0.385695       1.000000           0.015991   \n",
       "Beta2 (Curvature)              0.216899       0.015991           1.000000   \n",
       "Beta3 (Second Curvature)      -0.228309      -0.002063          -0.999673   \n",
       "Lambda1                       -0.388257      -0.138393          -0.361963   \n",
       "Lambda2                       -0.100030      -0.081266          -0.480654   \n",
       "\n",
       "                          Beta3 (Second Curvature)   Lambda1   Lambda2  \n",
       "Beta0 (Level)                            -0.228309 -0.388257 -0.100030  \n",
       "Beta1 (Slope)                            -0.002063 -0.138393 -0.081266  \n",
       "Beta2 (Curvature)                        -0.999673 -0.361963 -0.480654  \n",
       "Beta3 (Second Curvature)                  1.000000  0.357417  0.471441  \n",
       "Lambda1                                   0.357417  1.000000  0.502896  \n",
       "Lambda2                                   0.471441  0.502896  1.000000  "
      ],
      "text/html": [
       "<div>\n",
       "<style scoped>\n",
       "    .dataframe tbody tr th:only-of-type {\n",
       "        vertical-align: middle;\n",
       "    }\n",
       "\n",
       "    .dataframe tbody tr th {\n",
       "        vertical-align: top;\n",
       "    }\n",
       "\n",
       "    .dataframe thead th {\n",
       "        text-align: right;\n",
       "    }\n",
       "</style>\n",
       "<table border=\"1\" class=\"dataframe\">\n",
       "  <thead>\n",
       "    <tr style=\"text-align: right;\">\n",
       "      <th></th>\n",
       "      <th>Beta0 (Level)</th>\n",
       "      <th>Beta1 (Slope)</th>\n",
       "      <th>Beta2 (Curvature)</th>\n",
       "      <th>Beta3 (Second Curvature)</th>\n",
       "      <th>Lambda1</th>\n",
       "      <th>Lambda2</th>\n",
       "    </tr>\n",
       "  </thead>\n",
       "  <tbody>\n",
       "    <tr>\n",
       "      <th>Beta0 (Level)</th>\n",
       "      <td>1.000000</td>\n",
       "      <td>-0.385695</td>\n",
       "      <td>0.216899</td>\n",
       "      <td>-0.228309</td>\n",
       "      <td>-0.388257</td>\n",
       "      <td>-0.100030</td>\n",
       "    </tr>\n",
       "    <tr>\n",
       "      <th>Beta1 (Slope)</th>\n",
       "      <td>-0.385695</td>\n",
       "      <td>1.000000</td>\n",
       "      <td>0.015991</td>\n",
       "      <td>-0.002063</td>\n",
       "      <td>-0.138393</td>\n",
       "      <td>-0.081266</td>\n",
       "    </tr>\n",
       "    <tr>\n",
       "      <th>Beta2 (Curvature)</th>\n",
       "      <td>0.216899</td>\n",
       "      <td>0.015991</td>\n",
       "      <td>1.000000</td>\n",
       "      <td>-0.999673</td>\n",
       "      <td>-0.361963</td>\n",
       "      <td>-0.480654</td>\n",
       "    </tr>\n",
       "    <tr>\n",
       "      <th>Beta3 (Second Curvature)</th>\n",
       "      <td>-0.228309</td>\n",
       "      <td>-0.002063</td>\n",
       "      <td>-0.999673</td>\n",
       "      <td>1.000000</td>\n",
       "      <td>0.357417</td>\n",
       "      <td>0.471441</td>\n",
       "    </tr>\n",
       "    <tr>\n",
       "      <th>Lambda1</th>\n",
       "      <td>-0.388257</td>\n",
       "      <td>-0.138393</td>\n",
       "      <td>-0.361963</td>\n",
       "      <td>0.357417</td>\n",
       "      <td>1.000000</td>\n",
       "      <td>0.502896</td>\n",
       "    </tr>\n",
       "    <tr>\n",
       "      <th>Lambda2</th>\n",
       "      <td>-0.100030</td>\n",
       "      <td>-0.081266</td>\n",
       "      <td>-0.480654</td>\n",
       "      <td>0.471441</td>\n",
       "      <td>0.502896</td>\n",
       "      <td>1.000000</td>\n",
       "    </tr>\n",
       "  </tbody>\n",
       "</table>\n",
       "</div>"
      ]
     },
     "execution_count": 72,
     "metadata": {},
     "output_type": "execute_result"
    }
   ],
   "execution_count": 72
  },
  {
   "metadata": {},
   "cell_type": "code",
   "outputs": [],
   "execution_count": null,
   "source": "",
   "id": "ea13620ebaf5424e"
  }
 ],
 "metadata": {
  "kernelspec": {
   "display_name": "Python 3",
   "language": "python",
   "name": "python3"
  },
  "language_info": {
   "codemirror_mode": {
    "name": "ipython",
    "version": 2
   },
   "file_extension": ".py",
   "mimetype": "text/x-python",
   "name": "python",
   "nbconvert_exporter": "python",
   "pygments_lexer": "ipython2",
   "version": "2.7.6"
  }
 },
 "nbformat": 4,
 "nbformat_minor": 5
}
