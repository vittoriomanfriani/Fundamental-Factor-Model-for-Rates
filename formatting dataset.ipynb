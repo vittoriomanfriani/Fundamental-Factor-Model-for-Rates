{
 "cells": [
  {
   "cell_type": "code",
   "id": "initial_id",
   "metadata": {
    "collapsed": true,
    "ExecuteTime": {
     "end_time": "2024-11-13T23:05:44.653377Z",
     "start_time": "2024-11-13T23:05:44.645846Z"
    }
   },
   "source": [
    "import pandas as pd\n",
    "import re\n",
    "import numpy as np\n",
    "import logging"
   ],
   "outputs": [],
   "execution_count": 20
  },
  {
   "metadata": {
    "ExecuteTime": {
     "end_time": "2024-11-13T22:52:06.199159Z",
     "start_time": "2024-11-13T22:50:49.245478Z"
    }
   },
   "cell_type": "code",
   "source": [
    "file_path = '/Users/vittoriomanfriani/Desktop/bond_data.xlsx'\n",
    "excel_data = pd.ExcelFile(file_path)\n",
    "df_raw = excel_data.parse('Sheet1', header=None)"
   ],
   "id": "9ff0cd23db0d8ae9",
   "outputs": [],
   "execution_count": 2
  },
  {
   "metadata": {
    "ExecuteTime": {
     "end_time": "2024-11-13T22:52:18.557170Z",
     "start_time": "2024-11-13T22:52:18.510846Z"
    }
   },
   "cell_type": "code",
   "source": [
    "# Extract the header row to identify ISINs and their column positions\n",
    "header = df_raw.iloc[0]\n",
    "header = [val.split()[0] if isinstance(val, str) and \"ISIN\" in val else val for val in header]"
   ],
   "id": "2caebc40086795bf",
   "outputs": [],
   "execution_count": 4
  },
  {
   "metadata": {
    "ExecuteTime": {
     "end_time": "2024-11-13T22:52:19.807921Z",
     "start_time": "2024-11-13T22:52:19.804338Z"
    }
   },
   "cell_type": "code",
   "source": [
    "# Identify ISIN positions and their corrected names\n",
    "isin_positions = [(i, val) for i, val in enumerate(header) if isinstance(val, str) and re.match(r'^[A-Z0-9]{12}$', val)]"
   ],
   "id": "f24e26e4aeec991f",
   "outputs": [],
   "execution_count": 5
  },
  {
   "metadata": {
    "ExecuteTime": {
     "end_time": "2024-11-13T22:52:20.903601Z",
     "start_time": "2024-11-13T22:52:20.900827Z"
    }
   },
   "cell_type": "code",
   "source": [
    "# Function to convert only numeric dates\n",
    "def convert_to_datetime(val):\n",
    "    if isinstance(val, (int, float)):  # Check if the value is numeric\n",
    "        return pd.to_datetime(val, origin='1899-12-30', unit='D')\n",
    "    elif isinstance(val, str):  # Check if the value is already a date string\n",
    "        return pd.to_datetime(val, errors='coerce')  # Convert if it's a valid date\n",
    "    return val  # Return as-is if it doesn't match above cases"
   ],
   "id": "86fd2a325da65017",
   "outputs": [],
   "execution_count": 6
  },
  {
   "metadata": {
    "ExecuteTime": {
     "end_time": "2024-11-13T23:00:14.189524Z",
     "start_time": "2024-11-13T22:52:23.223665Z"
    }
   },
   "cell_type": "code",
   "source": [
    "# Process each ISIN section and collect data\n",
    "data_frames = []\n",
    "for start_col, isin in isin_positions:\n",
    "    # Determine the end column for each ISIN section (4 columns per ISIN)\n",
    "    end_col = start_col + 4\n",
    "    temp_df = df_raw.iloc[2:, start_col:end_col]  # Skip the first two rows (headers)\n",
    "    temp_df.columns = [\"date\", \"mid_price\", \"yield\", \"mid_dv01\"]\n",
    "    temp_df[\"isin\"] = isin\n",
    "    \n",
    "    temp_df['date'] = temp_df['date'].apply(convert_to_datetime)\n",
    "    \n",
    "    temp_df.dropna(subset=['date'], inplace=True)  # Drop rows with any remaining invalid dates\n",
    "    \n",
    "    data_frames.append(temp_df)"
   ],
   "id": "15005fb3247594d5",
   "outputs": [],
   "execution_count": 7
  },
  {
   "metadata": {
    "ExecuteTime": {
     "end_time": "2024-11-13T23:01:26.697688Z",
     "start_time": "2024-11-13T23:01:25.841456Z"
    }
   },
   "cell_type": "code",
   "source": [
    "# Concatenate all ISIN data into a single DataFrame\n",
    "final_df = pd.concat(data_frames, ignore_index=True)\n",
    "final_df.set_index([\"date\", \"isin\"], inplace=True)\n",
    "final_df = final_df.sort_index()"
   ],
   "id": "19a8e030ea0f8268",
   "outputs": [],
   "execution_count": 9
  },
  {
   "metadata": {
    "ExecuteTime": {
     "end_time": "2024-11-13T22:27:32.369252Z",
     "start_time": "2024-11-13T22:27:28.809314Z"
    }
   },
   "cell_type": "code",
   "source": "final_df.to_csv('USBond_Dataset_Ordered.csv')",
   "id": "60272a47a2b9191d",
   "outputs": [],
   "execution_count": 96
  },
  {
   "metadata": {
    "ExecuteTime": {
     "end_time": "2024-11-13T23:05:59.074471Z",
     "start_time": "2024-11-13T23:05:59.058453Z"
    }
   },
   "cell_type": "code",
   "source": [
    "# Configure logging\n",
    "logging.basicConfig(level=logging.INFO)\n",
    "logger = logging.getLogger(__name__)"
   ],
   "id": "8fab9c132a9483b2",
   "outputs": [],
   "execution_count": 22
  },
  {
   "metadata": {
    "ExecuteTime": {
     "end_time": "2024-11-13T23:19:13.375037Z",
     "start_time": "2024-11-13T23:19:13.368645Z"
    }
   },
   "cell_type": "code",
   "source": [
    "ccy = \"USD\"\n",
    "symbol_name = 'Bond'"
   ],
   "id": "4c48acdaf84ad6ef",
   "outputs": [],
   "execution_count": 30
  },
  {
   "metadata": {
    "ExecuteTime": {
     "end_time": "2024-11-13T23:18:06.405383Z",
     "start_time": "2024-11-13T23:18:06.356160Z"
    }
   },
   "cell_type": "code",
   "source": [
    "# check that dates are daily\n",
    "dates = final_df.index.get_level_values(\"date\")\n",
    "assert isinstance(dates, pd.DatetimeIndex)\n",
    "\n",
    "dates_diff = dates.unique().to_series().diff()[1:] / np.timedelta64(1, 'h')\n",
    "\n",
    "if np.any(dates_diff < 20):\n",
    "     raise Exception('There are observations for which the timedelta is less than 1 day')\n",
    "\n",
    "avg_diff = np.mean(dates_diff)\n",
    "logger.info(f'Average timedelta for {ccy}_{symbol_name}: {avg_diff}')\n",
    "\n",
    "if not (avg_diff > 24 and avg_diff < 48):\n",
    "    raise Exception('For (more or less) daily observations, the timedelta between each observation'\n",
    "        'should be between 1 and 2 days, while the average timedelta in the data'\n",
    "        f'is {avg_diff} days.')"
   ],
   "id": "93fac41c9ce9ee6c",
   "outputs": [
    {
     "name": "stderr",
     "output_type": "stream",
     "text": [
      "INFO:__main__:Average timedelta for US_Bond: 33.63594317806409\n"
     ]
    }
   ],
   "execution_count": 29
  }
 ],
 "metadata": {
  "kernelspec": {
   "display_name": "Python 3",
   "language": "python",
   "name": "python3"
  },
  "language_info": {
   "codemirror_mode": {
    "name": "ipython",
    "version": 2
   },
   "file_extension": ".py",
   "mimetype": "text/x-python",
   "name": "python",
   "nbconvert_exporter": "python",
   "pygments_lexer": "ipython2",
   "version": "2.7.6"
  }
 },
 "nbformat": 4,
 "nbformat_minor": 5
}
