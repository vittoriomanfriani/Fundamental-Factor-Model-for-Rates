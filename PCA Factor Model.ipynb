{
 "cells": [
  {
   "cell_type": "code",
   "id": "initial_id",
   "metadata": {
    "collapsed": true,
    "ExecuteTime": {
     "end_time": "2024-11-16T11:46:41.675619Z",
     "start_time": "2024-11-16T11:46:41.673318Z"
    }
   },
   "source": "import pandas as pd",
   "outputs": [],
   "execution_count": 2
  },
  {
   "metadata": {
    "ExecuteTime": {
     "end_time": "2024-11-16T11:46:43.373501Z",
     "start_time": "2024-11-16T11:46:42.845092Z"
    }
   },
   "cell_type": "code",
   "source": [
    "# Load the dataset\n",
    "data = pd.read_csv('/Users/vittoriomanfriani/Desktop/BSIC/Backtesting series - Part 3/USBond_Dataset_Ordered.csv')"
   ],
   "id": "bb26cb629682e115",
   "outputs": [],
   "execution_count": 3
  },
  {
   "metadata": {
    "ExecuteTime": {
     "end_time": "2024-11-16T11:46:45.557796Z",
     "start_time": "2024-11-16T11:46:45.025Z"
    }
   },
   "cell_type": "code",
   "source": [
    "# Reshape data: set 'date' as index and 'isin' as columns, with 'mid_price' as values\n",
    "data.reset_index(inplace=True)\n",
    "data = data.pivot(index='date', columns='isin', values='mid_price')\n",
    "\n",
    "# Take data from past 20 years\n",
    "data = data.iloc[-5293:]\n",
    "\n",
    "# Calculate daily returns as percentage change\n",
    "data = data.pct_change().iloc[1:]\n",
    "data.head()"
   ],
   "id": "5033a1a89d856575",
   "outputs": [
    {
     "data": {
      "text/plain": [
       "isin        US912810BG23  US912810BU17  US912810BX55  US912810BZ04  \\\n",
       "date                                                                 \n",
       "2004-07-23           NaN           NaN           NaN           NaN   \n",
       "2004-07-26           NaN           NaN           NaN           NaN   \n",
       "2004-07-27           NaN           NaN           NaN           NaN   \n",
       "2004-07-28           NaN           NaN           NaN           NaN   \n",
       "2004-07-29           NaN           NaN           NaN           NaN   \n",
       "\n",
       "isin        US912810CC00  US912810CE65  US912810CG14  US912810CK26  \\\n",
       "date                                                                 \n",
       "2004-07-23           NaN           NaN           NaN     -0.000456   \n",
       "2004-07-26           NaN           NaN           NaN      0.000000   \n",
       "2004-07-27           NaN           NaN           NaN     -0.000304   \n",
       "2004-07-28           NaN           NaN           NaN      0.000304   \n",
       "2004-07-29           NaN           NaN           NaN     -0.001369   \n",
       "\n",
       "isin        US912810CL09  US912810CM81  ...  US91282CLD10  US91282CLF67  \\\n",
       "date                                    ...                               \n",
       "2004-07-23           NaN     -0.000741  ...           NaN           NaN   \n",
       "2004-07-26           NaN     -0.000297  ...           NaN           NaN   \n",
       "2004-07-27           NaN     -0.000742  ...           NaN           NaN   \n",
       "2004-07-28           NaN      0.000000  ...           NaN           NaN   \n",
       "2004-07-29           NaN      0.000000  ...           NaN           NaN   \n",
       "\n",
       "isin        US91282CLG41  US91282CLH24  US91282CLJ89  US91282CLK52  \\\n",
       "date                                                                 \n",
       "2004-07-23           NaN           NaN           NaN           NaN   \n",
       "2004-07-26           NaN           NaN           NaN           NaN   \n",
       "2004-07-27           NaN           NaN           NaN           NaN   \n",
       "2004-07-28           NaN           NaN           NaN           NaN   \n",
       "2004-07-29           NaN           NaN           NaN           NaN   \n",
       "\n",
       "isin        US91282CLL36  US91282CLM19  US91282CLN91  US91282CLP40  \n",
       "date                                                                \n",
       "2004-07-23           NaN           NaN           NaN           NaN  \n",
       "2004-07-26           NaN           NaN           NaN           NaN  \n",
       "2004-07-27           NaN           NaN           NaN           NaN  \n",
       "2004-07-28           NaN           NaN           NaN           NaN  \n",
       "2004-07-29           NaN           NaN           NaN           NaN  \n",
       "\n",
       "[5 rows x 1625 columns]"
      ],
      "text/html": [
       "<div>\n",
       "<style scoped>\n",
       "    .dataframe tbody tr th:only-of-type {\n",
       "        vertical-align: middle;\n",
       "    }\n",
       "\n",
       "    .dataframe tbody tr th {\n",
       "        vertical-align: top;\n",
       "    }\n",
       "\n",
       "    .dataframe thead th {\n",
       "        text-align: right;\n",
       "    }\n",
       "</style>\n",
       "<table border=\"1\" class=\"dataframe\">\n",
       "  <thead>\n",
       "    <tr style=\"text-align: right;\">\n",
       "      <th>isin</th>\n",
       "      <th>US912810BG23</th>\n",
       "      <th>US912810BU17</th>\n",
       "      <th>US912810BX55</th>\n",
       "      <th>US912810BZ04</th>\n",
       "      <th>US912810CC00</th>\n",
       "      <th>US912810CE65</th>\n",
       "      <th>US912810CG14</th>\n",
       "      <th>US912810CK26</th>\n",
       "      <th>US912810CL09</th>\n",
       "      <th>US912810CM81</th>\n",
       "      <th>...</th>\n",
       "      <th>US91282CLD10</th>\n",
       "      <th>US91282CLF67</th>\n",
       "      <th>US91282CLG41</th>\n",
       "      <th>US91282CLH24</th>\n",
       "      <th>US91282CLJ89</th>\n",
       "      <th>US91282CLK52</th>\n",
       "      <th>US91282CLL36</th>\n",
       "      <th>US91282CLM19</th>\n",
       "      <th>US91282CLN91</th>\n",
       "      <th>US91282CLP40</th>\n",
       "    </tr>\n",
       "    <tr>\n",
       "      <th>date</th>\n",
       "      <th></th>\n",
       "      <th></th>\n",
       "      <th></th>\n",
       "      <th></th>\n",
       "      <th></th>\n",
       "      <th></th>\n",
       "      <th></th>\n",
       "      <th></th>\n",
       "      <th></th>\n",
       "      <th></th>\n",
       "      <th></th>\n",
       "      <th></th>\n",
       "      <th></th>\n",
       "      <th></th>\n",
       "      <th></th>\n",
       "      <th></th>\n",
       "      <th></th>\n",
       "      <th></th>\n",
       "      <th></th>\n",
       "      <th></th>\n",
       "      <th></th>\n",
       "    </tr>\n",
       "  </thead>\n",
       "  <tbody>\n",
       "    <tr>\n",
       "      <th>2004-07-23</th>\n",
       "      <td>NaN</td>\n",
       "      <td>NaN</td>\n",
       "      <td>NaN</td>\n",
       "      <td>NaN</td>\n",
       "      <td>NaN</td>\n",
       "      <td>NaN</td>\n",
       "      <td>NaN</td>\n",
       "      <td>-0.000456</td>\n",
       "      <td>NaN</td>\n",
       "      <td>-0.000741</td>\n",
       "      <td>...</td>\n",
       "      <td>NaN</td>\n",
       "      <td>NaN</td>\n",
       "      <td>NaN</td>\n",
       "      <td>NaN</td>\n",
       "      <td>NaN</td>\n",
       "      <td>NaN</td>\n",
       "      <td>NaN</td>\n",
       "      <td>NaN</td>\n",
       "      <td>NaN</td>\n",
       "      <td>NaN</td>\n",
       "    </tr>\n",
       "    <tr>\n",
       "      <th>2004-07-26</th>\n",
       "      <td>NaN</td>\n",
       "      <td>NaN</td>\n",
       "      <td>NaN</td>\n",
       "      <td>NaN</td>\n",
       "      <td>NaN</td>\n",
       "      <td>NaN</td>\n",
       "      <td>NaN</td>\n",
       "      <td>0.000000</td>\n",
       "      <td>NaN</td>\n",
       "      <td>-0.000297</td>\n",
       "      <td>...</td>\n",
       "      <td>NaN</td>\n",
       "      <td>NaN</td>\n",
       "      <td>NaN</td>\n",
       "      <td>NaN</td>\n",
       "      <td>NaN</td>\n",
       "      <td>NaN</td>\n",
       "      <td>NaN</td>\n",
       "      <td>NaN</td>\n",
       "      <td>NaN</td>\n",
       "      <td>NaN</td>\n",
       "    </tr>\n",
       "    <tr>\n",
       "      <th>2004-07-27</th>\n",
       "      <td>NaN</td>\n",
       "      <td>NaN</td>\n",
       "      <td>NaN</td>\n",
       "      <td>NaN</td>\n",
       "      <td>NaN</td>\n",
       "      <td>NaN</td>\n",
       "      <td>NaN</td>\n",
       "      <td>-0.000304</td>\n",
       "      <td>NaN</td>\n",
       "      <td>-0.000742</td>\n",
       "      <td>...</td>\n",
       "      <td>NaN</td>\n",
       "      <td>NaN</td>\n",
       "      <td>NaN</td>\n",
       "      <td>NaN</td>\n",
       "      <td>NaN</td>\n",
       "      <td>NaN</td>\n",
       "      <td>NaN</td>\n",
       "      <td>NaN</td>\n",
       "      <td>NaN</td>\n",
       "      <td>NaN</td>\n",
       "    </tr>\n",
       "    <tr>\n",
       "      <th>2004-07-28</th>\n",
       "      <td>NaN</td>\n",
       "      <td>NaN</td>\n",
       "      <td>NaN</td>\n",
       "      <td>NaN</td>\n",
       "      <td>NaN</td>\n",
       "      <td>NaN</td>\n",
       "      <td>NaN</td>\n",
       "      <td>0.000304</td>\n",
       "      <td>NaN</td>\n",
       "      <td>0.000000</td>\n",
       "      <td>...</td>\n",
       "      <td>NaN</td>\n",
       "      <td>NaN</td>\n",
       "      <td>NaN</td>\n",
       "      <td>NaN</td>\n",
       "      <td>NaN</td>\n",
       "      <td>NaN</td>\n",
       "      <td>NaN</td>\n",
       "      <td>NaN</td>\n",
       "      <td>NaN</td>\n",
       "      <td>NaN</td>\n",
       "    </tr>\n",
       "    <tr>\n",
       "      <th>2004-07-29</th>\n",
       "      <td>NaN</td>\n",
       "      <td>NaN</td>\n",
       "      <td>NaN</td>\n",
       "      <td>NaN</td>\n",
       "      <td>NaN</td>\n",
       "      <td>NaN</td>\n",
       "      <td>NaN</td>\n",
       "      <td>-0.001369</td>\n",
       "      <td>NaN</td>\n",
       "      <td>0.000000</td>\n",
       "      <td>...</td>\n",
       "      <td>NaN</td>\n",
       "      <td>NaN</td>\n",
       "      <td>NaN</td>\n",
       "      <td>NaN</td>\n",
       "      <td>NaN</td>\n",
       "      <td>NaN</td>\n",
       "      <td>NaN</td>\n",
       "      <td>NaN</td>\n",
       "      <td>NaN</td>\n",
       "      <td>NaN</td>\n",
       "    </tr>\n",
       "  </tbody>\n",
       "</table>\n",
       "<p>5 rows × 1625 columns</p>\n",
       "</div>"
      ]
     },
     "execution_count": 4,
     "metadata": {},
     "output_type": "execute_result"
    }
   ],
   "execution_count": 4
  },
  {
   "metadata": {
    "ExecuteTime": {
     "end_time": "2024-11-16T11:48:35.457840Z",
     "start_time": "2024-11-16T11:48:34.731155Z"
    }
   },
   "cell_type": "code",
   "source": [
    "from sklearn.decomposition import PCA\n",
    "from sklearn.preprocessing import StandardScaler\n",
    "\n",
    "def rollingPCA(data, window_size = 252, n_components = 3):\n",
    "    # Initialize an empty DataFrame to store the rolling PCA results\n",
    "    pca_df = pd.DataFrame(index=data.index, columns=[f\"PC{i+1}\" for i in range(n_components)])\n",
    "    \n",
    "    # Initialize separate DataFrames to store loadings for each component\n",
    "    loading_dfs = [pd.DataFrame(index=data.index, columns=data.columns) for _ in range(n_components)]\n",
    "    \n",
    "    # Iterate over the data using a rolling window approach\n",
    "    for i in range(window_size, len(data) + 1):\n",
    "        # Select the current rolling window of data\n",
    "        window = data.iloc[i-window_size:i]\n",
    "        \n",
    "        # Drop columns that contain NaN values within the current window\n",
    "        window = window.dropna(axis = 1)\n",
    "        \n",
    "        # Standaridize the data\n",
    "        scaler = StandardScaler()\n",
    "        window = scaler.fit_transform(window)\n",
    "        \n",
    "        # Get the date of the last row in the current window\n",
    "        current_date = data.index[i - 1]\n",
    "        \n",
    "        # Skip PCA calculation if there are fewer columns than the desired number of components\n",
    "        if window.shape[1] < n_components:\n",
    "            pca_df.iloc[i - 1, :n_components] = None\n",
    "            \n",
    "            for j in range(n_components):\n",
    "                loading_dfs[j].iloc[i - 1, :] = None\n",
    "            continue\n",
    "        \n",
    "        # Fit PCA to the current window and transform the data     \n",
    "        pca = PCA(n_components=n_components)\n",
    "        pca_result = pca.fit_transform(window)\n",
    "        \n",
    "        # Store the principal components of the most recent observation in the current window\n",
    "        pca_df.iloc[i - 1, :n_components] = pca_result[-1, :]\n",
    "        \n",
    "        # Extract and store loadings for each component at the current date\n",
    "        for j in range(n_components):\n",
    "            loading_dfs[j].loc[current_date, window.columns] = pca.components_[j, :]\n",
    "    \n",
    "    return pca_df, loading_dfs"
   ],
   "id": "f916165b57f39dbb",
   "outputs": [],
   "execution_count": 6
  },
  {
   "metadata": {
    "ExecuteTime": {
     "end_time": "2024-11-14T11:04:25.705186Z",
     "start_time": "2024-11-14T11:02:30.472446Z"
    }
   },
   "cell_type": "code",
   "source": [
    "# Apply the function\n",
    "pca_df, loading_dfs = rollingPCA(data)"
   ],
   "id": "2cfaaaac412107e6",
   "outputs": [],
   "execution_count": 69
  },
  {
   "metadata": {
    "ExecuteTime": {
     "end_time": "2024-11-14T11:05:18.074767Z",
     "start_time": "2024-11-14T11:05:18.068972Z"
    }
   },
   "cell_type": "code",
   "source": [
    "# Remove first rows containing only NaNs\n",
    "pca_df = pca_df.iloc[252:]"
   ],
   "id": "4e674cfe1bf774c6",
   "outputs": [],
   "execution_count": 73
  },
  {
   "metadata": {
    "ExecuteTime": {
     "end_time": "2024-11-14T11:06:08.630007Z",
     "start_time": "2024-11-14T11:06:08.624139Z"
    }
   },
   "cell_type": "code",
   "source": [
    "loading_dfs[0] = loading_dfs[0].iloc[252:]\n",
    "loading_dfs[1] = loading_dfs[1].iloc[252:]\n",
    "loading_dfs[2] = loading_dfs[2].iloc[252:]"
   ],
   "id": "d0fec7105ffc6cee",
   "outputs": [],
   "execution_count": 74
  },
  {
   "metadata": {
    "ExecuteTime": {
     "end_time": "2024-11-14T11:06:27.596945Z",
     "start_time": "2024-11-14T11:06:27.532329Z"
    }
   },
   "cell_type": "code",
   "source": [
    "# Exporting datasets\n",
    "pca_df.to_csv('PCA_Dataset.csv')"
   ],
   "id": "9e746c55216559de",
   "outputs": [],
   "execution_count": 75
  },
  {
   "metadata": {
    "ExecuteTime": {
     "end_time": "2024-11-14T11:07:12.964516Z",
     "start_time": "2024-11-14T11:07:08.892101Z"
    }
   },
   "cell_type": "code",
   "source": [
    "loading_dfs[0].to_csv('loading_df_PC1.csv')\n",
    "loading_dfs[1].to_csv('loading_df_PC2.csv')\n",
    "loading_dfs[2].to_csv('loading_df_PC3.csv')"
   ],
   "id": "a6568835bb530d8b",
   "outputs": [],
   "execution_count": 77
  }
 ],
 "metadata": {
  "kernelspec": {
   "display_name": "Python 3",
   "language": "python",
   "name": "python3"
  },
  "language_info": {
   "codemirror_mode": {
    "name": "ipython",
    "version": 2
   },
   "file_extension": ".py",
   "mimetype": "text/x-python",
   "name": "python",
   "nbconvert_exporter": "python",
   "pygments_lexer": "ipython2",
   "version": "2.7.6"
  }
 },
 "nbformat": 4,
 "nbformat_minor": 5
}
