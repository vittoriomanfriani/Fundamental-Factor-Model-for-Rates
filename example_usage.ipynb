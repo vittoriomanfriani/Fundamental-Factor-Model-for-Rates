{
 "cells": [
  {
   "metadata": {},
   "cell_type": "markdown",
   "source": "# Imports",
   "id": "83ffcc1e345891fd"
  },
  {
   "cell_type": "code",
   "id": "initial_id",
   "metadata": {
    "collapsed": true,
    "ExecuteTime": {
     "end_time": "2025-01-25T09:02:07.050484Z",
     "start_time": "2025-01-25T09:02:05.753325Z"
    }
   },
   "source": [
    "import SpotCurve.Spot_Curve_Calculator as sc\n",
    "import matplotlib.pyplot as plt\n",
    "import pandas as pd\n",
    "import mpl_bsic\n",
    "import importlib\n",
    "import Returns.RollDown as rd\n",
    "from Utils.data_processing import process_data\n",
    "import Utils.CrossSectional_Regression as csr\n",
    "\n",
    "importlib.reload(sc)\n",
    "importlib.reload(rd)\n",
    "importlib.reload(csr)"
   ],
   "outputs": [
    {
     "data": {
      "text/plain": [
       "<module 'Utils.CrossSectional_Regression' from '/Users/vittoriomanfriani/PycharmProjects/backtesting series - episode 3/Utils/CrossSectional_Regression.py'>"
      ]
     },
     "execution_count": 1,
     "metadata": {},
     "output_type": "execute_result"
    }
   ],
   "execution_count": 1
  },
  {
   "metadata": {},
   "cell_type": "markdown",
   "source": "# Load Data",
   "id": "9ee18f2aeac1807f"
  },
  {
   "metadata": {
    "ExecuteTime": {
     "end_time": "2025-01-25T09:02:11.663928Z",
     "start_time": "2025-01-25T09:02:07.056280Z"
    }
   },
   "cell_type": "code",
   "source": [
    "data = pd.read_parquet('/Users/vittoriomanfriani/Desktop/BSIC/Datasets/bond_data_auction.parquet')\n",
    "# take data only from 2010-01-01\n",
    "data = data.loc[(data.index.get_level_values(0) >= '2010-01-01') & (data.index.get_level_values(0) <= '2024-10-02')]"
   ],
   "id": "a2923069a68f9961",
   "outputs": [],
   "execution_count": 2
  },
  {
   "metadata": {},
   "cell_type": "markdown",
   "source": "# Apply Bootstrapper",
   "id": "d7a70ec77eb35ede"
  },
  {
   "metadata": {
    "ExecuteTime": {
     "end_time": "2025-01-25T09:02:11.738901Z",
     "start_time": "2025-01-25T09:02:11.736966Z"
    }
   },
   "cell_type": "code",
   "source": "spot_rates_calculator = sc.SpotRatesCalculator()",
   "id": "dfddb9b034a192e0",
   "outputs": [],
   "execution_count": 3
  },
  {
   "metadata": {
    "ExecuteTime": {
     "end_time": "2025-01-25T09:03:03.817824Z",
     "start_time": "2025-01-25T09:02:11.754830Z"
    }
   },
   "cell_type": "code",
   "source": "zero_curve_df = spot_rates_calculator.apply_bootstrapper(data,freq = 'tenors')",
   "id": "86bb7f0f7fb6a33b",
   "outputs": [
    {
     "name": "stderr",
     "output_type": "stream",
     "text": [
      "100%|██████████| 3847/3847 [00:51<00:00, 74.23it/s]\n"
     ]
    }
   ],
   "execution_count": 4
  },
  {
   "metadata": {},
   "cell_type": "markdown",
   "source": "# Apply Nelson Siegel",
   "id": "45f1597dbd4198b"
  },
  {
   "metadata": {
    "ExecuteTime": {
     "end_time": "2025-01-25T09:03:16.132250Z",
     "start_time": "2025-01-25T09:03:03.847073Z"
    }
   },
   "cell_type": "code",
   "source": "loadings_df = spot_rates_calculator.apply_nelson_siegel(zero_curve_df, ridge=True)",
   "id": "f9abe3877a2d037e",
   "outputs": [
    {
     "name": "stderr",
     "output_type": "stream",
     "text": [
      "100%|██████████| 3847/3847 [00:12<00:00, 313.46it/s]\n"
     ]
    }
   ],
   "execution_count": 5
  },
  {
   "metadata": {
    "ExecuteTime": {
     "end_time": "2025-01-25T09:03:16.170892Z",
     "start_time": "2025-01-25T09:03:16.162865Z"
    }
   },
   "cell_type": "code",
   "source": "loadings_df.head()",
   "id": "78b57c0fc5984849",
   "outputs": [
    {
     "data": {
      "text/plain": [
       "            Beta0 (Level)  Beta1 (Slope)  Beta2 (Curvature)    Lambda\n",
       "Date                                                                 \n",
       "2010-01-01       5.443239      -5.781663          -1.441757  1.938513\n",
       "2010-01-04       5.504061      -5.516690          -2.074482  1.956500\n",
       "2010-01-05       5.474688      -5.727790          -1.768542  1.999573\n",
       "2010-01-06       5.584800      -5.710578          -2.048267  2.001441\n",
       "2010-01-07       5.554065      -5.966374          -1.522045  2.013505"
      ],
      "text/html": [
       "<div>\n",
       "<style scoped>\n",
       "    .dataframe tbody tr th:only-of-type {\n",
       "        vertical-align: middle;\n",
       "    }\n",
       "\n",
       "    .dataframe tbody tr th {\n",
       "        vertical-align: top;\n",
       "    }\n",
       "\n",
       "    .dataframe thead th {\n",
       "        text-align: right;\n",
       "    }\n",
       "</style>\n",
       "<table border=\"1\" class=\"dataframe\">\n",
       "  <thead>\n",
       "    <tr style=\"text-align: right;\">\n",
       "      <th></th>\n",
       "      <th>Beta0 (Level)</th>\n",
       "      <th>Beta1 (Slope)</th>\n",
       "      <th>Beta2 (Curvature)</th>\n",
       "      <th>Lambda</th>\n",
       "    </tr>\n",
       "    <tr>\n",
       "      <th>Date</th>\n",
       "      <th></th>\n",
       "      <th></th>\n",
       "      <th></th>\n",
       "      <th></th>\n",
       "    </tr>\n",
       "  </thead>\n",
       "  <tbody>\n",
       "    <tr>\n",
       "      <th>2010-01-01</th>\n",
       "      <td>5.443239</td>\n",
       "      <td>-5.781663</td>\n",
       "      <td>-1.441757</td>\n",
       "      <td>1.938513</td>\n",
       "    </tr>\n",
       "    <tr>\n",
       "      <th>2010-01-04</th>\n",
       "      <td>5.504061</td>\n",
       "      <td>-5.516690</td>\n",
       "      <td>-2.074482</td>\n",
       "      <td>1.956500</td>\n",
       "    </tr>\n",
       "    <tr>\n",
       "      <th>2010-01-05</th>\n",
       "      <td>5.474688</td>\n",
       "      <td>-5.727790</td>\n",
       "      <td>-1.768542</td>\n",
       "      <td>1.999573</td>\n",
       "    </tr>\n",
       "    <tr>\n",
       "      <th>2010-01-06</th>\n",
       "      <td>5.584800</td>\n",
       "      <td>-5.710578</td>\n",
       "      <td>-2.048267</td>\n",
       "      <td>2.001441</td>\n",
       "    </tr>\n",
       "    <tr>\n",
       "      <th>2010-01-07</th>\n",
       "      <td>5.554065</td>\n",
       "      <td>-5.966374</td>\n",
       "      <td>-1.522045</td>\n",
       "      <td>2.013505</td>\n",
       "    </tr>\n",
       "  </tbody>\n",
       "</table>\n",
       "</div>"
      ]
     },
     "execution_count": 6,
     "metadata": {},
     "output_type": "execute_result"
    }
   ],
   "execution_count": 6
  },
  {
   "metadata": {},
   "cell_type": "markdown",
   "source": "## Interpolate with Nelson-Siegel-Svensonn",
   "id": "8c3375f3e30388de"
  },
  {
   "metadata": {
    "ExecuteTime": {
     "end_time": "2025-01-25T09:12:51.889522Z",
     "start_time": "2025-01-25T09:12:51.881806Z"
    }
   },
   "cell_type": "code",
   "source": "loadings_df.loc['2024-02-01', 'Lambda'] = 2",
   "id": "5965199ebe9991e3",
   "outputs": [],
   "execution_count": 31
  },
  {
   "metadata": {
    "ExecuteTime": {
     "end_time": "2025-01-25T09:12:55.493970Z",
     "start_time": "2025-01-25T09:12:52.271725Z"
    }
   },
   "cell_type": "code",
   "source": "interpolated_curve_df = spot_rates_calculator.interpolate_nelson_siegel(loadings_df, freq = 'quarterly')",
   "id": "d70998be748cacc",
   "outputs": [
    {
     "name": "stderr",
     "output_type": "stream",
     "text": [
      "100%|██████████| 3847/3847 [00:03<00:00, 1235.41it/s]\n"
     ]
    }
   ],
   "execution_count": 32
  },
  {
   "metadata": {},
   "cell_type": "markdown",
   "source": "### Plot and compare the two curves",
   "id": "cd02518b100f2cee"
  },
  {
   "metadata": {
    "ExecuteTime": {
     "end_time": "2025-01-25T09:13:02.024609Z",
     "start_time": "2025-01-25T09:13:01.898659Z"
    }
   },
   "cell_type": "code",
   "source": [
    "fig, ax = plt.subplots(figsize = (12,5))\n",
    "ax.plot(zero_curve_df.loc['2024-01-01', 'Maturities'], zero_curve_df.loc['2024-01-01','Curve'], label = 'Spot Curve on Tenors')\n",
    "ax.plot(interpolated_curve_df.loc['2024-01-01', 'Maturities'], interpolated_curve_df.loc['2024-01-01','Curve'], label = 'Interpolated Curve')\n",
    "ax.legend()\n",
    "ax.set_title('Interpolated Spot Curve')\n",
    "mpl_bsic.apply_bsic_style(fig, ax)\n"
   ],
   "id": "2ae9c2d0f66533cc",
   "outputs": [
    {
     "name": "stdout",
     "output_type": "stream",
     "text": [
      "fonts already added so will not add again\n"
     ]
    },
    {
     "data": {
      "text/plain": [
       "<Figure size 1200x500 with 1 Axes>"
      ],
      "image/png": "[encoded data removed]"
     },
     "metadata": {},
     "output_type": "display_data"
    }
   ],
   "execution_count": 34
  },
  {
   "metadata": {
    "ExecuteTime": {
     "end_time": "2025-01-25T09:11:41.822202Z",
     "start_time": "2025-01-25T09:11:41.815190Z"
    }
   },
   "cell_type": "code",
   "source": "",
   "id": "b262c2ab39d5dfa8",
   "outputs": [],
   "execution_count": 20
  },
  {
   "metadata": {},
   "cell_type": "markdown",
   "source": "# Compute Returns",
   "id": "6d558a7d8852c0dc"
  },
  {
   "metadata": {},
   "cell_type": "markdown",
   "source": "## Overall returns",
   "id": "5a69603e9bf3e0d1"
  },
  {
   "metadata": {
    "ExecuteTime": {
     "end_time": "2025-01-25T09:03:20.014274Z",
     "start_time": "2025-01-25T09:03:20.009704Z"
    }
   },
   "cell_type": "code",
   "source": [
    "# Function to compute returns\n",
    "def compute_gross_returns(df):\n",
    "    # Calculate daily coupons (coupon/365) and lagged price\n",
    "    df.loc[:, 'daily_coupons'] = df['coupon'] / 365\n",
    "    df.loc[:, 'prev_price'] = df.groupby('id')['price'].shift(1)  # Lagged price for each bond\n",
    "\n",
    "    # Compute returns using the formula\n",
    "    df.loc[:, 'returns'] = ((df['price'] + df['daily_coupons']) - df['prev_price']) / df['prev_price']\n",
    "\n",
    "    return df"
   ],
   "id": "2e871c1ca73e8000",
   "outputs": [],
   "execution_count": 11
  },
  {
   "metadata": {
    "ExecuteTime": {
     "end_time": "2025-01-25T09:03:20.791575Z",
     "start_time": "2025-01-25T09:03:20.063569Z"
    }
   },
   "cell_type": "code",
   "source": [
    "data = process_data(data)\n",
    "data = compute_gross_returns(data)"
   ],
   "id": "38fcfe0ffb10bca2",
   "outputs": [],
   "execution_count": 12
  },
  {
   "metadata": {},
   "cell_type": "markdown",
   "source": "# Carry",
   "id": "cb1d6c33a530dcf7"
  },
  {
   "metadata": {
    "ExecuteTime": {
     "end_time": "2025-01-25T09:03:20.797101Z",
     "start_time": "2025-01-25T09:03:20.795375Z"
    }
   },
   "cell_type": "code",
   "source": [
    "def compute_carry(df):\n",
    "    df['carry'] = df['daily_coupons'] / df['prev_price']\n",
    "    return df"
   ],
   "id": "b1ac50dd00e44c5b",
   "outputs": [],
   "execution_count": 13
  },
  {
   "metadata": {
    "ExecuteTime": {
     "end_time": "2025-01-25T09:03:20.808023Z",
     "start_time": "2025-01-25T09:03:20.804580Z"
    }
   },
   "cell_type": "code",
   "source": "data = compute_carry(data)",
   "id": "63b6f1d53cba62ba",
   "outputs": [],
   "execution_count": 14
  },
  {
   "metadata": {},
   "cell_type": "markdown",
   "source": "## RollDown",
   "id": "16dd6b4430e674a4"
  },
  {
   "metadata": {
    "ExecuteTime": {
     "end_time": "2025-01-25T09:10:19.172389Z",
     "start_time": "2025-01-25T09:03:20.814393Z"
    }
   },
   "cell_type": "code",
   "source": "data = rd.compute_rolldown(data)",
   "id": "f108180047b02a44",
   "outputs": [
    {
     "name": "stderr",
     "output_type": "stream",
     "text": [
      "100%|█████████▉| 3846/3847 [06:58<00:00,  9.19it/s]\n"
     ]
    }
   ],
   "execution_count": 15
  },
  {
   "metadata": {},
   "cell_type": "markdown",
   "source": "## Excess returns",
   "id": "da057dd084d1317f"
  },
  {
   "metadata": {
    "ExecuteTime": {
     "end_time": "2025-01-25T09:10:19.231469Z",
     "start_time": "2025-01-25T09:10:19.211881Z"
    }
   },
   "cell_type": "code",
   "source": "data['Excess Returns'] = data['returns'] - data['carry'] - data['rolldown']",
   "id": "abab12ff51fd1163",
   "outputs": [],
   "execution_count": 16
  },
  {
   "metadata": {},
   "cell_type": "markdown",
   "source": "# Cross Sectional Regression",
   "id": "16e9a57d581eb970"
  },
  {
   "metadata": {
    "ExecuteTime": {
     "end_time": "2025-01-25T09:10:26.091639Z",
     "start_time": "2025-01-25T09:10:19.260714Z"
    }
   },
   "cell_type": "code",
   "source": "params = csr.cross_sectional_regression_nelson_siegel(data, loadings_df)",
   "id": "c080d6dd36f0bd8b",
   "outputs": [
    {
     "name": "stderr",
     "output_type": "stream",
     "text": [
      "100%|██████████| 3847/3847 [00:06<00:00, 565.34it/s]\n"
     ]
    }
   ],
   "execution_count": 17
  },
  {
   "metadata": {
    "ExecuteTime": {
     "end_time": "2025-01-25T09:15:31.918788Z",
     "start_time": "2025-01-25T09:15:31.910410Z"
    }
   },
   "cell_type": "code",
   "source": "params.mean()",
   "id": "9969622a5aaaa486",
   "outputs": [
    {
     "data": {
      "text/plain": [
       "date         2017-05-18 20:46:25.647425792\n",
       "const                             0.000377\n",
       "beta1                             0.000574\n",
       "beta2                            -0.003003\n",
       "r_squared                         0.638678\n",
       "dtype: object"
      ]
     },
     "execution_count": 36,
     "metadata": {},
     "output_type": "execute_result"
    }
   ],
   "execution_count": 36
  },
  {
   "metadata": {
    "ExecuteTime": {
     "end_time": "2025-01-25T09:10:26.135225Z",
     "start_time": "2025-01-25T09:10:26.133312Z"
    }
   },
   "cell_type": "code",
   "source": "",
   "id": "397f9b48dc2374e9",
   "outputs": [],
   "execution_count": null
  }
 ],
 "metadata": {
  "kernelspec": {
   "display_name": "Python 3",
   "language": "python",
   "name": "python3"
  },
  "language_info": {
   "codemirror_mode": {
    "name": "ipython",
    "version": 2
   },
   "file_extension": ".py",
   "mimetype": "text/x-python",
   "name": "python",
   "nbconvert_exporter": "python",
   "pygments_lexer": "ipython2",
   "version": "2.7.6"
  }
 },
 "nbformat": 4,
 "nbformat_minor": 5
}
