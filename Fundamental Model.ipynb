{
 "cells": [
  {
   "cell_type": "code",
   "id": "initial_id",
   "metadata": {
    "collapsed": true,
    "ExecuteTime": {
     "end_time": "2024-11-16T18:09:20.511353Z",
     "start_time": "2024-11-16T18:09:20.505351Z"
    }
   },
   "source": [
    "import pandas as pd\n",
    "import numpy as np"
   ],
   "outputs": [],
   "execution_count": 35
  },
  {
   "metadata": {
    "ExecuteTime": {
     "end_time": "2024-11-16T18:09:21.287130Z",
     "start_time": "2024-11-16T18:09:21.278798Z"
    }
   },
   "cell_type": "code",
   "source": "data = pd.read_csv('/Users/vittoriomanfriani/Desktop/BSIC/Backtesting series - Part 3/CMT 2015-2024')",
   "id": "e61ad66fab5fb242",
   "outputs": [],
   "execution_count": 36
  },
  {
   "metadata": {
    "ExecuteTime": {
     "end_time": "2024-11-16T18:09:22.148415Z",
     "start_time": "2024-11-16T18:09:22.138954Z"
    }
   },
   "cell_type": "code",
   "source": "data.head()",
   "id": "ac3b8596af608918",
   "outputs": [
    {
     "data": {
      "text/plain": [
       "    timestamp  US_CMT_10Y  US_CMT_2Y  US_CMT_30Y  US_CMT_5Y  US_CMT_7Y\n",
       "0  2015-01-01       2.172      0.666       2.752      1.654      1.972\n",
       "1  2015-01-02       2.111      0.667       2.688      1.608      1.915\n",
       "2  2015-01-05       2.033      0.659       2.599      1.565      1.846\n",
       "3  2015-01-06       1.941      0.627       2.503      1.479      1.758\n",
       "4  2015-01-07       1.969      0.611       2.529      1.479      1.775"
      ],
      "text/html": [
       "<div>\n",
       "<style scoped>\n",
       "    .dataframe tbody tr th:only-of-type {\n",
       "        vertical-align: middle;\n",
       "    }\n",
       "\n",
       "    .dataframe tbody tr th {\n",
       "        vertical-align: top;\n",
       "    }\n",
       "\n",
       "    .dataframe thead th {\n",
       "        text-align: right;\n",
       "    }\n",
       "</style>\n",
       "<table border=\"1\" class=\"dataframe\">\n",
       "  <thead>\n",
       "    <tr style=\"text-align: right;\">\n",
       "      <th></th>\n",
       "      <th>timestamp</th>\n",
       "      <th>US_CMT_10Y</th>\n",
       "      <th>US_CMT_2Y</th>\n",
       "      <th>US_CMT_30Y</th>\n",
       "      <th>US_CMT_5Y</th>\n",
       "      <th>US_CMT_7Y</th>\n",
       "    </tr>\n",
       "  </thead>\n",
       "  <tbody>\n",
       "    <tr>\n",
       "      <th>0</th>\n",
       "      <td>2015-01-01</td>\n",
       "      <td>2.172</td>\n",
       "      <td>0.666</td>\n",
       "      <td>2.752</td>\n",
       "      <td>1.654</td>\n",
       "      <td>1.972</td>\n",
       "    </tr>\n",
       "    <tr>\n",
       "      <th>1</th>\n",
       "      <td>2015-01-02</td>\n",
       "      <td>2.111</td>\n",
       "      <td>0.667</td>\n",
       "      <td>2.688</td>\n",
       "      <td>1.608</td>\n",
       "      <td>1.915</td>\n",
       "    </tr>\n",
       "    <tr>\n",
       "      <th>2</th>\n",
       "      <td>2015-01-05</td>\n",
       "      <td>2.033</td>\n",
       "      <td>0.659</td>\n",
       "      <td>2.599</td>\n",
       "      <td>1.565</td>\n",
       "      <td>1.846</td>\n",
       "    </tr>\n",
       "    <tr>\n",
       "      <th>3</th>\n",
       "      <td>2015-01-06</td>\n",
       "      <td>1.941</td>\n",
       "      <td>0.627</td>\n",
       "      <td>2.503</td>\n",
       "      <td>1.479</td>\n",
       "      <td>1.758</td>\n",
       "    </tr>\n",
       "    <tr>\n",
       "      <th>4</th>\n",
       "      <td>2015-01-07</td>\n",
       "      <td>1.969</td>\n",
       "      <td>0.611</td>\n",
       "      <td>2.529</td>\n",
       "      <td>1.479</td>\n",
       "      <td>1.775</td>\n",
       "    </tr>\n",
       "  </tbody>\n",
       "</table>\n",
       "</div>"
      ]
     },
     "execution_count": 37,
     "metadata": {},
     "output_type": "execute_result"
    }
   ],
   "execution_count": 37
  },
  {
   "metadata": {
    "ExecuteTime": {
     "end_time": "2024-11-16T18:09:23.325742Z",
     "start_time": "2024-11-16T18:09:23.321669Z"
    }
   },
   "cell_type": "code",
   "source": [
    "# Rename columns to match maturities in years\n",
    "data.columns = [col.split('_')[-1].replace(\"Y\", \"\") for col in data.columns]\n",
    "\n",
    "# Define maturities\n",
    "maturities = np.array(data.columns[1:], dtype = float)"
   ],
   "id": "42bb31aff9a06f7e",
   "outputs": [],
   "execution_count": 38
  },
  {
   "metadata": {
    "ExecuteTime": {
     "end_time": "2024-11-16T18:13:45.165529Z",
     "start_time": "2024-11-16T18:13:45.159275Z"
    }
   },
   "cell_type": "code",
   "source": [
    "# Apply Nelson-Siegel Model\n",
    "def nelson_siegel(params, maturities):\n",
    "    beta0, beta1, beta2, lambd = params\n",
    "    t = maturities\n",
    "    return beta0 + beta1 * (1 - np.exp(-lambd * t)) / (lambd * t) + beta2 * ((1 - np.exp(-lambd * t)) / (lambd * t) - np.exp(-lambd * t))\n"
   ],
   "id": "96d8560b652a9e17",
   "outputs": [],
   "execution_count": 40
  },
  {
   "metadata": {
    "ExecuteTime": {
     "end_time": "2024-11-16T18:14:00.663725Z",
     "start_time": "2024-11-16T18:14:00.658280Z"
    }
   },
   "cell_type": "code",
   "source": [
    "# Error function to minimize to find optimal params\n",
    "def error_function(params, maturities, data):\n",
    "    data_hat = nelson_siegel(params, maturities)\n",
    "    return np.sum((data - data_hat) ** 2)"
   ],
   "id": "1da04d021484daf1",
   "outputs": [],
   "execution_count": 41
  },
  {
   "metadata": {
    "ExecuteTime": {
     "end_time": "2024-11-16T19:15:40.690118Z",
     "start_time": "2024-11-16T19:15:23.119349Z"
    }
   },
   "cell_type": "code",
   "source": [
    "from scipy.optimize import minimize\n",
    "\n",
    "# Initial parameters for Nelson-Siegel model\n",
    "initial_params = [0.03, -0.01, 0.01, 0.1]\n",
    "\n",
    "# # Store results in a DataFrame\n",
    "fitted_results = []\n",
    "\n",
    "for _, row in data.iterrows():\n",
    "    date = row['timestamp']\n",
    "    yields = row[1:].values \n",
    "    \n",
    "    # minimize error function\n",
    "    result = minimize(\n",
    "        error_function,\n",
    "        initial_params,\n",
    "        args=(maturities, yields),\n",
    "        method=\"L-BFGS-B\",\n",
    "        bounds=[(0, 10), (-10, 10), (-10, 10), (0.01, 1)],\n",
    "    )\n",
    "    \n",
    "    # find fitted params and compute residuals\n",
    "    fitted_params = result.x\n",
    "    residuals = yields - nelson_siegel(fitted_params, maturities)\n",
    "    \n",
    "    # store results in a dictionary\n",
    "    fitted_results.append({\n",
    "        \"Date\": date,\n",
    "        \"Beta0 (Level)\": fitted_params[0],\n",
    "        \"Beta1 (Slope)\": fitted_params[1],\n",
    "        \"Beta2 (Curvature)\": fitted_params[2],\n",
    "        \"Lambda\": fitted_params[3],\n",
    "        \"Residuals\": residuals.tolist()\n",
    "    })\n",
    "\n",
    "# convert results to a DataSet\n",
    "fitted_results_df = pd.DataFrame(fitted_results)\n"
   ],
   "id": "6af7621b9f3020e1",
   "outputs": [],
   "execution_count": 120
  },
  {
   "metadata": {
    "ExecuteTime": {
     "end_time": "2024-11-16T19:15:43.060188Z",
     "start_time": "2024-11-16T19:15:43.047551Z"
    }
   },
   "cell_type": "code",
   "source": "fitted_results_df",
   "id": "35daa93ec8f0223",
   "outputs": [
    {
     "data": {
      "text/plain": [
       "            Date  Beta0 (Level)  Beta1 (Slope)  Beta2 (Curvature)    Lambda  \\\n",
       "0     2015-01-01       2.972459      -3.599186          -0.000436  0.487436   \n",
       "1     2015-01-02       2.909103      -3.432089           0.000164  0.465031   \n",
       "2     2015-01-05       2.810050      -3.270550           0.000448  0.458035   \n",
       "3     2015-01-06       2.719071      -3.109015          -0.000006  0.431486   \n",
       "4     2015-01-07       2.751933      -3.199886           0.000028  0.437066   \n",
       "...          ...            ...            ...                ...       ...   \n",
       "2516  2024-08-26       4.259525       0.734367          -3.010710  0.491643   \n",
       "2517  2024-08-27       4.264242       0.775733          -3.146151  0.521919   \n",
       "2518  2024-08-28       4.278190       0.506771          -2.787718  0.494254   \n",
       "2519  2024-08-29       4.356656      -0.068016          -2.024356  0.379519   \n",
       "2520  2024-08-30       4.341335       0.803497          -3.284493  0.562096   \n",
       "\n",
       "                                              Residuals  \n",
       "0     [-0.06762248871993926, -0.007142844066070131, ...  \n",
       "1     [-0.06715627810926295, -0.007853430214975199, ...  \n",
       "2     [-0.07042239463105826, -0.009361082757208261, ...  \n",
       "3     [-0.0671657823334979, -0.009381428750120269, 0...  \n",
       "4     [-0.060066818322533466, -0.007605156763876297,...  \n",
       "...                                                 ...  \n",
       "2516  [-0.004964065860943556, 0.00025702320184306515...  \n",
       "2517  [-0.006553001917954937, 0.0002889991734384978,...  \n",
       "2518  [-0.0038850982911320386, 0.0001965312268779051...  \n",
       "2519  [-0.0012320604113513767, 0.05790459701858719, ...  \n",
       "2520  [-0.009443872454511837, 0.00033951361927542223...  \n",
       "\n",
       "[2521 rows x 6 columns]"
      ],
      "text/html": [
       "<div>\n",
       "<style scoped>\n",
       "    .dataframe tbody tr th:only-of-type {\n",
       "        vertical-align: middle;\n",
       "    }\n",
       "\n",
       "    .dataframe tbody tr th {\n",
       "        vertical-align: top;\n",
       "    }\n",
       "\n",
       "    .dataframe thead th {\n",
       "        text-align: right;\n",
       "    }\n",
       "</style>\n",
       "<table border=\"1\" class=\"dataframe\">\n",
       "  <thead>\n",
       "    <tr style=\"text-align: right;\">\n",
       "      <th></th>\n",
       "      <th>Date</th>\n",
       "      <th>Beta0 (Level)</th>\n",
       "      <th>Beta1 (Slope)</th>\n",
       "      <th>Beta2 (Curvature)</th>\n",
       "      <th>Lambda</th>\n",
       "      <th>Residuals</th>\n",
       "    </tr>\n",
       "  </thead>\n",
       "  <tbody>\n",
       "    <tr>\n",
       "      <th>0</th>\n",
       "      <td>2015-01-01</td>\n",
       "      <td>2.972459</td>\n",
       "      <td>-3.599186</td>\n",
       "      <td>-0.000436</td>\n",
       "      <td>0.487436</td>\n",
       "      <td>[-0.06762248871993926, -0.007142844066070131, ...</td>\n",
       "    </tr>\n",
       "    <tr>\n",
       "      <th>1</th>\n",
       "      <td>2015-01-02</td>\n",
       "      <td>2.909103</td>\n",
       "      <td>-3.432089</td>\n",
       "      <td>0.000164</td>\n",
       "      <td>0.465031</td>\n",
       "      <td>[-0.06715627810926295, -0.007853430214975199, ...</td>\n",
       "    </tr>\n",
       "    <tr>\n",
       "      <th>2</th>\n",
       "      <td>2015-01-05</td>\n",
       "      <td>2.810050</td>\n",
       "      <td>-3.270550</td>\n",
       "      <td>0.000448</td>\n",
       "      <td>0.458035</td>\n",
       "      <td>[-0.07042239463105826, -0.009361082757208261, ...</td>\n",
       "    </tr>\n",
       "    <tr>\n",
       "      <th>3</th>\n",
       "      <td>2015-01-06</td>\n",
       "      <td>2.719071</td>\n",
       "      <td>-3.109015</td>\n",
       "      <td>-0.000006</td>\n",
       "      <td>0.431486</td>\n",
       "      <td>[-0.0671657823334979, -0.009381428750120269, 0...</td>\n",
       "    </tr>\n",
       "    <tr>\n",
       "      <th>4</th>\n",
       "      <td>2015-01-07</td>\n",
       "      <td>2.751933</td>\n",
       "      <td>-3.199886</td>\n",
       "      <td>0.000028</td>\n",
       "      <td>0.437066</td>\n",
       "      <td>[-0.060066818322533466, -0.007605156763876297,...</td>\n",
       "    </tr>\n",
       "    <tr>\n",
       "      <th>...</th>\n",
       "      <td>...</td>\n",
       "      <td>...</td>\n",
       "      <td>...</td>\n",
       "      <td>...</td>\n",
       "      <td>...</td>\n",
       "      <td>...</td>\n",
       "    </tr>\n",
       "    <tr>\n",
       "      <th>2516</th>\n",
       "      <td>2024-08-26</td>\n",
       "      <td>4.259525</td>\n",
       "      <td>0.734367</td>\n",
       "      <td>-3.010710</td>\n",
       "      <td>0.491643</td>\n",
       "      <td>[-0.004964065860943556, 0.00025702320184306515...</td>\n",
       "    </tr>\n",
       "    <tr>\n",
       "      <th>2517</th>\n",
       "      <td>2024-08-27</td>\n",
       "      <td>4.264242</td>\n",
       "      <td>0.775733</td>\n",
       "      <td>-3.146151</td>\n",
       "      <td>0.521919</td>\n",
       "      <td>[-0.006553001917954937, 0.0002889991734384978,...</td>\n",
       "    </tr>\n",
       "    <tr>\n",
       "      <th>2518</th>\n",
       "      <td>2024-08-28</td>\n",
       "      <td>4.278190</td>\n",
       "      <td>0.506771</td>\n",
       "      <td>-2.787718</td>\n",
       "      <td>0.494254</td>\n",
       "      <td>[-0.0038850982911320386, 0.0001965312268779051...</td>\n",
       "    </tr>\n",
       "    <tr>\n",
       "      <th>2519</th>\n",
       "      <td>2024-08-29</td>\n",
       "      <td>4.356656</td>\n",
       "      <td>-0.068016</td>\n",
       "      <td>-2.024356</td>\n",
       "      <td>0.379519</td>\n",
       "      <td>[-0.0012320604113513767, 0.05790459701858719, ...</td>\n",
       "    </tr>\n",
       "    <tr>\n",
       "      <th>2520</th>\n",
       "      <td>2024-08-30</td>\n",
       "      <td>4.341335</td>\n",
       "      <td>0.803497</td>\n",
       "      <td>-3.284493</td>\n",
       "      <td>0.562096</td>\n",
       "      <td>[-0.009443872454511837, 0.00033951361927542223...</td>\n",
       "    </tr>\n",
       "  </tbody>\n",
       "</table>\n",
       "<p>2521 rows × 6 columns</p>\n",
       "</div>"
      ]
     },
     "execution_count": 121,
     "metadata": {},
     "output_type": "execute_result"
    }
   ],
   "execution_count": 121
  },
  {
   "metadata": {
    "ExecuteTime": {
     "end_time": "2024-11-16T19:15:48.494020Z",
     "start_time": "2024-11-16T19:15:48.484771Z"
    }
   },
   "cell_type": "code",
   "source": [
    "# get dataset of bond prices\n",
    "prices_df = pd.DataFrame(index = data.timestamp)\n",
    "for i in data.columns:\n",
    "    if i == ('timestamp'):\n",
    "        continue\n",
    "    prices_df[i] = np.array(100/(1 + data[i]/100)**float(i))"
   ],
   "id": "6c4addf3fc9e377d",
   "outputs": [],
   "execution_count": 122
  },
  {
   "metadata": {
    "ExecuteTime": {
     "end_time": "2024-11-16T19:15:50.593778Z",
     "start_time": "2024-11-16T19:15:50.583196Z"
    }
   },
   "cell_type": "code",
   "source": [
    "# clean the dataset of factors\n",
    "factors_df = pd.DataFrame(index = fitted_results_df.Date)\n",
    "factors_df['Beta0 (Level)'] = np.array(fitted_results_df['Beta0 (Level)']/100)\n",
    "factors_df['Beta1 (Slope)'] = np.array(fitted_results_df['Beta1 (Slope)']/100)\n",
    "factors_df['Beta2 (Curvature)'] = np.array(fitted_results_df['Beta2 (Curvature)']/100)\n",
    "\n",
    "# get returns dataset\n",
    "returns_df = prices_df.pct_change().dropna()\n",
    "\n",
    "# align the index of two dataset\n",
    "factors_df = factors_df[1:]"
   ],
   "id": "9520b78ca256d94d",
   "outputs": [],
   "execution_count": 123
  },
  {
   "metadata": {
    "ExecuteTime": {
     "end_time": "2024-11-16T19:15:53.137051Z",
     "start_time": "2024-11-16T19:15:53.129398Z"
    }
   },
   "cell_type": "code",
   "source": [
    "import statsmodels.api as sm\n",
    "\n",
    "# regress returns over the factors\n",
    "def rolling_regression(returns_df, factors_df, window_size=252):\n",
    "    # Initialize a dictionary to store rolling loadings\n",
    "    loadings = {col: [] for col in ['const'] + list(factors_df.columns)}\n",
    "    \n",
    "    # List to store dates corresponding to each regression\n",
    "    dates = []\n",
    "    \n",
    "    # Iterate over each asset\n",
    "    for col in returns_df.columns:\n",
    "        y = returns_df[col]  # Dependent variable\n",
    "        \n",
    "        # Iterate over the data using a rolling window approach\n",
    "        for i in range(window_size, len(returns_df)):  # Adjusted range\n",
    "            # Select the current rolling window of data\n",
    "            y_window = y.iloc[i - window_size:i]  \n",
    "            X_window = factors_df.iloc[i - window_size:i]\n",
    "            X_window = sm.add_constant(X_window)  # Add constant for intercept\n",
    "            \n",
    "            # Perform regression\n",
    "            model = sm.OLS(y_window, X_window).fit() \n",
    "            \n",
    "            # Use the end date of the current rolling window\n",
    "            if col == returns_df.columns[0]:  # Append dates only once\n",
    "                dates.append(returns_df.index[i])\n",
    "            \n",
    "            # Store coefficients for each loading\n",
    "            for factor, loading in model.params.items():\n",
    "                loadings[factor].append(loading)\n",
    "\n",
    "    # Create DataFrames for each loading\n",
    "    loading_datasets = {}\n",
    "    for factor, loading in loadings.items():\n",
    "        loading_datasets[factor] = pd.DataFrame(\n",
    "            np.array(loading).reshape(len(dates), len(returns_df.columns)),\n",
    "            index=dates,\n",
    "            columns=returns_df.columns\n",
    "        )\n",
    "\n",
    "    return loading_datasets"
   ],
   "id": "24dbc3593302dcde",
   "outputs": [],
   "execution_count": 124
  },
  {
   "metadata": {
    "ExecuteTime": {
     "end_time": "2024-11-16T19:16:02.222699Z",
     "start_time": "2024-11-16T19:15:56.041717Z"
    }
   },
   "cell_type": "code",
   "source": "loading_datasets = rolling_regression(returns_df, factors_df)",
   "id": "1cb5de6a09fb8198",
   "outputs": [],
   "execution_count": 125
  }
 ],
 "metadata": {
  "kernelspec": {
   "display_name": "Python 3",
   "language": "python",
   "name": "python3"
  },
  "language_info": {
   "codemirror_mode": {
    "name": "ipython",
    "version": 2
   },
   "file_extension": ".py",
   "mimetype": "text/x-python",
   "name": "python",
   "nbconvert_exporter": "python",
   "pygments_lexer": "ipython2",
   "version": "2.7.6"
  }
 },
 "nbformat": 4,
 "nbformat_minor": 5
}
