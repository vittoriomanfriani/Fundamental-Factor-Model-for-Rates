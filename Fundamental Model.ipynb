{
 "cells": [
  {
   "cell_type": "code",
   "id": "initial_id",
   "metadata": {
    "collapsed": true,
    "ExecuteTime": {
     "end_time": "2024-11-19T22:13:55.127402Z",
     "start_time": "2024-11-19T22:13:55.122371Z"
    }
   },
   "source": [
    "import pandas as pd\n",
    "import numpy as np"
   ],
   "outputs": [],
   "execution_count": 133
  },
  {
   "metadata": {
    "ExecuteTime": {
     "end_time": "2024-11-19T22:13:55.382011Z",
     "start_time": "2024-11-19T22:13:55.133274Z"
    }
   },
   "cell_type": "code",
   "source": "data = pd.read_parquet('/Users/vittoriomanfriani/Desktop/bonds_us.pq')",
   "id": "e61ad66fab5fb242",
   "outputs": [],
   "execution_count": 134
  },
  {
   "metadata": {
    "ExecuteTime": {
     "end_time": "2024-11-19T22:13:55.424757Z",
     "start_time": "2024-11-19T22:13:55.419680Z"
    }
   },
   "cell_type": "code",
   "source": [
    "data = data[:50000]\n",
    "data.head()"
   ],
   "id": "ac3b8596af608918",
   "outputs": [
    {
     "data": {
      "text/plain": [
       "                              price  yield  dv01  coupon   maturity\n",
       "timestamp  id                                                      \n",
       "2000-01-03 US912810BU17  100.812500  5.895   NaN   8.250 2005-05-15\n",
       "           US912810BX55  101.625000  6.781   NaN   7.625 2007-02-15\n",
       "           US912810BZ04  102.734375  6.803   NaN   7.875 2007-11-15\n",
       "           US912810CC00  104.968750  6.797   NaN   8.375 2008-08-15\n",
       "           US912810CE65  106.453125  6.817   NaN   8.750 2008-11-15"
      ],
      "text/html": [
       "<div>\n",
       "<style scoped>\n",
       "    .dataframe tbody tr th:only-of-type {\n",
       "        vertical-align: middle;\n",
       "    }\n",
       "\n",
       "    .dataframe tbody tr th {\n",
       "        vertical-align: top;\n",
       "    }\n",
       "\n",
       "    .dataframe thead th {\n",
       "        text-align: right;\n",
       "    }\n",
       "</style>\n",
       "<table border=\"1\" class=\"dataframe\">\n",
       "  <thead>\n",
       "    <tr style=\"text-align: right;\">\n",
       "      <th></th>\n",
       "      <th></th>\n",
       "      <th>price</th>\n",
       "      <th>yield</th>\n",
       "      <th>dv01</th>\n",
       "      <th>coupon</th>\n",
       "      <th>maturity</th>\n",
       "    </tr>\n",
       "    <tr>\n",
       "      <th>timestamp</th>\n",
       "      <th>id</th>\n",
       "      <th></th>\n",
       "      <th></th>\n",
       "      <th></th>\n",
       "      <th></th>\n",
       "      <th></th>\n",
       "    </tr>\n",
       "  </thead>\n",
       "  <tbody>\n",
       "    <tr>\n",
       "      <th rowspan=\"5\" valign=\"top\">2000-01-03</th>\n",
       "      <th>US912810BU17</th>\n",
       "      <td>100.812500</td>\n",
       "      <td>5.895</td>\n",
       "      <td>NaN</td>\n",
       "      <td>8.250</td>\n",
       "      <td>2005-05-15</td>\n",
       "    </tr>\n",
       "    <tr>\n",
       "      <th>US912810BX55</th>\n",
       "      <td>101.625000</td>\n",
       "      <td>6.781</td>\n",
       "      <td>NaN</td>\n",
       "      <td>7.625</td>\n",
       "      <td>2007-02-15</td>\n",
       "    </tr>\n",
       "    <tr>\n",
       "      <th>US912810BZ04</th>\n",
       "      <td>102.734375</td>\n",
       "      <td>6.803</td>\n",
       "      <td>NaN</td>\n",
       "      <td>7.875</td>\n",
       "      <td>2007-11-15</td>\n",
       "    </tr>\n",
       "    <tr>\n",
       "      <th>US912810CC00</th>\n",
       "      <td>104.968750</td>\n",
       "      <td>6.797</td>\n",
       "      <td>NaN</td>\n",
       "      <td>8.375</td>\n",
       "      <td>2008-08-15</td>\n",
       "    </tr>\n",
       "    <tr>\n",
       "      <th>US912810CE65</th>\n",
       "      <td>106.453125</td>\n",
       "      <td>6.817</td>\n",
       "      <td>NaN</td>\n",
       "      <td>8.750</td>\n",
       "      <td>2008-11-15</td>\n",
       "    </tr>\n",
       "  </tbody>\n",
       "</table>\n",
       "</div>"
      ]
     },
     "execution_count": 135,
     "metadata": {},
     "output_type": "execute_result"
    }
   ],
   "execution_count": 135
  },
  {
   "metadata": {
    "ExecuteTime": {
     "end_time": "2024-11-19T22:13:55.502111Z",
     "start_time": "2024-11-19T22:13:55.471948Z"
    }
   },
   "cell_type": "code",
   "source": [
    "# Convert 'maturity' to datetime\n",
    "data['maturity'] = pd.to_datetime(data['maturity'], errors='coerce')\n",
    "\n",
    "# Drop rows where the 'maturity' is NaT (missing)\n",
    "data = data.dropna(subset=['maturity'])\n",
    "\n",
    "# Compute time to maturity\n",
    "data.reset_index(inplace=True)\n",
    "data['time to maturity'] = (data['maturity'] - data['timestamp']) / pd.Timedelta(days=365.25)\n",
    "\n",
    "# Get time to maturities dataset\n",
    "maturities = data.pivot(index='timestamp', columns='id', values='time to maturity')\n",
    "maturities.head()\n",
    "\n",
    "# Get yield dataset\n",
    "yields = data.pivot(index='timestamp', columns='id', values='yield')"
   ],
   "id": "42bb31aff9a06f7e",
   "outputs": [],
   "execution_count": 136
  },
  {
   "metadata": {
    "ExecuteTime": {
     "end_time": "2024-11-19T22:13:55.594316Z",
     "start_time": "2024-11-19T22:13:55.521686Z"
    }
   },
   "cell_type": "code",
   "source": [
    "# Before proceeding we interpolate nans only if there is one consecutive\n",
    "\n",
    "# Function to check single NaN in each column\n",
    "def is_single_nan(series):\n",
    "    mask = series.isna()\n",
    "    # Single NaN is identified as a NaN surrounded by non-NaNs\n",
    "    return mask & ~mask.shift(1, fill_value=False) & ~mask.shift(-1, fill_value=False)\n",
    "\n",
    "# apply the function both to maturities and yields dataset\n",
    "\n",
    "# Mask for single NaNs\n",
    "single_nan_mask_maturities = maturities.apply(is_single_nan)\n",
    "single_nan_mask_yields = yields.apply(is_single_nan)\n",
    "\n",
    "maturities = maturities.where(~single_nan_mask_maturities, maturities.interpolate(method='linear', limit=1, axis=0))\n",
    "yields = yields.where(~single_nan_mask_yields, yields.interpolate(method='linear', limit=1, axis=0))"
   ],
   "id": "62558e4800db04ad",
   "outputs": [],
   "execution_count": 137
  },
  {
   "metadata": {
    "ExecuteTime": {
     "end_time": "2024-11-19T22:13:55.599032Z",
     "start_time": "2024-11-19T22:13:55.596762Z"
    }
   },
   "cell_type": "code",
   "source": [
    "# Apply Nelson-Siegel Model\n",
    "def nelson_siegel(params, maturities, lambd_1):\n",
    "    beta0, beta1, beta2 = params\n",
    "    t = maturities\n",
    "    return beta0 + beta1 * (1 - np.exp(-lambd_1 * t)) / (lambd_1 * t) + beta2 * ((1 - np.exp(-lambd_1 * t)) / (lambd_1 * t) - np.exp(-lambd_1 * t))"
   ],
   "id": "96d8560b652a9e17",
   "outputs": [],
   "execution_count": 138
  },
  {
   "metadata": {
    "ExecuteTime": {
     "end_time": "2024-11-19T22:13:55.629094Z",
     "start_time": "2024-11-19T22:13:55.626830Z"
    }
   },
   "cell_type": "code",
   "source": [
    "# Error function to minimize to find optimal params\n",
    "def error_function(params, maturities, data, lambd):\n",
    "    data_hat = nelson_siegel(params, maturities, lambd)\n",
    "    return np.sum((data - data_hat) ** 2)"
   ],
   "id": "1da04d021484daf1",
   "outputs": [],
   "execution_count": 139
  },
  {
   "metadata": {
    "ExecuteTime": {
     "end_time": "2024-11-19T22:13:55.658744Z",
     "start_time": "2024-11-19T22:13:55.655726Z"
    }
   },
   "cell_type": "code",
   "source": [
    "# Apply Nelson-Siegel Model to the dataset\n",
    "from scipy.optimize import minimize\n",
    "\n",
    "def apply_nelson_siegel(yields, maturities, lambdas=[1.37, 3]):\n",
    "\n",
    "    # Store results in a DataFrame\n",
    "    fitted_results = []\n",
    "    initial_params = [0.03, -0.01, 0.01]  # Initial guess for beta parameters\n",
    "\n",
    "    for i in range(yields.shape[0]):\n",
    "        date = yields.index[i]\n",
    "        current_yields = yields.iloc[i].dropna()\n",
    "        current_maturities = maturities.iloc[i].dropna()\n",
    "\n",
    "        best_loss = float(\"inf\")\n",
    "        best_params = None\n",
    "        best_lambda = None\n",
    "\n",
    "        # Grid search over lambda\n",
    "        for lambd in lambdas:\n",
    "            result = minimize(\n",
    "                error_function,\n",
    "                initial_params,\n",
    "                args=(current_maturities, current_yields, lambd),  \n",
    "                method=\"L-BFGS-B\",\n",
    "                bounds=[(0, 10), (-10, 10), (-10, 10)] \n",
    "            )\n",
    "\n",
    "            # Update best parameters and lambda if this result is better\n",
    "            if result.fun < best_loss:\n",
    "                best_loss = result.fun\n",
    "                best_params = result.x\n",
    "                best_lambda = lambd\n",
    "\n",
    "        # Store results for the current date\n",
    "        fitted_results.append({\n",
    "            \"Date\": date,\n",
    "            \"Beta0 (Level)\": best_params[0],\n",
    "            \"Beta1 (Slope)\": best_params[1],\n",
    "            \"Beta2 (Curvature)\": best_params[2],\n",
    "            \"Lambda\": best_lambda, \n",
    "        })\n",
    "\n",
    "    # Convert results to a DataFrame\n",
    "    fitted_results_df = pd.DataFrame(fitted_results)\n",
    "\n",
    "    return fitted_results_df\n",
    "\n"
   ],
   "id": "6af7621b9f3020e1",
   "outputs": [],
   "execution_count": 140
  },
  {
   "metadata": {
    "ExecuteTime": {
     "end_time": "2024-11-19T22:14:07.098371Z",
     "start_time": "2024-11-19T22:13:55.685281Z"
    }
   },
   "cell_type": "code",
   "source": "params = apply_nelson_siegel(yields, maturities)",
   "id": "234e3a59e69b85dd",
   "outputs": [],
   "execution_count": 141
  },
  {
   "metadata": {
    "ExecuteTime": {
     "end_time": "2024-11-19T22:14:07.138700Z",
     "start_time": "2024-11-19T22:14:07.133220Z"
    }
   },
   "cell_type": "code",
   "source": "params",
   "id": "78d25fbeee2e713a",
   "outputs": [
    {
     "data": {
      "text/plain": [
       "          Date  Beta0 (Level)  Beta1 (Slope)  Beta2 (Curvature)  Lambda\n",
       "0   2000-01-03       6.889290      -1.467346          -0.000126    1.37\n",
       "1   2000-01-04       6.774065      -1.422886           0.110175    1.37\n",
       "2   2000-01-05       6.848181      -1.368698          -1.250202    3.00\n",
       "3   2000-01-06       6.760991      -1.163270          -1.359537    3.00\n",
       "4   2000-01-07       6.763819      -0.960529          -1.702070    3.00\n",
       "..         ...            ...            ...                ...     ...\n",
       "293 2001-02-16       5.566368      -0.233660          -2.499310    1.37\n",
       "294 2001-02-19       5.570319      -0.145280          -2.663298    1.37\n",
       "295 2001-02-20       5.581642      -0.052124          -2.851767    1.37\n",
       "296 2001-02-21       5.618232      -0.156302          -2.913523    1.37\n",
       "297 2001-02-22       5.651693      -0.168348          -3.204550    1.37\n",
       "\n",
       "[298 rows x 5 columns]"
      ],
      "text/html": [
       "<div>\n",
       "<style scoped>\n",
       "    .dataframe tbody tr th:only-of-type {\n",
       "        vertical-align: middle;\n",
       "    }\n",
       "\n",
       "    .dataframe tbody tr th {\n",
       "        vertical-align: top;\n",
       "    }\n",
       "\n",
       "    .dataframe thead th {\n",
       "        text-align: right;\n",
       "    }\n",
       "</style>\n",
       "<table border=\"1\" class=\"dataframe\">\n",
       "  <thead>\n",
       "    <tr style=\"text-align: right;\">\n",
       "      <th></th>\n",
       "      <th>Date</th>\n",
       "      <th>Beta0 (Level)</th>\n",
       "      <th>Beta1 (Slope)</th>\n",
       "      <th>Beta2 (Curvature)</th>\n",
       "      <th>Lambda</th>\n",
       "    </tr>\n",
       "  </thead>\n",
       "  <tbody>\n",
       "    <tr>\n",
       "      <th>0</th>\n",
       "      <td>2000-01-03</td>\n",
       "      <td>6.889290</td>\n",
       "      <td>-1.467346</td>\n",
       "      <td>-0.000126</td>\n",
       "      <td>1.37</td>\n",
       "    </tr>\n",
       "    <tr>\n",
       "      <th>1</th>\n",
       "      <td>2000-01-04</td>\n",
       "      <td>6.774065</td>\n",
       "      <td>-1.422886</td>\n",
       "      <td>0.110175</td>\n",
       "      <td>1.37</td>\n",
       "    </tr>\n",
       "    <tr>\n",
       "      <th>2</th>\n",
       "      <td>2000-01-05</td>\n",
       "      <td>6.848181</td>\n",
       "      <td>-1.368698</td>\n",
       "      <td>-1.250202</td>\n",
       "      <td>3.00</td>\n",
       "    </tr>\n",
       "    <tr>\n",
       "      <th>3</th>\n",
       "      <td>2000-01-06</td>\n",
       "      <td>6.760991</td>\n",
       "      <td>-1.163270</td>\n",
       "      <td>-1.359537</td>\n",
       "      <td>3.00</td>\n",
       "    </tr>\n",
       "    <tr>\n",
       "      <th>4</th>\n",
       "      <td>2000-01-07</td>\n",
       "      <td>6.763819</td>\n",
       "      <td>-0.960529</td>\n",
       "      <td>-1.702070</td>\n",
       "      <td>3.00</td>\n",
       "    </tr>\n",
       "    <tr>\n",
       "      <th>...</th>\n",
       "      <td>...</td>\n",
       "      <td>...</td>\n",
       "      <td>...</td>\n",
       "      <td>...</td>\n",
       "      <td>...</td>\n",
       "    </tr>\n",
       "    <tr>\n",
       "      <th>293</th>\n",
       "      <td>2001-02-16</td>\n",
       "      <td>5.566368</td>\n",
       "      <td>-0.233660</td>\n",
       "      <td>-2.499310</td>\n",
       "      <td>1.37</td>\n",
       "    </tr>\n",
       "    <tr>\n",
       "      <th>294</th>\n",
       "      <td>2001-02-19</td>\n",
       "      <td>5.570319</td>\n",
       "      <td>-0.145280</td>\n",
       "      <td>-2.663298</td>\n",
       "      <td>1.37</td>\n",
       "    </tr>\n",
       "    <tr>\n",
       "      <th>295</th>\n",
       "      <td>2001-02-20</td>\n",
       "      <td>5.581642</td>\n",
       "      <td>-0.052124</td>\n",
       "      <td>-2.851767</td>\n",
       "      <td>1.37</td>\n",
       "    </tr>\n",
       "    <tr>\n",
       "      <th>296</th>\n",
       "      <td>2001-02-21</td>\n",
       "      <td>5.618232</td>\n",
       "      <td>-0.156302</td>\n",
       "      <td>-2.913523</td>\n",
       "      <td>1.37</td>\n",
       "    </tr>\n",
       "    <tr>\n",
       "      <th>297</th>\n",
       "      <td>2001-02-22</td>\n",
       "      <td>5.651693</td>\n",
       "      <td>-0.168348</td>\n",
       "      <td>-3.204550</td>\n",
       "      <td>1.37</td>\n",
       "    </tr>\n",
       "  </tbody>\n",
       "</table>\n",
       "<p>298 rows × 5 columns</p>\n",
       "</div>"
      ]
     },
     "execution_count": 142,
     "metadata": {},
     "output_type": "execute_result"
    }
   ],
   "execution_count": 142
  },
  {
   "metadata": {
    "ExecuteTime": {
     "end_time": "2024-11-19T22:14:07.188146Z",
     "start_time": "2024-11-19T22:14:07.184548Z"
    }
   },
   "cell_type": "code",
   "source": [
    "# Same Function but using Ridge Approach\n",
    "\n",
    "# We define ridge error function as\n",
    "def ridge_error_function(params, maturities, data, lambd, alpha=0.1):\n",
    "    data_hat = nelson_siegel(params, maturities, lambd)\n",
    "    error = np.sum((data - data_hat) ** 2) \n",
    "    regularization = alpha * (params[0]**2 + params[1]**2 + params[2]**2) \n",
    "    return error + regularization\n",
    "\n",
    "# Apply Nelson-Siegel Model to the dataset\n",
    "def apply_nelson_siegel_ridge(yields, maturities, lambdas = [1.37, 3], alpha=0.1):\n",
    "    fitted_results = []\n",
    "    initial_params = [0.03, -0.01, 0.01] \n",
    "\n",
    "    for i in range(yields.shape[0]):\n",
    "        date = yields.index[i]\n",
    "        current_yields = yields.iloc[i].dropna()\n",
    "        current_maturities = maturities.iloc[i].dropna()\n",
    "\n",
    "        best_loss = float(\"inf\")\n",
    "        best_params = None\n",
    "        best_lambdas = None\n",
    "\n",
    "        # Grid Search over lambdas\n",
    "        for lambd in lambdas:\n",
    "            result = minimize(\n",
    "                ridge_error_function,\n",
    "                initial_params,\n",
    "                args=(current_maturities, current_yields, lambd, alpha),\n",
    "                method=\"L-BFGS-B\",\n",
    "                bounds=[(-10, 10), (-10, 10), (-10, 10)]  \n",
    "            )\n",
    "\n",
    "            if result.fun < best_loss:\n",
    "                best_loss = result.fun\n",
    "                best_params = result.x\n",
    "                best_lambdas = lambdas\n",
    "\n",
    "        # Store results\n",
    "        fitted_results.append({\n",
    "            \"Date\": date,\n",
    "            \"Beta0 (Level)\": best_params[0],\n",
    "            \"Beta1 (Slope)\": best_params[1],\n",
    "            \"Beta2 (Curvature)\": best_params[2],\n",
    "            \"Lambda 1\": best_lambdas[0],\n",
    "        })\n",
    "\n",
    "    # Convert results to a DataFrame\n",
    "    fitted_results_df = pd.DataFrame(fitted_results)\n",
    "    \n",
    "    return fitted_results_df"
   ],
   "id": "fad40d32dc2331d4",
   "outputs": [],
   "execution_count": 143
  },
  {
   "metadata": {
    "ExecuteTime": {
     "end_time": "2024-11-19T22:14:18.330966Z",
     "start_time": "2024-11-19T22:14:07.217999Z"
    }
   },
   "cell_type": "code",
   "source": "params_ridge = apply_nelson_siegel_ridge(yields, maturities)",
   "id": "1b282321938440af",
   "outputs": [],
   "execution_count": 144
  },
  {
   "metadata": {
    "ExecuteTime": {
     "end_time": "2024-11-19T22:14:18.355961Z",
     "start_time": "2024-11-19T22:14:18.350527Z"
    }
   },
   "cell_type": "code",
   "source": "params_ridge",
   "id": "ddf440ca89cdd62f",
   "outputs": [
    {
     "data": {
      "text/plain": [
       "          Date  Beta0 (Level)  Beta1 (Slope)  Beta2 (Curvature)  Lambda 1\n",
       "0   2000-01-03       6.873806      -1.445274           0.031344      1.37\n",
       "1   2000-01-04       6.759682      -1.399904           0.133584      1.37\n",
       "2   2000-01-05       6.859185      -1.463373           0.093872      1.37\n",
       "3   2000-01-06       6.776379      -1.300740          -0.076606      1.37\n",
       "4   2000-01-07       6.743245      -0.987500          -1.520963      1.37\n",
       "..         ...            ...            ...                ...       ...\n",
       "293 2001-02-16       5.534213      -0.266282          -2.254946      1.37\n",
       "294 2001-02-19       5.537107      -0.179723          -2.407947      1.37\n",
       "295 2001-02-20       5.547066      -0.089912          -2.581142      1.37\n",
       "296 2001-02-21       5.583052      -0.193122          -2.640662      1.37\n",
       "297 2001-02-22       5.614299      -0.208516          -2.912267      1.37\n",
       "\n",
       "[298 rows x 5 columns]"
      ],
      "text/html": [
       "<div>\n",
       "<style scoped>\n",
       "    .dataframe tbody tr th:only-of-type {\n",
       "        vertical-align: middle;\n",
       "    }\n",
       "\n",
       "    .dataframe tbody tr th {\n",
       "        vertical-align: top;\n",
       "    }\n",
       "\n",
       "    .dataframe thead th {\n",
       "        text-align: right;\n",
       "    }\n",
       "</style>\n",
       "<table border=\"1\" class=\"dataframe\">\n",
       "  <thead>\n",
       "    <tr style=\"text-align: right;\">\n",
       "      <th></th>\n",
       "      <th>Date</th>\n",
       "      <th>Beta0 (Level)</th>\n",
       "      <th>Beta1 (Slope)</th>\n",
       "      <th>Beta2 (Curvature)</th>\n",
       "      <th>Lambda 1</th>\n",
       "    </tr>\n",
       "  </thead>\n",
       "  <tbody>\n",
       "    <tr>\n",
       "      <th>0</th>\n",
       "      <td>2000-01-03</td>\n",
       "      <td>6.873806</td>\n",
       "      <td>-1.445274</td>\n",
       "      <td>0.031344</td>\n",
       "      <td>1.37</td>\n",
       "    </tr>\n",
       "    <tr>\n",
       "      <th>1</th>\n",
       "      <td>2000-01-04</td>\n",
       "      <td>6.759682</td>\n",
       "      <td>-1.399904</td>\n",
       "      <td>0.133584</td>\n",
       "      <td>1.37</td>\n",
       "    </tr>\n",
       "    <tr>\n",
       "      <th>2</th>\n",
       "      <td>2000-01-05</td>\n",
       "      <td>6.859185</td>\n",
       "      <td>-1.463373</td>\n",
       "      <td>0.093872</td>\n",
       "      <td>1.37</td>\n",
       "    </tr>\n",
       "    <tr>\n",
       "      <th>3</th>\n",
       "      <td>2000-01-06</td>\n",
       "      <td>6.776379</td>\n",
       "      <td>-1.300740</td>\n",
       "      <td>-0.076606</td>\n",
       "      <td>1.37</td>\n",
       "    </tr>\n",
       "    <tr>\n",
       "      <th>4</th>\n",
       "      <td>2000-01-07</td>\n",
       "      <td>6.743245</td>\n",
       "      <td>-0.987500</td>\n",
       "      <td>-1.520963</td>\n",
       "      <td>1.37</td>\n",
       "    </tr>\n",
       "    <tr>\n",
       "      <th>...</th>\n",
       "      <td>...</td>\n",
       "      <td>...</td>\n",
       "      <td>...</td>\n",
       "      <td>...</td>\n",
       "      <td>...</td>\n",
       "    </tr>\n",
       "    <tr>\n",
       "      <th>293</th>\n",
       "      <td>2001-02-16</td>\n",
       "      <td>5.534213</td>\n",
       "      <td>-0.266282</td>\n",
       "      <td>-2.254946</td>\n",
       "      <td>1.37</td>\n",
       "    </tr>\n",
       "    <tr>\n",
       "      <th>294</th>\n",
       "      <td>2001-02-19</td>\n",
       "      <td>5.537107</td>\n",
       "      <td>-0.179723</td>\n",
       "      <td>-2.407947</td>\n",
       "      <td>1.37</td>\n",
       "    </tr>\n",
       "    <tr>\n",
       "      <th>295</th>\n",
       "      <td>2001-02-20</td>\n",
       "      <td>5.547066</td>\n",
       "      <td>-0.089912</td>\n",
       "      <td>-2.581142</td>\n",
       "      <td>1.37</td>\n",
       "    </tr>\n",
       "    <tr>\n",
       "      <th>296</th>\n",
       "      <td>2001-02-21</td>\n",
       "      <td>5.583052</td>\n",
       "      <td>-0.193122</td>\n",
       "      <td>-2.640662</td>\n",
       "      <td>1.37</td>\n",
       "    </tr>\n",
       "    <tr>\n",
       "      <th>297</th>\n",
       "      <td>2001-02-22</td>\n",
       "      <td>5.614299</td>\n",
       "      <td>-0.208516</td>\n",
       "      <td>-2.912267</td>\n",
       "      <td>1.37</td>\n",
       "    </tr>\n",
       "  </tbody>\n",
       "</table>\n",
       "<p>298 rows × 5 columns</p>\n",
       "</div>"
      ]
     },
     "execution_count": 145,
     "metadata": {},
     "output_type": "execute_result"
    }
   ],
   "execution_count": 145
  },
  {
   "metadata": {
    "ExecuteTime": {
     "end_time": "2024-11-19T22:15:16.224769Z",
     "start_time": "2024-11-19T22:15:16.202885Z"
    }
   },
   "cell_type": "code",
   "source": [
    "# clean the dataset of factors\n",
    "factors_df = pd.DataFrame(index = params.Date)\n",
    "factors_df['Beta0 (Level)'] = np.array(params['Beta0 (Level)'])\n",
    "factors_df['Beta1 (Slope)'] = np.array(params['Beta1 (Slope)'])\n",
    "factors_df['Beta2 (Curvature)'] = np.array(params['Beta2 (Curvature)'])"
   ],
   "id": "9520b78ca256d94d",
   "outputs": [],
   "execution_count": 158
  },
  {
   "metadata": {
    "ExecuteTime": {
     "end_time": "2024-11-19T22:17:11.657348Z",
     "start_time": "2024-11-19T22:17:11.626688Z"
    }
   },
   "cell_type": "code",
   "source": [
    "# Get dataset of returns\n",
    "\n",
    "# First we get a dataset of prices\n",
    "prices = data.pivot(index='timestamp', columns='id', values='price')\n",
    "\n",
    "# Then we get a dataset of coupons\n",
    "coupons = data.pivot(index='timestamp', columns='id', values='coupon')\n",
    "returns = prices.pct_change().iloc[1:]\n",
    "\n",
    "# Function to compute returns\n",
    "def compute_returns(prices, coupons):\n",
    "    # Get Daily Coupons\n",
    "    daily_coupons = coupons/365\n",
    "    \n",
    "    # compute returns with formula (R_(t, t+1) = P_(t+1) + c  - P_(t) / P(t))\n",
    "    returns = (prices + daily_coupons - prices.shift(1))/prices.shift(1)\n",
    "    \n",
    "    return returns\n",
    "\n",
    "returns = compute_returns(prices,coupons)\n"
   ],
   "id": "93bd848a7f62d754",
   "outputs": [],
   "execution_count": 163
  },
  {
   "metadata": {
    "ExecuteTime": {
     "end_time": "2024-11-19T22:17:13.154698Z",
     "start_time": "2024-11-19T22:17:13.152103Z"
    }
   },
   "cell_type": "code",
   "source": [
    "# Align the factors dataset to the on of returns\n",
    "factors_df = factors_df.iloc[1:]\n",
    "returns = returns.iloc[1:]"
   ],
   "id": "b83c1ff4f1dc8257",
   "outputs": [],
   "execution_count": 164
  },
  {
   "metadata": {
    "ExecuteTime": {
     "end_time": "2024-11-19T22:17:14.622615Z",
     "start_time": "2024-11-19T22:17:14.616857Z"
    }
   },
   "cell_type": "code",
   "source": [
    "import statsmodels.api as sm\n",
    "\n",
    "# regress returns over the factors\n",
    "def rolling_regression(data, factors_df, window_size=252):\n",
    "    # Initialize a dictionary to store rolling loadings\n",
    "    loadings = {col: [] for col in ['const'] + list(factors_df.columns)}\n",
    "    \n",
    "    # List to store dates corresponding to each regression\n",
    "    dates = []\n",
    "    \n",
    "    # Iterate over each asset\n",
    "    for col in data.columns:\n",
    "        y = data[col]  # Dependent variable\n",
    "        \n",
    "        # Iterate over the data using a rolling window approach\n",
    "        for i in range(window_size, len(data)):  \n",
    "            # Select the current rolling window of data\n",
    "            y_window = y.iloc[i - window_size:i]  \n",
    "            X_window = factors_df.iloc[i - window_size:i]\n",
    "            X_window = sm.add_constant(X_window) \n",
    "            \n",
    "            # Perform regression\n",
    "            model = sm.OLS(y_window, X_window).fit() \n",
    "            \n",
    "            # Use the end date of the current rolling window\n",
    "            if col == data.columns[0]:\n",
    "                dates.append(data.index[i])\n",
    "            \n",
    "            # Store coefficients for each loading\n",
    "            for factor, loading in model.params.items():\n",
    "                loadings[factor].append(loading)\n",
    "\n",
    "    # Create DataFrames for each loading\n",
    "    loading_datasets = {}\n",
    "    for factor, loading in loadings.items():\n",
    "        loading_datasets[factor] = pd.DataFrame(\n",
    "            np.array(loading).reshape(len(dates), len(data.columns)),\n",
    "            index=dates,\n",
    "            columns=data.columns\n",
    "        )\n",
    "\n",
    "    return loading_datasets"
   ],
   "id": "24dbc3593302dcde",
   "outputs": [],
   "execution_count": 165
  },
  {
   "metadata": {
    "ExecuteTime": {
     "end_time": "2024-11-19T22:17:21.599362Z",
     "start_time": "2024-11-19T22:17:16.862878Z"
    }
   },
   "cell_type": "code",
   "source": "loading_datasets = rolling_regression(returns, factors_df)",
   "id": "1cb5de6a09fb8198",
   "outputs": [],
   "execution_count": 166
  },
  {
   "metadata": {
    "ExecuteTime": {
     "end_time": "2024-11-19T22:14:23.739947Z",
     "start_time": "2024-11-19T22:14:23.736225Z"
    }
   },
   "cell_type": "code",
   "source": [
    "def factor_and_idio_returns(returns, loading_datasets):\n",
    "    \n",
    "    # get columns names\n",
    "    names = list(loading_datasets.keys())[1:]\n",
    "    \n",
    "    factor_returns = pd.DataFrame(index=loading_datasets[names[0]].index, columns=loading_datasets[names[0]].columns)\n",
    "    idio_returns = pd.DataFrame(index=loading_datasets[names[0]].index, columns=loading_datasets[names[0]].columns)\n",
    "    factor_returns.fillna(0, inplace=True)\n",
    "    idio_returns.fillna(0, inplace=True)\n",
    "    \n",
    "    # align the returns dataset\n",
    "    returns = returns.loc[factor_returns.index]\n",
    "\n",
    "    for name in names:\n",
    "        factor_returns += loading_datasets[name] * returns\n",
    "    \n",
    "    idio_returns = returns - factor_returns\n",
    "    \n",
    "    return factor_returns, idio_returns"
   ],
   "id": "311e49bd75689f96",
   "outputs": [],
   "execution_count": 155
  },
  {
   "metadata": {
    "ExecuteTime": {
     "end_time": "2024-11-19T22:17:31.004719Z",
     "start_time": "2024-11-19T22:17:30.976009Z"
    }
   },
   "cell_type": "code",
   "source": "factor_returns, idio_returns = factor_and_idio_returns(returns, loading_datasets)",
   "id": "f54980af18a4f5dd",
   "outputs": [],
   "execution_count": 167
  }
 ],
 "metadata": {
  "kernelspec": {
   "display_name": "Python 3",
   "language": "python",
   "name": "python3"
  },
  "language_info": {
   "codemirror_mode": {
    "name": "ipython",
    "version": 2
   },
   "file_extension": ".py",
   "mimetype": "text/x-python",
   "name": "python",
   "nbconvert_exporter": "python",
   "pygments_lexer": "ipython2",
   "version": "2.7.6"
  }
 },
 "nbformat": 4,
 "nbformat_minor": 5
}
