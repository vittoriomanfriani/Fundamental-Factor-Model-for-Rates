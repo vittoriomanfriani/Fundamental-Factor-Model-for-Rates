{
 "cells": [
  {
   "cell_type": "code",
   "id": "initial_id",
   "metadata": {
    "collapsed": true,
    "ExecuteTime": {
     "end_time": "2024-11-23T12:02:40.644664Z",
     "start_time": "2024-11-23T12:02:40.631108Z"
    }
   },
   "source": [
    "from spyder.plugins.help.utils.sphinxify import loading\n",
    "from tqdm import tqdm\n",
    "import pandas as pd\n",
    "import numpy as np\n",
    "from scipy.optimize import minimize\n",
    "from sklearn.model_selection import train_test_split\n",
    "from sklearn.metrics import mean_squared_error\n",
    "import QuantLib as ql\n",
    "import datetime\n",
    "\n",
    "from zope.interface.interface import fromMethod"
   ],
   "outputs": [],
   "execution_count": 842
  },
  {
   "metadata": {},
   "cell_type": "markdown",
   "source": "## Datasets",
   "id": "830e9b5849263c7a"
  },
  {
   "metadata": {
    "ExecuteTime": {
     "end_time": "2024-11-23T12:02:41.169513Z",
     "start_time": "2024-11-23T12:02:40.656651Z"
    }
   },
   "cell_type": "code",
   "source": "data = pd.read_parquet('/Users/vittoriomanfriani/Desktop/bonds_us.pq')",
   "id": "e61ad66fab5fb242",
   "outputs": [],
   "execution_count": 843
  },
  {
   "metadata": {
    "ExecuteTime": {
     "end_time": "2024-11-23T12:02:41.467334Z",
     "start_time": "2024-11-23T12:02:41.203663Z"
    }
   },
   "cell_type": "code",
   "source": [
    "def get_issuedt(df):\n",
    "    # print(df)\n",
    "    dates = df.index.get_level_values(0)\n",
    "    # print(dates)\n",
    "    start_dt = dates.min()\n",
    "    # print(start_dt)\n",
    "    return start_dt\n",
    "first_datapoints = data.groupby(level=1, axis=0).apply(get_issuedt)\n",
    "first_datapoints.name = 'first_datapoint'\n",
    "\n",
    "data = data.join(first_datapoints, on='id')\n",
    "\n",
    "data.head()"
   ],
   "id": "ac3b8596af608918",
   "outputs": [
    {
     "data": {
      "text/plain": [
       "                              price  yield  dv01  coupon   maturity  \\\n",
       "timestamp  id                                                         \n",
       "2000-01-03 US912810BU17  100.812500  5.895   NaN   8.250 2005-05-15   \n",
       "           US912810BX55  101.625000  6.781   NaN   7.625 2007-02-15   \n",
       "           US912810BZ04  102.734375  6.803   NaN   7.875 2007-11-15   \n",
       "           US912810CC00  104.968750  6.797   NaN   8.375 2008-08-15   \n",
       "           US912810CE65  106.453125  6.817   NaN   8.750 2008-11-15   \n",
       "\n",
       "                        first_datapoint  \n",
       "timestamp  id                            \n",
       "2000-01-03 US912810BU17      2000-01-03  \n",
       "           US912810BX55      2000-01-03  \n",
       "           US912810BZ04      2000-01-03  \n",
       "           US912810CC00      2000-01-03  \n",
       "           US912810CE65      2000-01-03  "
      ],
      "text/html": [
       "<div>\n",
       "<style scoped>\n",
       "    .dataframe tbody tr th:only-of-type {\n",
       "        vertical-align: middle;\n",
       "    }\n",
       "\n",
       "    .dataframe tbody tr th {\n",
       "        vertical-align: top;\n",
       "    }\n",
       "\n",
       "    .dataframe thead th {\n",
       "        text-align: right;\n",
       "    }\n",
       "</style>\n",
       "<table border=\"1\" class=\"dataframe\">\n",
       "  <thead>\n",
       "    <tr style=\"text-align: right;\">\n",
       "      <th></th>\n",
       "      <th></th>\n",
       "      <th>price</th>\n",
       "      <th>yield</th>\n",
       "      <th>dv01</th>\n",
       "      <th>coupon</th>\n",
       "      <th>maturity</th>\n",
       "      <th>first_datapoint</th>\n",
       "    </tr>\n",
       "    <tr>\n",
       "      <th>timestamp</th>\n",
       "      <th>id</th>\n",
       "      <th></th>\n",
       "      <th></th>\n",
       "      <th></th>\n",
       "      <th></th>\n",
       "      <th></th>\n",
       "      <th></th>\n",
       "    </tr>\n",
       "  </thead>\n",
       "  <tbody>\n",
       "    <tr>\n",
       "      <th rowspan=\"5\" valign=\"top\">2000-01-03</th>\n",
       "      <th>US912810BU17</th>\n",
       "      <td>100.812500</td>\n",
       "      <td>5.895</td>\n",
       "      <td>NaN</td>\n",
       "      <td>8.250</td>\n",
       "      <td>2005-05-15</td>\n",
       "      <td>2000-01-03</td>\n",
       "    </tr>\n",
       "    <tr>\n",
       "      <th>US912810BX55</th>\n",
       "      <td>101.625000</td>\n",
       "      <td>6.781</td>\n",
       "      <td>NaN</td>\n",
       "      <td>7.625</td>\n",
       "      <td>2007-02-15</td>\n",
       "      <td>2000-01-03</td>\n",
       "    </tr>\n",
       "    <tr>\n",
       "      <th>US912810BZ04</th>\n",
       "      <td>102.734375</td>\n",
       "      <td>6.803</td>\n",
       "      <td>NaN</td>\n",
       "      <td>7.875</td>\n",
       "      <td>2007-11-15</td>\n",
       "      <td>2000-01-03</td>\n",
       "    </tr>\n",
       "    <tr>\n",
       "      <th>US912810CC00</th>\n",
       "      <td>104.968750</td>\n",
       "      <td>6.797</td>\n",
       "      <td>NaN</td>\n",
       "      <td>8.375</td>\n",
       "      <td>2008-08-15</td>\n",
       "      <td>2000-01-03</td>\n",
       "    </tr>\n",
       "    <tr>\n",
       "      <th>US912810CE65</th>\n",
       "      <td>106.453125</td>\n",
       "      <td>6.817</td>\n",
       "      <td>NaN</td>\n",
       "      <td>8.750</td>\n",
       "      <td>2008-11-15</td>\n",
       "      <td>2000-01-03</td>\n",
       "    </tr>\n",
       "  </tbody>\n",
       "</table>\n",
       "</div>"
      ]
     },
     "execution_count": 844,
     "metadata": {},
     "output_type": "execute_result"
    }
   ],
   "execution_count": 844
  },
  {
   "metadata": {
    "ExecuteTime": {
     "end_time": "2024-11-23T12:02:42.398145Z",
     "start_time": "2024-11-23T12:02:41.470877Z"
    }
   },
   "cell_type": "code",
   "source": [
    "# Convert 'maturity' to datetime\n",
    "data['maturity'] = pd.to_datetime(data['maturity'], errors='coerce')\n",
    "\n",
    "# Drop rows where the 'maturity' is NaT (missing)\n",
    "data = data.dropna(subset=['maturity'])\n",
    "\n",
    "# Compute time to maturity\n",
    "data.reset_index(inplace=True)\n",
    "data['time to maturity'] = (data['maturity'] - data['timestamp']) / pd.Timedelta(days=365.25)\n",
    "\n",
    "# Get time to maturities dataset\n",
    "time_to_maturities = data.pivot(index='timestamp', columns='id', values='time to maturity')\n",
    "time_to_maturities.index = pd.to_datetime(time_to_maturities.index)\n",
    "issue_dates = data.pivot(index='timestamp', columns='id', values='first_datapoint')\n",
    "\n",
    "# Get maturities dataset\n",
    "maturities_dates = data.pivot(index='timestamp', columns='id', values='maturity')\n",
    "maturities_dates.index = pd.to_datetime(maturities_dates.index)"
   ],
   "id": "42bb31aff9a06f7e",
   "outputs": [],
   "execution_count": 845
  },
  {
   "metadata": {
    "ExecuteTime": {
     "end_time": "2024-11-23T12:02:42.414194Z",
     "start_time": "2024-11-23T12:02:42.408107Z"
    }
   },
   "cell_type": "code",
   "source": [
    "time_to_maturities = time_to_maturities.iloc[-650:-50]\n",
    "maturities_dates = maturities_dates.iloc[-650:-50]\n",
    "issue_dates = issue_dates.iloc[-650:-50]"
   ],
   "id": "cdf72722eafbc8d4",
   "outputs": [],
   "execution_count": 846
  },
  {
   "metadata": {
    "ExecuteTime": {
     "end_time": "2024-11-23T12:02:42.419144Z",
     "start_time": "2024-11-23T12:02:42.417082Z"
    }
   },
   "cell_type": "code",
   "source": [
    "# Function to check single NaN in each column\n",
    "def is_single_nan(series):\n",
    "    mask = series.isna()\n",
    "    # Single NaN is identified as a NaN surrounded by non-NaNs\n",
    "    return mask & ~mask.shift(1, fill_value=False) & ~mask.shift(-1, fill_value=False)"
   ],
   "id": "62558e4800db04ad",
   "outputs": [],
   "execution_count": 847
  },
  {
   "metadata": {
    "ExecuteTime": {
     "end_time": "2024-11-23T12:02:42.796197Z",
     "start_time": "2024-11-23T12:02:42.423464Z"
    }
   },
   "cell_type": "code",
   "source": [
    "# Mask for single NaNs\n",
    "single_nan_mask_maturities = time_to_maturities.apply(is_single_nan)\n",
    "single_nan_mask_maturity_dates = maturities_dates.apply(is_single_nan)\n",
    "\n",
    "time_to_maturities = time_to_maturities.where(~single_nan_mask_maturities, time_to_maturities.interpolate(method='linear', limit=1, axis=0))\n",
    "maturities_dates = maturities_dates.where(~single_nan_mask_maturity_dates, maturities_dates.interpolate(method='linear', limit=1, axis=0))"
   ],
   "id": "e7d322d45f09cbc6",
   "outputs": [],
   "execution_count": 848
  },
  {
   "metadata": {
    "ExecuteTime": {
     "end_time": "2024-11-23T12:02:43.329421Z",
     "start_time": "2024-11-23T12:02:42.798926Z"
    }
   },
   "cell_type": "code",
   "source": [
    "# Get other datasets\n",
    "\n",
    "# First we get a dataset of prices\n",
    "prices = pd.read_csv('/Users/vittoriomanfriani/Desktop/prices.csv')\n",
    "prices.set_index('timestamp', inplace=True)\n",
    "prices.index = pd.to_datetime(prices.index)\n",
    "# Then we get a dataset of coupons\n",
    "coupons = data.pivot(index='timestamp', columns='id', values='coupon')\n",
    "coupons.index = pd.to_datetime(coupons.index)"
   ],
   "id": "9e889686fd9667c7",
   "outputs": [],
   "execution_count": 849
  },
  {
   "metadata": {
    "ExecuteTime": {
     "end_time": "2024-11-23T12:02:43.333683Z",
     "start_time": "2024-11-23T12:02:43.331458Z"
    }
   },
   "cell_type": "code",
   "source": [
    "prices = prices.iloc[-650:-50]\n",
    "coupons = coupons.iloc[-650:-50]"
   ],
   "id": "b96992566fe99a8c",
   "outputs": [],
   "execution_count": 850
  },
  {
   "metadata": {
    "ExecuteTime": {
     "end_time": "2024-11-23T12:02:43.531835Z",
     "start_time": "2024-11-23T12:02:43.340577Z"
    }
   },
   "cell_type": "code",
   "source": [
    "# Before proceeding we interpolate nans only if there is one consecutive\n",
    "\n",
    "# apply the function both to prices and coupons dataset\n",
    "\n",
    "# Mask for single NaNs\n",
    "single_nan_mask_coupons = prices.apply(is_single_nan)\n",
    "\n",
    "coupons = coupons.where(~single_nan_mask_coupons, coupons.interpolate(method='linear', limit=1, axis=0))"
   ],
   "id": "d339a1f81523f921",
   "outputs": [],
   "execution_count": 851
  },
  {
   "metadata": {
    "ExecuteTime": {
     "end_time": "2024-11-23T12:02:43.793703Z",
     "start_time": "2024-11-23T12:02:43.537657Z"
    }
   },
   "cell_type": "code",
   "source": [
    "# Get yield dataset\n",
    "yields = pd.read_csv('/Users/vittoriomanfriani/Desktop/yields.csv')\n",
    "yields.set_index('timestamp', inplace=True)\n",
    "yields.index = pd.to_datetime(yields.index)\n",
    "yields = yields.iloc[-650:-50]"
   ],
   "id": "3fed37f8f13163d",
   "outputs": [],
   "execution_count": 852
  },
  {
   "metadata": {},
   "cell_type": "markdown",
   "source": "## Nelson Siegel Model",
   "id": "1af54be923fecc01"
  },
  {
   "metadata": {
    "ExecuteTime": {
     "end_time": "2024-11-23T12:02:43.798438Z",
     "start_time": "2024-11-23T12:02:43.796391Z"
    }
   },
   "cell_type": "code",
   "source": [
    "# Apply Nelson-Siegel Model\n",
    "def nelson_siegel(params, maturities, lambd):\n",
    "    beta0, beta1, beta2 = params\n",
    "    t = maturities\n",
    "    alpha_1 = (1 - np.exp(-t/lambd))/(t/lambd)\n",
    "    alpha_2 = (1 - np.exp(-t/lambd))/(t/lambd) - np.exp(-t/lambd)\n",
    "    return beta0 + beta1 * alpha_1 + beta2 * alpha_2"
   ],
   "id": "96d8560b652a9e17",
   "outputs": [],
   "execution_count": 853
  },
  {
   "metadata": {
    "ExecuteTime": {
     "end_time": "2024-11-23T12:02:43.802404Z",
     "start_time": "2024-11-23T12:02:43.800377Z"
    }
   },
   "cell_type": "code",
   "source": [
    "# Error function to minimize to find optimal params\n",
    "def error_function(params, maturities, data, lambd):\n",
    "    data_hat = nelson_siegel(params, maturities, lambd)\n",
    "    return np.sum((data - data_hat) ** 2)\n",
    "\n",
    "# We define ridge error function as\n",
    "def ridge_error_function(params, maturities, data, lambd, alpha=0.1):\n",
    "    data_hat = nelson_siegel(params, maturities, lambd)\n",
    "    error = np.sum((data - data_hat) ** 2) \n",
    "    regularization = alpha * (params[0]**2 + params[1]**2 + params[2]**2) \n",
    "    return error + regularization"
   ],
   "id": "1da04d021484daf1",
   "outputs": [],
   "execution_count": 854
  },
  {
   "metadata": {
    "ExecuteTime": {
     "end_time": "2024-11-23T12:02:43.809622Z",
     "start_time": "2024-11-23T12:02:43.804175Z"
    }
   },
   "cell_type": "code",
   "source": [
    "# Apply Nelson-Siegel Model to the dataset\n",
    "def apply_nelson_siegel(yields, maturities, lambdas = list(np.linspace(0.027, 1, 10)), ridge = False, alpha = 0.1):\n",
    "\n",
    "    # Store results in a DataFrame\n",
    "    fitted_results = []\n",
    "    test_metrics = []\n",
    "    \n",
    "    initial_params = [0.03, -0.01, 0.01] \n",
    "    \n",
    "    # Append arbitrary values to the list of possible lambdas \n",
    "    # (1.37 is the one that reflects best the curvature of \n",
    "    # the yield curve and 3 is the one that handles best multicollinearity)\n",
    "    lambdas.append(1.37)\n",
    "    lambdas.append(3)\n",
    "\n",
    "    for i in range(yields.shape[0]):\n",
    "        date = yields.index[i]\n",
    "        current_yields = yields.iloc[i].dropna()\n",
    "        current_maturities = maturities.iloc[i].dropna()\n",
    "        \n",
    "        # Align indices of current_yields and current_maturities\n",
    "        valid_indices = current_yields.index.intersection(current_maturities.index)\n",
    "        current_yields = current_yields.loc[valid_indices]\n",
    "        current_maturities = current_maturities.loc[valid_indices]\n",
    "        \n",
    "        # Split data into train and test sets (80% train, 20% test)\n",
    "        train_maturities, test_maturities, train_yields, test_yields = train_test_split(\n",
    "            current_maturities, current_yields, test_size=0.2, random_state=42, shuffle= False\n",
    "        )\n",
    "        \n",
    "        # Initialize variables to store best parameters\n",
    "        best_loss = float(\"inf\")\n",
    "        best_params = None\n",
    "        best_lambda = None\n",
    "\n",
    "        # Grid search over lambda\n",
    "        for lambd in lambdas:\n",
    "            \n",
    "            if ridge == False:\n",
    "                result = minimize(\n",
    "                    error_function,\n",
    "                    initial_params,\n",
    "                    args=(train_maturities, train_yields, lambd),  \n",
    "                    method=\"L-BFGS-B\",\n",
    "                    options={'maxiter': 1000}, \n",
    "                )\n",
    "            \n",
    "            if ridge == True:\n",
    "                # Grid Search over lambdas\n",
    "                result = minimize(\n",
    "                    ridge_error_function,\n",
    "                    initial_params,\n",
    "                    args=(train_maturities, train_yields, lambd, alpha),\n",
    "                    method=\"L-BFGS-B\",\n",
    "                    options={'maxiter': 1000}  \n",
    "                )\n",
    "            # Update best parameters and lambda if this result is better\n",
    "            if result.fun < best_loss:\n",
    "                best_loss = result.fun\n",
    "                best_params = result.x\n",
    "                best_lambda = lambd\n",
    "        \n",
    "        # Compute predictions on the test set\n",
    "        test_predictions = nelson_siegel(best_params, test_maturities, best_lambda)\n",
    "        \n",
    "        # Compute R^2\n",
    "        ss_res = np.sum((test_yields - test_predictions) ** 2)  \n",
    "        ss_tot = np.sum((test_yields - np.mean(test_yields)) ** 2) \n",
    "        r_squared = 1 - (ss_res / ss_tot)\n",
    "        \n",
    "        # Compute Mean Squared Error\n",
    "        mse = mean_squared_error(test_yields, test_predictions)\n",
    "\n",
    "        # Store results for the current date\n",
    "        fitted_results.append({\n",
    "            \"Date\": date,\n",
    "            \"Beta0 (Level)\": best_params[0],\n",
    "            \"Beta1 (Slope)\": best_params[1],\n",
    "            \"Beta2 (Curvature)\": best_params[2],\n",
    "            \"Lambda\": best_lambda, \n",
    "        })\n",
    "        \n",
    "        test_metrics.append({\n",
    "            \"Date\": date,\n",
    "            \"R^2\": r_squared,\n",
    "            \"MSE\": mse,\n",
    "        })\n",
    "\n",
    "    # Convert results to a DataFrame\n",
    "    fitted_results_df = pd.DataFrame(fitted_results)\n",
    "    test_metrics_df = pd.DataFrame(test_metrics)\n",
    "    \n",
    "    fitted_results_df.set_index('Date', inplace=True)\n",
    "    test_metrics_df.set_index('Date', inplace=True)\n",
    "\n",
    "    return fitted_results_df, test_metrics_df"
   ],
   "id": "6af7621b9f3020e1",
   "outputs": [],
   "execution_count": 855
  },
  {
   "metadata": {
    "ExecuteTime": {
     "end_time": "2024-11-23T12:02:43.817376Z",
     "start_time": "2024-11-23T12:02:43.811381Z"
    }
   },
   "cell_type": "code",
   "source": [
    "# Optimization problems without grid search but treating lambda as another parameter to optimize\n",
    "\n",
    "# Updated Nelson-Siegel model\n",
    "def nelson_siegel_lambd(params, maturities):\n",
    "    beta0, beta1, beta2, lambd = params\n",
    "    \n",
    "    # set a min value for lambda to account for 0 division in optimization problems\n",
    "    lambd = max(lambd, 1e-6)\n",
    "    \n",
    "    t = maturities\n",
    "    \n",
    "    alpha_1 = (1 - np.exp(-t/lambd))/(t/lambd)\n",
    "    alpha_2 = (1 - np.exp(-t/lambd))/(t/lambd) - np.exp(-t/lambd)\n",
    "    return beta0 + beta1 * alpha_1 + beta2 * alpha_2\n",
    "\n",
    "# Error function to minimize to find optimal params\n",
    "def error_function_lambd(params, maturities, data):\n",
    "    data_hat = nelson_siegel_lambd(params, maturities)\n",
    "    return np.sum((data - data_hat) ** 2)\n",
    "\n",
    "# We define ridge error function as\n",
    "def ridge_error_function_lambd(params, maturities, data, alpha=0.1):\n",
    "    data_hat = nelson_siegel_lambd(params, maturities)\n",
    "    error = np.sum((data - data_hat) ** 2) \n",
    "    regularization = alpha * (params[0]**2 + params[1]**2 + params[2]**2 + params[3]**2) \n",
    "    return error + regularization\n",
    "\n",
    "\n",
    "# Fit the model to the data and get performance metrics\n",
    "def apply_nelson_siegel_lambd(yields, maturities, ridge = False, alpha = 0.1):\n",
    "\n",
    "    # Store results in a DataFrame\n",
    "    fitted_results = []\n",
    "    test_metrics = []\n",
    "    \n",
    "    initial_params = [0.01, 0.01, 0.01, 1] \n",
    "\n",
    "    for i in range(yields.shape[0]):\n",
    "        date = yields.index[i]\n",
    "        current_yields = yields.iloc[i].dropna()\n",
    "        current_maturities = maturities.iloc[i].dropna()\n",
    "        \n",
    "        # Align indices of current_yields and current_maturities\n",
    "        valid_indices = current_yields.index.intersection(current_maturities.index)\n",
    "        current_yields = current_yields.loc[valid_indices]\n",
    "        current_maturities = current_maturities.loc[valid_indices]\n",
    "        \n",
    "        # Split data into train and test sets (80% train, 20% test)\n",
    "        train_maturities, test_maturities, train_yields, test_yields = train_test_split(\n",
    "            current_maturities, current_yields, test_size=0.2, random_state=42, shuffle= False\n",
    "        )\n",
    "        if ridge == False:\n",
    "            result = minimize(\n",
    "                    error_function_lambd,\n",
    "                    initial_params,\n",
    "                    args=(train_maturities, train_yields),  \n",
    "                    method=\"L-BFGS-B\",\n",
    "                    options={'maxiter': 1000}, \n",
    "                )\n",
    "            \n",
    "        if ridge == True:\n",
    "            result = minimize(\n",
    "                    ridge_error_function_lambd,\n",
    "                    initial_params,\n",
    "                    args=(train_maturities, train_yields, alpha),  \n",
    "                    method=\"L-BFGS-B\",\n",
    "                    options={'maxiter': 1000}, \n",
    "                )\n",
    "        \n",
    "        params = result.x\n",
    "        \n",
    "        # Compute predictions on the test set\n",
    "        test_predictions = nelson_siegel_lambd(params, test_maturities,)\n",
    "        \n",
    "        # Compute R^2\n",
    "        ss_res = np.sum((test_yields - test_predictions) ** 2)  \n",
    "        ss_tot = np.sum((test_yields - np.mean(test_yields)) ** 2) \n",
    "        r_squared = 1 - (ss_res / ss_tot)\n",
    "        \n",
    "        # Compute Mean Squared Error\n",
    "        mse = mean_squared_error(test_yields, test_predictions)\n",
    "\n",
    "        # Store results for the current date\n",
    "        fitted_results.append({\n",
    "            \"Date\": date,\n",
    "            \"Beta0 (Level)\": params[0],\n",
    "            \"Beta1 (Slope)\": params[1],\n",
    "            \"Beta2 (Curvature)\": params[2],\n",
    "            \"Lambda\": params[3], \n",
    "        })\n",
    "        \n",
    "        test_metrics.append({\n",
    "            \"Date\": date,\n",
    "            \"R^2\": r_squared,\n",
    "            \"MSE\": mse,\n",
    "        })\n",
    "\n",
    "    # Convert results to a DataFrame\n",
    "    fitted_results_df = pd.DataFrame(fitted_results)\n",
    "    test_metrics_df = pd.DataFrame(test_metrics)\n",
    "    fitted_results_df.set_index('Date', inplace=True)\n",
    "    test_metrics_df.set_index('Date', inplace=True)\n",
    "\n",
    "    return fitted_results_df, test_metrics_df"
   ],
   "id": "e07de6fd9b8cd4c",
   "outputs": [],
   "execution_count": 856
  },
  {
   "metadata": {},
   "cell_type": "markdown",
   "source": "## Run Nelson Siegel Model",
   "id": "60c1caedb49cecb7"
  },
  {
   "metadata": {
    "ExecuteTime": {
     "end_time": "2024-11-23T12:03:32.254400Z",
     "start_time": "2024-11-23T12:02:43.819105Z"
    }
   },
   "cell_type": "code",
   "source": "params, metrics = apply_nelson_siegel_lambd(yields, time_to_maturities, ridge=False)",
   "id": "234e3a59e69b85dd",
   "outputs": [],
   "execution_count": 857
  },
  {
   "metadata": {
    "ExecuteTime": {
     "end_time": "2024-11-23T12:04:17.123663Z",
     "start_time": "2024-11-23T12:03:32.259782Z"
    }
   },
   "cell_type": "code",
   "source": "params_ridge, metrics_ridge = apply_nelson_siegel_lambd(yields,time_to_maturities, ridge = True)",
   "id": "1b282321938440af",
   "outputs": [],
   "execution_count": 858
  },
  {
   "metadata": {
    "ExecuteTime": {
     "end_time": "2024-11-23T12:04:17.138689Z",
     "start_time": "2024-11-23T12:04:17.133499Z"
    }
   },
   "cell_type": "code",
   "source": [
    "print('OLS metrics\\n', metrics.mean())\n",
    "print('Ridge metrics\\n',metrics_ridge.mean())"
   ],
   "id": "3ba5f35a620a3dd0",
   "outputs": [
    {
     "name": "stdout",
     "output_type": "stream",
     "text": [
      "OLS metrics\n",
      " R^2    0.647721\n",
      "MSE    0.007110\n",
      "dtype: float64\n",
      "Ridge metrics\n",
      " R^2    0.617229\n",
      "MSE    0.008688\n",
      "dtype: float64\n"
     ]
    }
   ],
   "execution_count": 859
  },
  {
   "metadata": {
    "ExecuteTime": {
     "end_time": "2024-11-23T13:31:30.143946Z",
     "start_time": "2024-11-23T13:31:30.127959Z"
    }
   },
   "cell_type": "code",
   "source": [
    "# Function to extract evenly spread values\n",
    "def extract_evenly_spread_data(ttm_df, yield_df, num_points=15, ttm_range=(1, 30)):\n",
    "    # Select the row corresponding to the date\n",
    "    ttm_row = ttm_df.iloc[225]\n",
    "    yield_row = yield_df.iloc[225]\n",
    "    \n",
    "    # Define the evenly spaced time to maturities\n",
    "    evenly_spread_ttm = np.linspace(ttm_range[0], ttm_range[1], num_points)\n",
    "    \n",
    "    # Match each evenly spaced time to maturity with the closest actual value\n",
    "    ttm_yield_mapping = []\n",
    "    for target_ttm in evenly_spread_ttm:\n",
    "        # Find the closest time to maturity\n",
    "        closest_asset = (ttm_row - target_ttm).abs().idxmin()\n",
    "        \n",
    "        # Collect time to maturity and corresponding yield\n",
    "        ttm_yield_mapping.append((closest_asset, ttm_row[closest_asset], yield_row[closest_asset]))\n",
    "    \n",
    "    # Convert to a DataFrame for clarity\n",
    "    result = pd.DataFrame(\n",
    "        ttm_yield_mapping, columns=[\"Asset\", \"Time_to_Maturity\", \"Yield\"]\n",
    "    )\n",
    "    return result\n",
    "\n",
    "df_to_plot = extract_evenly_spread_data(time_to_maturities, yields)"
   ],
   "id": "548bccc347fef7d8",
   "outputs": [],
   "execution_count": 928
  },
  {
   "metadata": {
    "ExecuteTime": {
     "end_time": "2024-11-23T13:31:32.650674Z",
     "start_time": "2024-11-23T13:31:32.014938Z"
    }
   },
   "cell_type": "code",
   "source": [
    "from mpl_bsic import apply_bsic_logo\n",
    "from mpl_bsic import apply_bsic_style\n",
    "import matplotlib.pyplot as plt\n",
    "\n",
    "def plot_nelson_siegel(df, params, params_ridge):\n",
    "    # optimize paramterers\n",
    "    initial_params = [0.01, 0.01, 0.01, 1] \n",
    "    train_maturities = df['Time_to_Maturity']\n",
    "    train_yields = df['Yield']\n",
    "    \n",
    "    # params for OLS\n",
    "    result = minimize(\n",
    "                    error_function_lambd,\n",
    "                    initial_params,\n",
    "                    args=(train_maturities, train_yields),  \n",
    "                    method=\"L-BFGS-B\",\n",
    "                    options={'maxiter': 1000}, \n",
    "                )\n",
    "    \n",
    "    # params fo ridge\n",
    "    result = params.iloc[225]\n",
    "    result_ridge = params_ridge.iloc[225]\n",
    "    \n",
    "    x = np.linspace(0, 30, 200)\n",
    "    y = np.array([nelson_siegel_lambd(result, x_i) for x_i in x])\n",
    "    y_ridge = np.array([nelson_siegel_lambd(result_ridge, x_i) for x_i in x])\n",
    "    \n",
    "    fig, ax = plt.subplots(figsize = (10, 6), dpi =200)\n",
    "    ax.plot(x, y, label = 'OLS Error Function')\n",
    "    ax.plot(x, y_ridge, label = 'Ridge Error Function')\n",
    "    ax.plot(df['Time_to_Maturity'], df['Yield'], 'o', label = 'Training Points')\n",
    "    ax.set_xlabel('Time to Maturity')\n",
    "    ax.set_ylabel('Yield')\n",
    "    ax.set_title('Nelson-Siegel Model')\n",
    "    ax.legend()\n",
    "    apply_bsic_style(fig, ax)\n",
    "    apply_bsic_logo(fig, ax, location='bottom right')\n",
    "\n",
    "    \n",
    "plot_nelson_siegel(df_to_plot, params, params_ridge)"
   ],
   "id": "fc11a4ba76aec0fb",
   "outputs": [
    {
     "name": "stderr",
     "output_type": "stream",
     "text": [
      "/var/folders/9v/9q0jfr1s50g3gf5j556kf5ww0000gn/T/ipykernel_5077/1874980308.py:12: RuntimeWarning: invalid value encountered in scalar divide\n",
      "  alpha_1 = (1 - np.exp(-t/lambd))/(t/lambd)\n",
      "/var/folders/9v/9q0jfr1s50g3gf5j556kf5ww0000gn/T/ipykernel_5077/1874980308.py:13: RuntimeWarning: invalid value encountered in scalar divide\n",
      "  alpha_2 = (1 - np.exp(-t/lambd))/(t/lambd) - np.exp(-t/lambd)\n"
     ]
    },
    {
     "name": "stdout",
     "output_type": "stream",
     "text": [
      "fonts already added so will not add again\n"
     ]
    },
    {
     "data": {
      "text/plain": [
       "<Figure size 2000x1200 with 1 Axes>"
      ],
      "image/png": "[encoded data removed]"
     },
     "metadata": {},
     "output_type": "display_data"
    }
   ],
   "execution_count": 929
  },
  {
   "metadata": {},
   "cell_type": "markdown",
   "source": "## Factor Model",
   "id": "8e21fba921241b58"
  },
  {
   "metadata": {
    "ExecuteTime": {
     "end_time": "2024-11-23T12:04:17.752718Z",
     "start_time": "2024-11-23T12:04:17.749573Z"
    }
   },
   "cell_type": "code",
   "source": [
    "# clean the dataset of factors\n",
    "loadings_df = pd.DataFrame(index = params.index)\n",
    "loadings_df['Beta0 (Level)'] = np.array(params['Beta0 (Level)'])\n",
    "loadings_df['Beta1 (Slope)'] = (np.array(params['Beta1 (Slope)'])) \n",
    "loadings_df['Beta2 (Curvature)'] = np.array(params['Beta2 (Curvature)'])\n",
    "loadings_df['Lambda'] = (np.array(params['Lambda']))"
   ],
   "id": "9520b78ca256d94d",
   "outputs": [],
   "execution_count": 862
  },
  {
   "metadata": {
    "ExecuteTime": {
     "end_time": "2024-11-23T12:04:17.761194Z",
     "start_time": "2024-11-23T12:04:17.758202Z"
    }
   },
   "cell_type": "code",
   "source": [
    "# clean the dataset of factors from ridge model\n",
    "loadings_df_ridge = pd.DataFrame(index = params.index)\n",
    "loadings_df_ridge['Beta0 (Level)'] = np.array(params_ridge['Beta0 (Level)'])\n",
    "loadings_df_ridge['Beta1 (Slope)'] = np.array(params_ridge['Beta1 (Slope)'])\n",
    "loadings_df_ridge['Beta2 (Curvature)'] = np.array(params_ridge['Beta2 (Curvature)']) \n",
    "loadings_df_ridge['Lambda'] = (np.array(params_ridge['Lambda']))"
   ],
   "id": "c106211c2da92ec",
   "outputs": [],
   "execution_count": 863
  },
  {
   "metadata": {},
   "cell_type": "markdown",
   "source": "## Returns",
   "id": "4cca8d8e6835913b"
  },
  {
   "metadata": {
    "ExecuteTime": {
     "end_time": "2024-11-23T12:04:17.807811Z",
     "start_time": "2024-11-23T12:04:17.762909Z"
    }
   },
   "cell_type": "code",
   "source": [
    "# Get dataset of returns\n",
    "# Function to compute returns\n",
    "def compute_gross_returns(prices, coupons):\n",
    "    # Get Daily Coupons\n",
    "    daily_coupons = coupons/365\n",
    "    \n",
    "    # compute returns with formula (R_(t, t+1) = P_(t+1) + c  - P_(t) / P(t))\n",
    "    returns = (prices + daily_coupons - prices.shift(1))/prices.shift(1)\n",
    "    \n",
    "    return returns \n",
    "\n",
    "gross_returns = compute_gross_returns(prices,coupons)\n",
    "carry = (coupons/365)/prices.shift(1)\n"
   ],
   "id": "93bd848a7f62d754",
   "outputs": [],
   "execution_count": 864
  },
  {
   "metadata": {},
   "cell_type": "markdown",
   "source": "## Rolldown Computation",
   "id": "c10bdfeb5d7c05ea"
  },
  {
   "metadata": {
    "ExecuteTime": {
     "end_time": "2024-11-23T12:04:17.815594Z",
     "start_time": "2024-11-23T12:04:17.811706Z"
    }
   },
   "cell_type": "code",
   "source": [
    "def decompose_date(date: datetime.date):\n",
    "    return date.day, date.month, date.year"
   ],
   "id": "4a5e6ad0ff999959",
   "outputs": [],
   "execution_count": 865
  },
  {
   "metadata": {
    "ExecuteTime": {
     "end_time": "2024-11-23T12:31:20.367667Z",
     "start_time": "2024-11-23T12:31:20.351451Z"
    }
   },
   "cell_type": "code",
   "source": [
    "# price a bond\n",
    "def price_bond(price, current_date, time_to_maturity, maturity_date, coupon, issue_date, params, ytm = None):\n",
    "    # key data\n",
    "    if pd.isna(price) or pd.isna(coupon) or price <= 0:\n",
    "        return np.nan\n",
    "        \n",
    "    calendar = ql.UnitedStates(ql.UnitedStates.NYSE)  # calendar to follow for calculations (NYSE)\n",
    "    day_count_convention = ql.ActualActual(ql.ActualActual.Bond)  # the day count convention as specified in the bond\n",
    "    \n",
    "    day, month, year = decompose_date(current_date)\n",
    "    evaluation_date = ql.Date(day, month, year)\n",
    "    ql.Settings.instance().evaluationDate = evaluation_date\n",
    "    \n",
    "    # initialize bond data\n",
    "    d, m, y = decompose_date(issue_date)\n",
    "    issue_date = ql.Date(d, m, y)\n",
    "    \n",
    "    d, m, y = decompose_date(maturity_date)\n",
    "    maturity_date = ql.Date(d, m, y)\n",
    "    \n",
    "    if evaluation_date == maturity_date:\n",
    "        return np.nan\n",
    "    \n",
    "    tenor = ql.Period(ql.Semiannual)  # coupon frequency (semiannual)\n",
    "    date_generation = ql.DateGeneration.Backward\n",
    "    bussinessConvention = ql.Following\n",
    "    month_end = False\n",
    "    face_value = 100\n",
    "    \n",
    "    coupon = coupon\n",
    "    \n",
    "    if ytm == None:\n",
    "        # compute ytm with nelson siegel\n",
    "        ytm = nelson_siegel_lambd(params, time_to_maturity)/100\n",
    "\n",
    "    # create the schedule for the bond\n",
    "    schedule = ql.Schedule(issue_date, maturity_date, tenor, calendar, bussinessConvention, bussinessConvention,\n",
    "                           date_generation, month_end)\n",
    "\n",
    "    # Create the bond\n",
    "    bond = ql.FixedRateBond(\n",
    "        settlementDays=1,\n",
    "        faceAmount=face_value,\n",
    "        schedule=schedule,\n",
    "        coupons=[coupon],\n",
    "        paymentDayCounter=day_count_convention\n",
    "    )\n",
    "    \n",
    "    return bond.cleanPrice(ytm, day_count_convention, ql.Compounded, ql.Semiannual)"
   ],
   "id": "22557f3147d069ae",
   "outputs": [],
   "execution_count": 900
  },
  {
   "metadata": {
    "ExecuteTime": {
     "end_time": "2024-11-23T13:38:39.469517Z",
     "start_time": "2024-11-23T13:38:39.461013Z"
    }
   },
   "cell_type": "code",
   "source": [
    "# compute rolldown\n",
    "def compute_rolldown(yields, prices, time_to_maturities, coupons, maturities_date, issue_date_df, loadings_df):\n",
    "    \n",
    "    rolldown_returns = pd.DataFrame(index = prices.index, columns = prices.columns)\n",
    "    rolldown_prices = pd.DataFrame(index = prices.index, columns = prices.columns)\n",
    "    \n",
    "    # iterate over each column\n",
    "    for i in range(prices.shape[1]):\n",
    "        maturity_date = maturities_date.iloc[0, i]\n",
    "        issue_date = issue_date_df.iloc[0, i]\n",
    "        # iterate over each row\n",
    "        for j in range(1, prices.shape[0]):\n",
    "            # Handle nans\n",
    "            if pd.isna(prices.iloc[j, i]) or pd.isna(prices.iloc[j-1, i]) or not isinstance(prices.iloc[j, i], (float, int)):\n",
    "                rolldown_returns.iloc[j, i] = np.nan\n",
    "                continue\n",
    "            \n",
    "            # maturity date \n",
    "            if pd.isna(maturity_date):\n",
    "                # Get the boolean mask of non-NaT values\n",
    "                not_nat_indices = maturities_dates.iloc[:, i].notna()\n",
    "            \n",
    "                # Get the integer indices of non-NaT values\n",
    "                valid_indices = not_nat_indices[not_nat_indices].index\n",
    "            \n",
    "                # Access the first valid (non-NaT) value\n",
    "                maturity_date = maturities_dates.loc[valid_indices[0]]\n",
    "                maturity_date = maturity_date.iloc[i]\n",
    "                \n",
    "            # maturity date \n",
    "            if pd.isna(issue_date):\n",
    "                # Get the boolean mask of non-NaT values\n",
    "                not_nat_indices = issue_dates.iloc[:, i].notna()\n",
    "            \n",
    "                # Get the integer indices of non-NaT values\n",
    "                valid_indices = not_nat_indices[not_nat_indices].index\n",
    "            \n",
    "                # Access the first valid (non-NaT) value\n",
    "                issue_date = issue_date_df.loc[valid_indices[0]]\n",
    "                issue_date = issue_date.iloc[i]\n",
    "                \n",
    "            # Current date\n",
    "            date_t = prices.index[j]\n",
    "            \n",
    "            \n",
    "            # time to maturity at time t\n",
    "            time_to_maturity = time_to_maturities.iloc[j, i]\n",
    "\n",
    "            # actual ytm\n",
    "            ytm_t = yields.iloc[j, i]/100\n",
    "            \n",
    "            # Price at time t-1\n",
    "            price_t_minus_1 = prices.iloc[j-1, i]\n",
    "            \n",
    "            # Coupon at time t\n",
    "            coupons_t = coupons.iloc[j, i]/100\n",
    "            \n",
    "            # Params at time t - 1\n",
    "            params = loadings_df.iloc[j]\n",
    "            \n",
    "            # bond pricing at time t\n",
    "            try:\n",
    "                price_t = price_bond(prices.iloc[j, i], date_t, time_to_maturity, maturity_date, coupons_t, issue_date, params, ytm_t)\n",
    "            except Exception as e:\n",
    "                print(f\"Error pricing bond at ({j}, {i}): {e}\")\n",
    "                rolldown_returns.iloc[j, i] = np.nan\n",
    "                continue\n",
    "            \n",
    "            # Compute rolldown return\n",
    "            rolldown_returns.iloc[j, i] = (price_t / price_t_minus_1) - 1\n",
    "            rolldown_prices.iloc[j, i] = price_t\n",
    "            \n",
    "    return rolldown_returns, rolldown_prices"
   ],
   "id": "c2bba11b1cc2894a",
   "outputs": [],
   "execution_count": 931
  },
  {
   "metadata": {
    "ExecuteTime": {
     "end_time": "2024-11-23T13:39:15.840391Z",
     "start_time": "2024-11-23T13:38:40.572018Z"
    }
   },
   "cell_type": "code",
   "source": "rolldown, rolldown_price = compute_rolldown(yields, prices, time_to_maturities, coupons, maturities_dates, issue_dates, loadings_df)",
   "id": "73b2f51c8b07c111",
   "outputs": [],
   "execution_count": 932
  },
  {
   "metadata": {
    "ExecuteTime": {
     "end_time": "2024-11-23T12:40:04.284228Z",
     "start_time": "2024-11-23T12:40:04.057485Z"
    }
   },
   "cell_type": "code",
   "source": [
    "systematic_returns = rolldown + carry\n",
    "idio_returns = gross_returns - systematic_returns"
   ],
   "id": "d3f9915bce8b645f",
   "outputs": [],
   "execution_count": 913
  },
  {
   "metadata": {},
   "cell_type": "markdown",
   "source": "## Rolling Regression",
   "id": "b937f5be08ea83ae"
  },
  {
   "metadata": {
    "ExecuteTime": {
     "end_time": "2024-11-23T12:40:05.794798Z",
     "start_time": "2024-11-23T12:40:05.787351Z"
    }
   },
   "cell_type": "code",
   "source": [
    "import statsmodels.api as sm\n",
    "\n",
    "def rolling_regression(returns, systematic_returns, window_size=252):\n",
    "    \n",
    "    # Initialize data structures to store loadings\n",
    "    loading_dataset = pd.DataFrame(index=returns.index[window_size:], columns=returns.columns[1:])\n",
    "    alpha_dataset = pd.DataFrame(index=returns.index[window_size:], columns=returns.columns[1:])\n",
    "    \n",
    "    # Iterate over each asset (column in `returns`)\n",
    "    for col in systematic_returns.columns[1:]:\n",
    "        y = returns[col]\n",
    "        x = systematic_returns[col]\n",
    "        # Perform rolling window regression\n",
    "        for i in range(window_size, len(returns)):\n",
    "            \n",
    "            # Handle Nans\n",
    "            if pd.isna(returns.loc[returns.index[i], col]):\n",
    "                loading_dataset.loc[returns.index[i], col] = np.nan\n",
    "                alpha_dataset.loc[returns.index[i], col] = np.nan\n",
    "                variance_explained.loc[returns.index[i], col] = np.nan\n",
    "                continue\n",
    "                    \n",
    "            # Select rolling window data\n",
    "            y_window = y.iloc[i - window_size:i].dropna()\n",
    "            X_window = x.iloc[i - window_size:i].dropna()\n",
    "            X_window = sm.add_constant(X_window)\n",
    "            # Ensure all columns in X_window are numeric\n",
    "            X_window = X_window.apply(pd.to_numeric, errors=\"coerce\")\n",
    "            # ensure both windows have same dimension        \n",
    "            common_index = y_window.index.intersection(X_window.index)\n",
    "            y_window = y_window.loc[common_index]\n",
    "            X_window = X_window.loc[common_index]\n",
    "            \n",
    "            # Handle Nans if window length is not enough to perform the regression\n",
    "            if y_window.shape[0] < window_size * 0.5:\n",
    "                loading_dataset.loc[returns.index[i], col] = np.nan\n",
    "                alpha_dataset.loc[returns.index[i], col] = np.nan\n",
    "                variance_explained.loc[returns.index[i], col] = np.nan\n",
    "                continue\n",
    "            \n",
    "            # Ensure all columns in X_window are numeric\n",
    "            X_window = X_window.apply(pd.to_numeric, errors=\"coerce\")\n",
    "            \n",
    "            # Perform regression\n",
    "            model = sm.OLS(y_window, X_window).fit()\n",
    "\n",
    "            # Store coefficients for each factor\n",
    "            alpha_dataset.loc[returns.index[i], col] = model.params[0]\n",
    "            loading_dataset.loc[returns.index[i], col] = model.params[1]\n",
    "            \n",
    "    return loading_dataset, alpha_dataset"
   ],
   "id": "24dbc3593302dcde",
   "outputs": [],
   "execution_count": 914
  },
  {
   "metadata": {
    "ExecuteTime": {
     "end_time": "2024-11-23T12:42:18.396347Z",
     "start_time": "2024-11-23T12:40:09.084998Z"
    }
   },
   "cell_type": "code",
   "source": "loading_datasets, alpha_dataset = rolling_regression(gross_returns, systematic_returns)",
   "id": "1cb5de6a09fb8198",
   "outputs": [],
   "execution_count": 915
  },
  {
   "metadata": {
    "ExecuteTime": {
     "end_time": "2024-11-23T12:42:24.552060Z",
     "start_time": "2024-11-23T12:42:24.526657Z"
    }
   },
   "cell_type": "code",
   "source": "loading_datasets.mean().mean()",
   "id": "c8bc94c73a0f0f2",
   "outputs": [
    {
     "data": {
      "text/plain": [
       "0.9977525219525112"
      ]
     },
     "execution_count": 917,
     "metadata": {},
     "output_type": "execute_result"
    }
   ],
   "execution_count": 917
  }
 ],
 "metadata": {
  "kernelspec": {
   "display_name": "Python 3",
   "language": "python",
   "name": "python3"
  },
  "language_info": {
   "codemirror_mode": {
    "name": "ipython",
    "version": 2
   },
   "file_extension": ".py",
   "mimetype": "text/x-python",
   "name": "python",
   "nbconvert_exporter": "python",
   "pygments_lexer": "ipython2",
   "version": "2.7.6"
  }
 },
 "nbformat": 4,
 "nbformat_minor": 5
}
