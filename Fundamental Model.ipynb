{
 "cells": [
  {
   "cell_type": "code",
   "id": "initial_id",
   "metadata": {
    "collapsed": true,
    "ExecuteTime": {
     "end_time": "2024-11-20T09:41:12.685502Z",
     "start_time": "2024-11-20T09:41:12.018778Z"
    }
   },
   "source": [
    "import pandas as pd\n",
    "import numpy as np\n",
    "from sympy.abc import alpha"
   ],
   "outputs": [],
   "execution_count": 108
  },
  {
   "metadata": {
    "ExecuteTime": {
     "end_time": "2024-11-20T09:41:12.895980Z",
     "start_time": "2024-11-20T09:41:12.690139Z"
    }
   },
   "cell_type": "code",
   "source": "data = pd.read_parquet('/Users/vittoriomanfriani/Desktop/bonds_us.pq')",
   "id": "e61ad66fab5fb242",
   "outputs": [],
   "execution_count": 109
  },
  {
   "metadata": {
    "ExecuteTime": {
     "end_time": "2024-11-20T09:41:12.939637Z",
     "start_time": "2024-11-20T09:41:12.934683Z"
    }
   },
   "cell_type": "code",
   "source": [
    "data = data[:50000]\n",
    "data.head()"
   ],
   "id": "ac3b8596af608918",
   "outputs": [
    {
     "data": {
      "text/plain": [
       "                              price  yield  dv01  coupon   maturity\n",
       "timestamp  id                                                      \n",
       "2000-01-03 US912810BU17  100.812500  5.895   NaN   8.250 2005-05-15\n",
       "           US912810BX55  101.625000  6.781   NaN   7.625 2007-02-15\n",
       "           US912810BZ04  102.734375  6.803   NaN   7.875 2007-11-15\n",
       "           US912810CC00  104.968750  6.797   NaN   8.375 2008-08-15\n",
       "           US912810CE65  106.453125  6.817   NaN   8.750 2008-11-15"
      ],
      "text/html": [
       "<div>\n",
       "<style scoped>\n",
       "    .dataframe tbody tr th:only-of-type {\n",
       "        vertical-align: middle;\n",
       "    }\n",
       "\n",
       "    .dataframe tbody tr th {\n",
       "        vertical-align: top;\n",
       "    }\n",
       "\n",
       "    .dataframe thead th {\n",
       "        text-align: right;\n",
       "    }\n",
       "</style>\n",
       "<table border=\"1\" class=\"dataframe\">\n",
       "  <thead>\n",
       "    <tr style=\"text-align: right;\">\n",
       "      <th></th>\n",
       "      <th></th>\n",
       "      <th>price</th>\n",
       "      <th>yield</th>\n",
       "      <th>dv01</th>\n",
       "      <th>coupon</th>\n",
       "      <th>maturity</th>\n",
       "    </tr>\n",
       "    <tr>\n",
       "      <th>timestamp</th>\n",
       "      <th>id</th>\n",
       "      <th></th>\n",
       "      <th></th>\n",
       "      <th></th>\n",
       "      <th></th>\n",
       "      <th></th>\n",
       "    </tr>\n",
       "  </thead>\n",
       "  <tbody>\n",
       "    <tr>\n",
       "      <th rowspan=\"5\" valign=\"top\">2000-01-03</th>\n",
       "      <th>US912810BU17</th>\n",
       "      <td>100.812500</td>\n",
       "      <td>5.895</td>\n",
       "      <td>NaN</td>\n",
       "      <td>8.250</td>\n",
       "      <td>2005-05-15</td>\n",
       "    </tr>\n",
       "    <tr>\n",
       "      <th>US912810BX55</th>\n",
       "      <td>101.625000</td>\n",
       "      <td>6.781</td>\n",
       "      <td>NaN</td>\n",
       "      <td>7.625</td>\n",
       "      <td>2007-02-15</td>\n",
       "    </tr>\n",
       "    <tr>\n",
       "      <th>US912810BZ04</th>\n",
       "      <td>102.734375</td>\n",
       "      <td>6.803</td>\n",
       "      <td>NaN</td>\n",
       "      <td>7.875</td>\n",
       "      <td>2007-11-15</td>\n",
       "    </tr>\n",
       "    <tr>\n",
       "      <th>US912810CC00</th>\n",
       "      <td>104.968750</td>\n",
       "      <td>6.797</td>\n",
       "      <td>NaN</td>\n",
       "      <td>8.375</td>\n",
       "      <td>2008-08-15</td>\n",
       "    </tr>\n",
       "    <tr>\n",
       "      <th>US912810CE65</th>\n",
       "      <td>106.453125</td>\n",
       "      <td>6.817</td>\n",
       "      <td>NaN</td>\n",
       "      <td>8.750</td>\n",
       "      <td>2008-11-15</td>\n",
       "    </tr>\n",
       "  </tbody>\n",
       "</table>\n",
       "</div>"
      ]
     },
     "execution_count": 110,
     "metadata": {},
     "output_type": "execute_result"
    }
   ],
   "execution_count": 110
  },
  {
   "metadata": {
    "ExecuteTime": {
     "end_time": "2024-11-20T09:41:13.018237Z",
     "start_time": "2024-11-20T09:41:12.987670Z"
    }
   },
   "cell_type": "code",
   "source": [
    "# Convert 'maturity' to datetime\n",
    "data['maturity'] = pd.to_datetime(data['maturity'], errors='coerce')\n",
    "\n",
    "# Drop rows where the 'maturity' is NaT (missing)\n",
    "data = data.dropna(subset=['maturity'])\n",
    "\n",
    "# Compute time to maturity\n",
    "data.reset_index(inplace=True)\n",
    "data['time to maturity'] = (data['maturity'] - data['timestamp']) / pd.Timedelta(days=365.25)\n",
    "\n",
    "# Get time to maturities dataset\n",
    "maturities = data.pivot(index='timestamp', columns='id', values='time to maturity')\n",
    "maturities.head()\n",
    "\n",
    "# Get yield dataset\n",
    "yields = data.pivot(index='timestamp', columns='id', values='yield')"
   ],
   "id": "42bb31aff9a06f7e",
   "outputs": [],
   "execution_count": 111
  },
  {
   "metadata": {
    "ExecuteTime": {
     "end_time": "2024-11-20T09:41:13.114972Z",
     "start_time": "2024-11-20T09:41:13.039025Z"
    }
   },
   "cell_type": "code",
   "source": [
    "# Before proceeding we interpolate nans only if there is one consecutive\n",
    "\n",
    "# Function to check single NaN in each column\n",
    "def is_single_nan(series):\n",
    "    mask = series.isna()\n",
    "    # Single NaN is identified as a NaN surrounded by non-NaNs\n",
    "    return mask & ~mask.shift(1, fill_value=False) & ~mask.shift(-1, fill_value=False)\n",
    "\n",
    "# apply the function both to maturities and yields dataset\n",
    "\n",
    "# Mask for single NaNs\n",
    "single_nan_mask_maturities = maturities.apply(is_single_nan)\n",
    "single_nan_mask_yields = yields.apply(is_single_nan)\n",
    "\n",
    "maturities = maturities.where(~single_nan_mask_maturities, maturities.interpolate(method='linear', limit=1, axis=0))\n",
    "yields = yields.where(~single_nan_mask_yields, yields.interpolate(method='linear', limit=1, axis=0))"
   ],
   "id": "62558e4800db04ad",
   "outputs": [],
   "execution_count": 112
  },
  {
   "metadata": {
    "ExecuteTime": {
     "end_time": "2024-11-20T09:41:13.120239Z",
     "start_time": "2024-11-20T09:41:13.118043Z"
    }
   },
   "cell_type": "code",
   "source": [
    "# Apply Nelson-Siegel Model\n",
    "def nelson_siegel(params, maturities, lambd_1):\n",
    "    beta0, beta1, beta2 = params\n",
    "    t = maturities\n",
    "    alpha_1 = (1 - np.exp(-t/lambd_1))/(t/lambd_1)\n",
    "    alpha_2 = (1 - np.exp(-t/lambd_1))/(t/lambd_1) - np.exp(-t/lambd_1)\n",
    "    return beta0 + beta1 * alpha_1 + beta2 * alpha_2"
   ],
   "id": "96d8560b652a9e17",
   "outputs": [],
   "execution_count": 113
  },
  {
   "metadata": {
    "ExecuteTime": {
     "end_time": "2024-11-20T09:41:13.152196Z",
     "start_time": "2024-11-20T09:41:13.150438Z"
    }
   },
   "cell_type": "code",
   "source": [
    "# Error function to minimize to find optimal params\n",
    "def error_function(params, maturities, data, lambd):\n",
    "    data_hat = nelson_siegel(params, maturities, lambd)\n",
    "    return np.sum((data - data_hat) ** 2)"
   ],
   "id": "1da04d021484daf1",
   "outputs": [],
   "execution_count": 114
  },
  {
   "metadata": {
    "ExecuteTime": {
     "end_time": "2024-11-20T09:54:10.346467Z",
     "start_time": "2024-11-20T09:54:10.337955Z"
    }
   },
   "cell_type": "code",
   "source": [
    "# Apply Nelson-Siegel Model to the dataset\n",
    "from scipy.optimize import minimize\n",
    "\n",
    "def apply_nelson_siegel(yields, maturities, lambdas=[1.37, 3]):\n",
    "\n",
    "    # Store results in a DataFrame\n",
    "    fitted_results = []\n",
    "    initial_params = [0.03, -0.01, 0.01]  # Initial guess for beta parameters\n",
    "\n",
    "    for i in range(yields.shape[0]):\n",
    "        date = yields.index[i]\n",
    "        current_yields = yields.iloc[i].dropna()\n",
    "        current_maturities = maturities.iloc[i].dropna()\n",
    "\n",
    "        best_loss = float(\"inf\")\n",
    "        best_params = None\n",
    "        best_lambda = None\n",
    "\n",
    "        # Grid search over lambda\n",
    "        for lambd in lambdas:\n",
    "            result = minimize(\n",
    "                error_function,\n",
    "                initial_params,\n",
    "                args=(current_maturities, current_yields, lambd),  \n",
    "                method=\"L-BFGS-B\",\n",
    "                bounds=[(0, 10), (-10, 10), (-10, 10)] \n",
    "            )\n",
    "\n",
    "            # Update best parameters and lambda if this result is better\n",
    "            if result.fun < best_loss:\n",
    "                best_loss = result.fun\n",
    "                best_params = result.x\n",
    "                best_lambda = lambd\n",
    "\n",
    "        # Store results for the current date\n",
    "        fitted_results.append({\n",
    "            \"Date\": date,\n",
    "            \"Beta0 (Level)\": best_params[0],\n",
    "            \"Beta1 (Slope)\": best_params[1],\n",
    "            \"Beta2 (Curvature)\": best_params[2],\n",
    "            \"Lambda\": best_lambda, \n",
    "        })\n",
    "\n",
    "    # Convert results to a DataFrame\n",
    "    fitted_results_df = pd.DataFrame(fitted_results)\n",
    "\n",
    "    return fitted_results_df\n",
    "\n"
   ],
   "id": "6af7621b9f3020e1",
   "outputs": [],
   "execution_count": 146
  },
  {
   "metadata": {
    "ExecuteTime": {
     "end_time": "2024-11-20T09:54:24.700582Z",
     "start_time": "2024-11-20T09:54:13.337741Z"
    }
   },
   "cell_type": "code",
   "source": "params = apply_nelson_siegel(yields, maturities)",
   "id": "234e3a59e69b85dd",
   "outputs": [],
   "execution_count": 147
  },
  {
   "metadata": {
    "ExecuteTime": {
     "end_time": "2024-11-20T09:41:24.361186Z",
     "start_time": "2024-11-20T09:41:24.356316Z"
    }
   },
   "cell_type": "code",
   "source": "params",
   "id": "78d25fbeee2e713a",
   "outputs": [
    {
     "data": {
      "text/plain": [
       "          Date  Beta0 (Level)  Beta1 (Slope)  Beta2 (Curvature)  Lambda\n",
       "0   2000-01-03       6.899205      -1.374735           0.618918    1.37\n",
       "1   2000-01-04       6.787092      -1.312249           0.632898    1.37\n",
       "2   2000-01-05       6.872406      -1.385276           0.733912    1.37\n",
       "3   2000-01-06       6.802447      -1.258193           0.494145    1.37\n",
       "4   2000-01-07       6.796843      -1.195744           0.381980    1.37\n",
       "..         ...            ...            ...                ...     ...\n",
       "293 2001-02-16       6.054520      -1.089631          -1.946840    3.00\n",
       "294 2001-02-19       6.076977      -1.066402          -2.110652    3.00\n",
       "295 2001-02-20       5.771579      -0.479963          -2.607607    1.37\n",
       "296 2001-02-21       5.813703      -0.585876          -2.626928    1.37\n",
       "297 2001-02-22       5.866222      -0.640242          -2.888735    1.37\n",
       "\n",
       "[298 rows x 5 columns]"
      ],
      "text/html": [
       "<div>\n",
       "<style scoped>\n",
       "    .dataframe tbody tr th:only-of-type {\n",
       "        vertical-align: middle;\n",
       "    }\n",
       "\n",
       "    .dataframe tbody tr th {\n",
       "        vertical-align: top;\n",
       "    }\n",
       "\n",
       "    .dataframe thead th {\n",
       "        text-align: right;\n",
       "    }\n",
       "</style>\n",
       "<table border=\"1\" class=\"dataframe\">\n",
       "  <thead>\n",
       "    <tr style=\"text-align: right;\">\n",
       "      <th></th>\n",
       "      <th>Date</th>\n",
       "      <th>Beta0 (Level)</th>\n",
       "      <th>Beta1 (Slope)</th>\n",
       "      <th>Beta2 (Curvature)</th>\n",
       "      <th>Lambda</th>\n",
       "    </tr>\n",
       "  </thead>\n",
       "  <tbody>\n",
       "    <tr>\n",
       "      <th>0</th>\n",
       "      <td>2000-01-03</td>\n",
       "      <td>6.899205</td>\n",
       "      <td>-1.374735</td>\n",
       "      <td>0.618918</td>\n",
       "      <td>1.37</td>\n",
       "    </tr>\n",
       "    <tr>\n",
       "      <th>1</th>\n",
       "      <td>2000-01-04</td>\n",
       "      <td>6.787092</td>\n",
       "      <td>-1.312249</td>\n",
       "      <td>0.632898</td>\n",
       "      <td>1.37</td>\n",
       "    </tr>\n",
       "    <tr>\n",
       "      <th>2</th>\n",
       "      <td>2000-01-05</td>\n",
       "      <td>6.872406</td>\n",
       "      <td>-1.385276</td>\n",
       "      <td>0.733912</td>\n",
       "      <td>1.37</td>\n",
       "    </tr>\n",
       "    <tr>\n",
       "      <th>3</th>\n",
       "      <td>2000-01-06</td>\n",
       "      <td>6.802447</td>\n",
       "      <td>-1.258193</td>\n",
       "      <td>0.494145</td>\n",
       "      <td>1.37</td>\n",
       "    </tr>\n",
       "    <tr>\n",
       "      <th>4</th>\n",
       "      <td>2000-01-07</td>\n",
       "      <td>6.796843</td>\n",
       "      <td>-1.195744</td>\n",
       "      <td>0.381980</td>\n",
       "      <td>1.37</td>\n",
       "    </tr>\n",
       "    <tr>\n",
       "      <th>...</th>\n",
       "      <td>...</td>\n",
       "      <td>...</td>\n",
       "      <td>...</td>\n",
       "      <td>...</td>\n",
       "      <td>...</td>\n",
       "    </tr>\n",
       "    <tr>\n",
       "      <th>293</th>\n",
       "      <td>2001-02-16</td>\n",
       "      <td>6.054520</td>\n",
       "      <td>-1.089631</td>\n",
       "      <td>-1.946840</td>\n",
       "      <td>3.00</td>\n",
       "    </tr>\n",
       "    <tr>\n",
       "      <th>294</th>\n",
       "      <td>2001-02-19</td>\n",
       "      <td>6.076977</td>\n",
       "      <td>-1.066402</td>\n",
       "      <td>-2.110652</td>\n",
       "      <td>3.00</td>\n",
       "    </tr>\n",
       "    <tr>\n",
       "      <th>295</th>\n",
       "      <td>2001-02-20</td>\n",
       "      <td>5.771579</td>\n",
       "      <td>-0.479963</td>\n",
       "      <td>-2.607607</td>\n",
       "      <td>1.37</td>\n",
       "    </tr>\n",
       "    <tr>\n",
       "      <th>296</th>\n",
       "      <td>2001-02-21</td>\n",
       "      <td>5.813703</td>\n",
       "      <td>-0.585876</td>\n",
       "      <td>-2.626928</td>\n",
       "      <td>1.37</td>\n",
       "    </tr>\n",
       "    <tr>\n",
       "      <th>297</th>\n",
       "      <td>2001-02-22</td>\n",
       "      <td>5.866222</td>\n",
       "      <td>-0.640242</td>\n",
       "      <td>-2.888735</td>\n",
       "      <td>1.37</td>\n",
       "    </tr>\n",
       "  </tbody>\n",
       "</table>\n",
       "<p>298 rows × 5 columns</p>\n",
       "</div>"
      ]
     },
     "execution_count": 117,
     "metadata": {},
     "output_type": "execute_result"
    }
   ],
   "execution_count": 117
  },
  {
   "metadata": {
    "ExecuteTime": {
     "end_time": "2024-11-20T09:41:24.412110Z",
     "start_time": "2024-11-20T09:41:24.408296Z"
    }
   },
   "cell_type": "code",
   "source": [
    "# Same Function but using Ridge Approach\n",
    "\n",
    "# We define ridge error function as\n",
    "def ridge_error_function(params, maturities, data, lambd, alpha=0.1):\n",
    "    data_hat = nelson_siegel(params, maturities, lambd)\n",
    "    error = np.sum((data - data_hat) ** 2) \n",
    "    regularization = alpha * (params[0]**2 + params[1]**2 + params[2]**2) \n",
    "    return error + regularization\n",
    "\n",
    "# Apply Nelson-Siegel Model to the dataset\n",
    "def apply_nelson_siegel_ridge(yields, maturities, lambdas = [1.37, 3], alpha=0.1):\n",
    "    fitted_results = []\n",
    "    initial_params = [0.03, -0.01, 0.01] \n",
    "\n",
    "    for i in range(yields.shape[0]):\n",
    "        date = yields.index[i]\n",
    "        current_yields = yields.iloc[i].dropna()\n",
    "        current_maturities = maturities.iloc[i].dropna()\n",
    "\n",
    "        best_loss = float(\"inf\")\n",
    "        best_params = None\n",
    "        best_lambdas = None\n",
    "\n",
    "        # Grid Search over lambdas\n",
    "        for lambd in lambdas:\n",
    "            result = minimize(\n",
    "                ridge_error_function,\n",
    "                initial_params,\n",
    "                args=(current_maturities, current_yields, lambd, alpha),\n",
    "                method=\"L-BFGS-B\",\n",
    "                bounds=[(-10, 10), (-10, 10), (-10, 10)]  \n",
    "            )\n",
    "\n",
    "            if result.fun < best_loss:\n",
    "                best_loss = result.fun\n",
    "                best_params = result.x\n",
    "                best_lambdas = lambdas\n",
    "\n",
    "        # Store results\n",
    "        fitted_results.append({\n",
    "            \"Date\": date,\n",
    "            \"Beta0 (Level)\": best_params[0],\n",
    "            \"Beta1 (Slope)\": best_params[1],\n",
    "            \"Beta2 (Curvature)\": best_params[2],\n",
    "            \"Lambda 1\": best_lambdas[0],\n",
    "        })\n",
    "\n",
    "    # Convert results to a DataFrame\n",
    "    fitted_results_df = pd.DataFrame(fitted_results)\n",
    "    \n",
    "    return fitted_results_df"
   ],
   "id": "fad40d32dc2331d4",
   "outputs": [],
   "execution_count": 118
  },
  {
   "metadata": {
    "ExecuteTime": {
     "end_time": "2024-11-20T09:41:35.819662Z",
     "start_time": "2024-11-20T09:41:24.437564Z"
    }
   },
   "cell_type": "code",
   "source": "params_ridge = apply_nelson_siegel_ridge(yields, maturities)",
   "id": "1b282321938440af",
   "outputs": [],
   "execution_count": 119
  },
  {
   "metadata": {
    "ExecuteTime": {
     "end_time": "2024-11-20T09:41:35.863090Z",
     "start_time": "2024-11-20T09:41:35.854456Z"
    }
   },
   "cell_type": "code",
   "source": "params_ridge",
   "id": "ddf440ca89cdd62f",
   "outputs": [
    {
     "data": {
      "text/plain": [
       "          Date  Beta0 (Level)  Beta1 (Slope)  Beta2 (Curvature)  Lambda 1\n",
       "0   2000-01-03       6.880998      -1.348341           0.638807      1.37\n",
       "1   2000-01-04       6.769485      -1.286469           0.651189      1.37\n",
       "2   2000-01-05       6.855400      -1.358271           0.745936      1.37\n",
       "3   2000-01-06       6.783459      -1.233623           0.522518      1.37\n",
       "4   2000-01-07       6.776846      -1.172274           0.418286      1.37\n",
       "..         ...            ...            ...                ...       ...\n",
       "293 2001-02-16       5.960170      -1.032985          -1.621560      1.37\n",
       "294 2001-02-19       5.713831      -0.537237          -2.223354      1.37\n",
       "295 2001-02-20       5.723767      -0.482767          -2.349889      1.37\n",
       "296 2001-02-21       5.765387      -0.587638          -2.368639      1.37\n",
       "297 2001-02-22       5.815103      -0.643081          -2.613097      1.37\n",
       "\n",
       "[298 rows x 5 columns]"
      ],
      "text/html": [
       "<div>\n",
       "<style scoped>\n",
       "    .dataframe tbody tr th:only-of-type {\n",
       "        vertical-align: middle;\n",
       "    }\n",
       "\n",
       "    .dataframe tbody tr th {\n",
       "        vertical-align: top;\n",
       "    }\n",
       "\n",
       "    .dataframe thead th {\n",
       "        text-align: right;\n",
       "    }\n",
       "</style>\n",
       "<table border=\"1\" class=\"dataframe\">\n",
       "  <thead>\n",
       "    <tr style=\"text-align: right;\">\n",
       "      <th></th>\n",
       "      <th>Date</th>\n",
       "      <th>Beta0 (Level)</th>\n",
       "      <th>Beta1 (Slope)</th>\n",
       "      <th>Beta2 (Curvature)</th>\n",
       "      <th>Lambda 1</th>\n",
       "    </tr>\n",
       "  </thead>\n",
       "  <tbody>\n",
       "    <tr>\n",
       "      <th>0</th>\n",
       "      <td>2000-01-03</td>\n",
       "      <td>6.880998</td>\n",
       "      <td>-1.348341</td>\n",
       "      <td>0.638807</td>\n",
       "      <td>1.37</td>\n",
       "    </tr>\n",
       "    <tr>\n",
       "      <th>1</th>\n",
       "      <td>2000-01-04</td>\n",
       "      <td>6.769485</td>\n",
       "      <td>-1.286469</td>\n",
       "      <td>0.651189</td>\n",
       "      <td>1.37</td>\n",
       "    </tr>\n",
       "    <tr>\n",
       "      <th>2</th>\n",
       "      <td>2000-01-05</td>\n",
       "      <td>6.855400</td>\n",
       "      <td>-1.358271</td>\n",
       "      <td>0.745936</td>\n",
       "      <td>1.37</td>\n",
       "    </tr>\n",
       "    <tr>\n",
       "      <th>3</th>\n",
       "      <td>2000-01-06</td>\n",
       "      <td>6.783459</td>\n",
       "      <td>-1.233623</td>\n",
       "      <td>0.522518</td>\n",
       "      <td>1.37</td>\n",
       "    </tr>\n",
       "    <tr>\n",
       "      <th>4</th>\n",
       "      <td>2000-01-07</td>\n",
       "      <td>6.776846</td>\n",
       "      <td>-1.172274</td>\n",
       "      <td>0.418286</td>\n",
       "      <td>1.37</td>\n",
       "    </tr>\n",
       "    <tr>\n",
       "      <th>...</th>\n",
       "      <td>...</td>\n",
       "      <td>...</td>\n",
       "      <td>...</td>\n",
       "      <td>...</td>\n",
       "      <td>...</td>\n",
       "    </tr>\n",
       "    <tr>\n",
       "      <th>293</th>\n",
       "      <td>2001-02-16</td>\n",
       "      <td>5.960170</td>\n",
       "      <td>-1.032985</td>\n",
       "      <td>-1.621560</td>\n",
       "      <td>1.37</td>\n",
       "    </tr>\n",
       "    <tr>\n",
       "      <th>294</th>\n",
       "      <td>2001-02-19</td>\n",
       "      <td>5.713831</td>\n",
       "      <td>-0.537237</td>\n",
       "      <td>-2.223354</td>\n",
       "      <td>1.37</td>\n",
       "    </tr>\n",
       "    <tr>\n",
       "      <th>295</th>\n",
       "      <td>2001-02-20</td>\n",
       "      <td>5.723767</td>\n",
       "      <td>-0.482767</td>\n",
       "      <td>-2.349889</td>\n",
       "      <td>1.37</td>\n",
       "    </tr>\n",
       "    <tr>\n",
       "      <th>296</th>\n",
       "      <td>2001-02-21</td>\n",
       "      <td>5.765387</td>\n",
       "      <td>-0.587638</td>\n",
       "      <td>-2.368639</td>\n",
       "      <td>1.37</td>\n",
       "    </tr>\n",
       "    <tr>\n",
       "      <th>297</th>\n",
       "      <td>2001-02-22</td>\n",
       "      <td>5.815103</td>\n",
       "      <td>-0.643081</td>\n",
       "      <td>-2.613097</td>\n",
       "      <td>1.37</td>\n",
       "    </tr>\n",
       "  </tbody>\n",
       "</table>\n",
       "<p>298 rows × 5 columns</p>\n",
       "</div>"
      ]
     },
     "execution_count": 120,
     "metadata": {},
     "output_type": "execute_result"
    }
   ],
   "execution_count": 120
  },
  {
   "metadata": {
    "ExecuteTime": {
     "end_time": "2024-11-20T09:44:13.543615Z",
     "start_time": "2024-11-20T09:44:13.530945Z"
    }
   },
   "cell_type": "code",
   "source": [
    "# clean the dataset of factors\n",
    "factors_df = pd.DataFrame(index = params.Date)\n",
    "factors_df['Beta0 (Level)'] = np.array(params['Beta0 (Level)'])\n",
    "factors_df['Beta1 (Slope)'] = np.array(params['Beta1 (Slope)'])\n",
    "factors_df['Beta2 (Curvature)'] = np.array(params['Beta2 (Curvature)'])"
   ],
   "id": "9520b78ca256d94d",
   "outputs": [],
   "execution_count": 130
  },
  {
   "metadata": {
    "ExecuteTime": {
     "end_time": "2024-11-20T09:44:14.894100Z",
     "start_time": "2024-11-20T09:44:14.890474Z"
    }
   },
   "cell_type": "code",
   "source": [
    "# clean the dataset of factors from ridge model\n",
    "factors_df_ridge = pd.DataFrame(index = params.Date)\n",
    "factors_df_ridge['Beta0 (Level)'] = np.array(params_ridge['Beta0 (Level)'])\n",
    "factors_df_ridge['Beta1 (Slope)'] = np.array(params_ridge['Beta1 (Slope)'])\n",
    "factors_df_ridge['Beta2 (Curvature)'] = np.array(params_ridge['Beta2 (Curvature)'])"
   ],
   "id": "c106211c2da92ec",
   "outputs": [],
   "execution_count": 131
  },
  {
   "metadata": {
    "ExecuteTime": {
     "end_time": "2024-11-20T09:44:16.129885Z",
     "start_time": "2024-11-20T09:44:16.040303Z"
    }
   },
   "cell_type": "code",
   "source": [
    "# Get dataset of returns\n",
    "\n",
    "# First we get a dataset of prices\n",
    "prices = data.pivot(index='timestamp', columns='id', values='price')\n",
    "\n",
    "# Then we get a dataset of coupons\n",
    "coupons = data.pivot(index='timestamp', columns='id', values='coupon')\n",
    "\n",
    "# Before proceeding we interpolate nans only if there is one consecutive\n",
    "\n",
    "# apply the function both to prices and coupons dataset\n",
    "\n",
    "# Mask for single NaNs\n",
    "single_nan_mask_prices = coupons.apply(is_single_nan)\n",
    "single_nan_mask_coupons = prices.apply(is_single_nan)\n",
    "\n",
    "prices = prices.where(~single_nan_mask_prices, prices.interpolate(method='linear', limit=1, axis=0))\n",
    "coupons = coupons.where(~single_nan_mask_coupons, coupons.interpolate(method='linear', limit=1, axis=0))\n",
    "\n",
    "# Function to compute returns\n",
    "def compute_returns(prices, coupons):\n",
    "    # Get Daily Coupons\n",
    "    daily_coupons = coupons/365\n",
    "    \n",
    "    # compute returns with formula (R_(t, t+1) = P_(t+1) + c  - P_(t) / P(t))\n",
    "    returns = (prices + daily_coupons - prices.shift(1))/prices.shift(1)\n",
    "    \n",
    "    return returns * 100\n",
    "\n",
    "returns = compute_returns(prices,coupons)\n"
   ],
   "id": "93bd848a7f62d754",
   "outputs": [],
   "execution_count": 132
  },
  {
   "metadata": {
    "ExecuteTime": {
     "end_time": "2024-11-20T09:44:19.236496Z",
     "start_time": "2024-11-20T09:44:19.232961Z"
    }
   },
   "cell_type": "code",
   "source": [
    "# Align the factors dataset to the on of returns\n",
    "factors_df = factors_df.iloc[1:]\n",
    "factors_df_ridge = factors_df_ridge.iloc[1:]\n",
    "returns = returns.iloc[1:]"
   ],
   "id": "b83c1ff4f1dc8257",
   "outputs": [],
   "execution_count": 133
  },
  {
   "metadata": {
    "ExecuteTime": {
     "end_time": "2024-11-20T09:44:21.417558Z",
     "start_time": "2024-11-20T09:44:21.411456Z"
    }
   },
   "cell_type": "code",
   "source": [
    "import statsmodels.api as sm\n",
    "\n",
    "def rolling_regression(data, factors_df, window_size=252):\n",
    "    # Initialize data structures to store loadings\n",
    "    loading_datasets = {factor: pd.DataFrame(index=data.index[window_size:], columns=data.columns) \n",
    "                        for factor in ['const'] + list(factors_df.columns)}\n",
    "\n",
    "    # Iterate over each asset (column in `data`)\n",
    "    for col in data.columns:\n",
    "        y = data[col]\n",
    "        \n",
    "        # Perform rolling window regression\n",
    "        for i in range(window_size, len(data)):\n",
    "            \n",
    "            # Handle Nans\n",
    "            if pd.isna(data.loc[data.index[i], col]):\n",
    "                for factor in ['const'] + list(factors_df.columns):\n",
    "                    loading_datasets[factor].loc[data.index[i], col] = np.nan\n",
    "                continue\n",
    "                    \n",
    "            # Select rolling window data\n",
    "            y_window = y.iloc[i - window_size:i].dropna()\n",
    "            X_window = factors_df.iloc[i - window_size:i]\n",
    "            X_window = sm.add_constant(X_window)\n",
    "\n",
    "            # Handle Nans if window length is not enough to perform the regression\n",
    "            if y_window.shape[0] < window_size * 0.5:\n",
    "                for factor in ['const'] + list(factors_df.columns):\n",
    "                    loading_datasets[factor].loc[data.index[i], col] = np.nan\n",
    "                continue\n",
    "                    \n",
    "            X_window = X_window.loc[y_window.index]\n",
    "                    \n",
    "            # Perform regression\n",
    "            model = sm.OLS(y_window, X_window).fit()\n",
    "            \n",
    "            # Store coefficients for each factor\n",
    "            for factor, loading in model.params.items():\n",
    "                loading_datasets[factor].loc[data.index[i], col] = loading\n",
    "\n",
    "    # Convert each DataFrame to numeric (to handle NaNs properly)\n",
    "    for factor in loading_datasets:\n",
    "        loading_datasets[factor] = loading_datasets[factor].astype(float)\n",
    "\n",
    "    return loading_datasets"
   ],
   "id": "24dbc3593302dcde",
   "outputs": [],
   "execution_count": 134
  },
  {
   "metadata": {
    "ExecuteTime": {
     "end_time": "2024-11-20T09:44:34.264568Z",
     "start_time": "2024-11-20T09:44:28.471882Z"
    }
   },
   "cell_type": "code",
   "source": "loading_datasets = rolling_regression(returns, factors_df)",
   "id": "1cb5de6a09fb8198",
   "outputs": [],
   "execution_count": 135
  },
  {
   "metadata": {
    "ExecuteTime": {
     "end_time": "2024-11-20T09:44:40.835627Z",
     "start_time": "2024-11-20T09:44:35.331356Z"
    }
   },
   "cell_type": "code",
   "source": "loading_datasets_ridge = rolling_regression(returns, factors_df_ridge)",
   "id": "ba4def48879d3a95",
   "outputs": [],
   "execution_count": 136
  },
  {
   "metadata": {
    "ExecuteTime": {
     "end_time": "2024-11-20T09:44:43.201154Z",
     "start_time": "2024-11-20T09:44:43.196739Z"
    }
   },
   "cell_type": "code",
   "source": [
    "def factor_and_idio_returns(returns, loading_datasets):\n",
    "    \n",
    "    # get columns names\n",
    "    names = list(loading_datasets.keys())[1:]\n",
    "    \n",
    "    factor_returns = pd.DataFrame(index=loading_datasets[names[0]].index, columns=loading_datasets[names[0]].columns)\n",
    "    idio_returns = pd.DataFrame(index=loading_datasets[names[0]].index, columns=loading_datasets[names[0]].columns)\n",
    "    factor_returns.fillna(0, inplace=True)\n",
    "    idio_returns.fillna(0, inplace=True)\n",
    "    \n",
    "    # align the returns dataset\n",
    "    returns = returns.loc[factor_returns.index]\n",
    "\n",
    "    for name in names:\n",
    "        factor_returns += loading_datasets[name] * returns\n",
    "    \n",
    "    idio_returns = returns - factor_returns\n",
    "    \n",
    "    return factor_returns, idio_returns"
   ],
   "id": "311e49bd75689f96",
   "outputs": [],
   "execution_count": 137
  },
  {
   "metadata": {
    "ExecuteTime": {
     "end_time": "2024-11-20T09:45:03.130967Z",
     "start_time": "2024-11-20T09:45:03.095923Z"
    }
   },
   "cell_type": "code",
   "source": "factor_returns, idio_returns = factor_and_idio_returns(returns, loading_datasets)",
   "id": "f54980af18a4f5dd",
   "outputs": [],
   "execution_count": 138
  },
  {
   "metadata": {
    "ExecuteTime": {
     "end_time": "2024-11-20T09:45:04.241431Z",
     "start_time": "2024-11-20T09:45:04.212761Z"
    }
   },
   "cell_type": "code",
   "source": "factor_returns_ridge, idio_returns_ridge = factor_and_idio_returns(returns, loading_datasets_ridge)",
   "id": "dee0777be4fb6048",
   "outputs": [],
   "execution_count": 139
  },
  {
   "metadata": {
    "ExecuteTime": {
     "end_time": "2024-11-20T09:45:21.043476Z",
     "start_time": "2024-11-20T09:45:21.020835Z"
    }
   },
   "cell_type": "code",
   "source": "factor_returns_ridge.mean()",
   "id": "c049f8c2996d3636",
   "outputs": [
    {
     "data": {
      "text/plain": [
       "id\n",
       "US912810BU17         NaN\n",
       "US912810BX55   -0.199260\n",
       "US912810BZ04   -0.211686\n",
       "US912810CC00   -0.232697\n",
       "US912810CE65   -0.222488\n",
       "                  ...   \n",
       "US912827Z627    0.002407\n",
       "US912827Z882   -0.001752\n",
       "US912827ZE51         NaN\n",
       "US912827ZN50         NaN\n",
       "US912827ZX33   -0.000176\n",
       "Length: 199, dtype: float64"
      ]
     },
     "execution_count": 142,
     "metadata": {},
     "output_type": "execute_result"
    }
   ],
   "execution_count": 142
  },
  {
   "metadata": {
    "ExecuteTime": {
     "end_time": "2024-11-20T09:45:27.685202Z",
     "start_time": "2024-11-20T09:45:27.671337Z"
    }
   },
   "cell_type": "code",
   "source": "idio_returns_ridge.mean()",
   "id": "943edaeab527a324",
   "outputs": [
    {
     "data": {
      "text/plain": [
       "id\n",
       "US912810BU17         NaN\n",
       "US912810BX55    0.225477\n",
       "US912810BZ04    0.238109\n",
       "US912810CC00    0.261994\n",
       "US912810CE65    0.251028\n",
       "                  ...   \n",
       "US912827Z627    0.012923\n",
       "US912827Z882    0.026340\n",
       "US912827ZE51         NaN\n",
       "US912827ZN50         NaN\n",
       "US912827ZX33    0.013578\n",
       "Length: 199, dtype: float64"
      ]
     },
     "execution_count": 143,
     "metadata": {},
     "output_type": "execute_result"
    }
   ],
   "execution_count": 143
  }
 ],
 "metadata": {
  "kernelspec": {
   "display_name": "Python 3",
   "language": "python",
   "name": "python3"
  },
  "language_info": {
   "codemirror_mode": {
    "name": "ipython",
    "version": 2
   },
   "file_extension": ".py",
   "mimetype": "text/x-python",
   "name": "python",
   "nbconvert_exporter": "python",
   "pygments_lexer": "ipython2",
   "version": "2.7.6"
  }
 },
 "nbformat": 4,
 "nbformat_minor": 5
}
